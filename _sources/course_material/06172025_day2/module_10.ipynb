{
 "cells": [
  {
   "cell_type": "markdown",
   "metadata": {},
   "source": [
    "# Image Filtering & Processing"
   ]
  },
  {
   "cell_type": "markdown",
   "metadata": {},
   "source": [
    "---\n",
    "## Learning Objectives\n",
    "By the end of this module, learners will be able to:\n",
    "- Understand the concept of convolution in image processing.\n",
    "- Apply basic image filters such as Gaussian, Median, and Sobel.\n",
    "- Differentiate between smoothing and edge detection operations.\n",
    "- Implement filtering techniques using Python and scikit-image or OpenCV.\n",
    "- Analyze the effect of different filters on biological images."
   ]
  },
  {
   "cell_type": "markdown",
   "metadata": {},
   "source": [
    "---\n",
    "## Convolution\n",
    "**What is convolution?**\n",
    "\n",
    "**Convolution** is a mathematical operation used to apply filters to images. A small matrix (called a kernel) slides over the image and performs a weighted sum of the pixel values.\n",
    "\n",
    "**Why is it important in bioimage analysis?**\n",
    "Convolution enables operations such as smoothing (denoising) and edge detection, crucial for preparing images for further analysis (e.g., segmentation).\n",
    "\n",
    "**Key terms:**\n",
    "- **Kernel/Filter:** Small matrix for transformation\n",
    "- **Stride:** Step size of the kernel movement\n",
    "- **Padding:** How image borders are handled"
   ]
  },
  {
   "cell_type": "markdown",
   "metadata": {},
   "source": [
    "---\n",
    "## Image Filtering Techniques"
   ]
  },
  {
   "cell_type": "markdown",
   "metadata": {},
   "source": [
    "### Gaussian Filter\n",
    "\n",
    "- **Purpose:** Smoothes the image and reduces noise.\n",
    "- **Mechanism:** Applies a weighted average using a Gaussian kernel.\n",
    "- **Typical use in microscopy:** Denoising fluorescence images."
   ]
  },
  {
   "cell_type": "markdown",
   "metadata": {},
   "source": [
    "### Median Filter\n",
    "- **Purpose:** Removes salt-and-pepper noise.\n",
    "- **Mechanism:** Replaces each pixel with the median of its neighbors.\n",
    "- **Useful for:** Spot noise in confocal or light sheet microscopy."
   ]
  },
  {
   "cell_type": "markdown",
   "metadata": {},
   "source": [
    "### Sobel Filter\n",
    "- **Purpose:** Detects edges by finding intensity gradients.\n",
    "- **Mechanism:** Uses horizontal and vertical kernels to detect changes in intensity.\n",
    "- **Applications:** Cell membrane or nucleus boundary detection."
   ]
  },
  {
   "cell_type": "markdown",
   "metadata": {},
   "source": [
    "---\n",
    "## Hands-On Coding"
   ]
  },
  {
   "cell_type": "code",
   "execution_count": null,
   "metadata": {
    "vscode": {
     "languageId": "plaintext"
    }
   },
   "outputs": [],
   "source": [
    "from skimage import io, filters, restoration\n",
    "from skimage.filters import sobel, gaussian, median\n",
    "from skimage.morphology import disk\n",
    "import matplotlib.pyplot as plt\n",
    "\n",
    "# Load sample microscopy image\n",
    "image = io.imread('https://imagej.nih.gov/ij/images/hela-cells.tif')\n",
    "\n",
    "# Apply Gaussian filter\n",
    "gaussian_filtered = gaussian(image, sigma=2)\n",
    "\n",
    "# Apply Median filter\n",
    "median_filtered = median(image, disk(3))\n",
    "\n",
    "# Apply Sobel filter\n",
    "sobel_edges = sobel(image)\n",
    "\n",
    "# Show all results\n",
    "fig, axes = plt.subplots(1, 4, figsize=(16, 5))\n",
    "titles = ['Original', 'Gaussian', 'Median', 'Sobel Edges']\n",
    "images = [image, gaussian_filtered, median_filtered, sobel_edges]\n",
    "\n",
    "for ax, img, title in zip(axes, images, titles):\n",
    "    ax.imshow(img, cmap='gray')\n",
    "    ax.set_title(title)\n",
    "    ax.axis('off')\n",
    "\n",
    "plt.tight_layout()\n",
    "plt.show()"
   ]
  },
  {
   "cell_type": "markdown",
   "metadata": {},
   "source": [
    "---\n",
    "### Exercises\n",
    "**Experiment with Kernel Sizes:**\n",
    "- Change the sigma for Gaussian (e.g., 1, 2, 3).\n",
    "- Try different disk sizes in Median filter.\n",
    "\n",
    "**Apply Filters to Your Own Image:**\n",
    "- Use your own microscopy image and try all three filters.\n",
    "- Compare noise removal and edge clarity.\n",
    "\n",
    "**Visualize Edges Before and After Smoothing:**\n",
    "- Apply Sobel edge detection before and after Gaussian filtering.\n",
    "- Observe differences in edge detection."
   ]
  },
  {
   "cell_type": "markdown",
   "metadata": {},
   "source": [
    "---\n",
    "## Mini Project – Preprocessing Cell Images for Segmentation\n",
    "**Goal:** Prepare noisy HeLa cell images for segmentation by applying a combination of filters.\n",
    "\n",
    "**Tasks:**\n",
    "- Load a noisy HeLa cell image.\n",
    "- Denoise the image using both Gaussian and Median filters.\n",
    "- Apply the Sobel filter to detect cell boundaries.\n",
    "- Compare the quality of boundaries in the original vs. filtered images.\n",
    "- Write a brief comment on which combination of filters worked best."
   ]
  },
  {
   "cell_type": "markdown",
   "metadata": {},
   "source": [
    "---\n",
    "## Summary\n",
    "| **Topic**       | **Key Concept**                                     | **Python Function**                 | **Use Case in Microscopy**                  |\n",
    "| --------------- | --------------------------------------------------- | ----------------------------------- | ------------------------------------------- |\n",
    "| Convolution     | Applies a kernel to image via element-wise ops      | `filters.gaussian`, `filters.sobel` | General filtering and transformations       |\n",
    "| Gaussian Filter | Blurs image using Gaussian weights                  | `filters.gaussian(image, sigma)`    | Denoising fluorescent or blurry images      |\n",
    "| Median Filter   | Replaces each pixel with median of its neighborhood | `filters.median(image, disk(size))` | Removing salt-and-pepper noise              |\n",
    "| Sobel Filter    | Highlights intensity changes (edges)                | `filters.sobel(image)`              | Detecting structures, membranes, boundaries |\n"
   ]
  }
 ],
 "metadata": {
  "language_info": {
   "name": "python"
  }
 },
 "nbformat": 4,
 "nbformat_minor": 2
}
