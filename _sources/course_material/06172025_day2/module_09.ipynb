{
 "cells": [
  {
   "cell_type": "markdown",
   "metadata": {},
   "source": [
    "# Visualizing Images in Python"
   ]
  },
  {
   "cell_type": "markdown",
   "metadata": {},
   "source": [
    "---\n",
    "## Learning Objectives\n",
    "By the end of this module, participants will be able to:\n",
    "- Understand how images are represented and visualized using matplotlib.imshow.\n",
    "- Use napari for interactive image and mask visualization.\n",
    "- Overlay segmentation masks and adjust contrast to enhance visual clarity.\n",
    "- Apply these tools to interpret bioimage analysis results."
   ]
  },
  {
   "cell_type": "markdown",
   "metadata": {},
   "source": [
    "---\n",
    "## Introduction to `matplotlib.imshow`\n",
    "`matplotlib.pyplot.imshow` is a basic yet powerful way to visualize images in Python. It converts NumPy arrays (which often represent image data) into 2D or 3D visual outputs.\n",
    "- Image data is typically stored as a 2D array (grayscale) or 3D array (RGB or multi-channel).\n",
    "- imshow maps pixel values to colors using colormaps.\n",
    "- It allows for scaling, interpolation, and applying different colormaps to enhance contrast or highlight features.\n",
    "\n",
    "**Key Parameters:**\n",
    "- `cmap`: Set to 'gray' for grayscale, 'viridis', 'magma', etc., for color maps.\n",
    "- `vmin`, `vmax`: Used to control contrast by setting the min/max pixel values.\n",
    "- `interpolation`: Controls how pixel values are interpolated ('none', 'nearest', etc.)."
   ]
  },
  {
   "cell_type": "markdown",
   "metadata": {},
   "source": [
    "### Hands-on Coding"
   ]
  },
  {
   "cell_type": "code",
   "execution_count": null,
   "metadata": {
    "vscode": {
     "languageId": "plaintext"
    }
   },
   "outputs": [],
   "source": [
    "import numpy as np\n",
    "import matplotlib.pyplot as plt\n",
    "from skimage import data\n",
    "\n",
    "# Load sample image\n",
    "image = data.camera()  # grayscale image\n",
    "\n",
    "plt.figure(figsize=(6, 6))\n",
    "plt.imshow(image, cmap='gray')\n",
    "plt.title(\"Grayscale Image using matplotlib\")\n",
    "plt.axis('off')\n",
    "plt.show()"
   ]
  },
  {
   "cell_type": "markdown",
   "metadata": {},
   "source": [
    "*Try changing cmap to 'magma' or adjusting `vmin` and `vmax`.*"
   ]
  },
  {
   "cell_type": "markdown",
   "metadata": {},
   "source": [
    "### Exercise\n",
    "- Load the coins image from skimage.data.\n",
    "- Display it using:\n",
    "    - A grayscale colormap.\n",
    "    - A false color map ('plasma').\n",
    "    - Custom contrast settings (vmin, vmax).\n",
    "\n",
    "*Discuss: Which visualization helps you best separate foreground from background?*"
   ]
  },
  {
   "cell_type": "markdown",
   "metadata": {},
   "source": [
    "---\n",
    "## Introduction to napari\n",
    "napari is a fast, interactive, multi-dimensional image viewer for Python. It supports:\n",
    "- 2D, 3D, and time-series images.\n",
    "- Viewing raw images and masks simultaneously.\n",
    "- Interactive contrast adjustment, zooming, and layer management.\n",
    "- It is particularly useful for microscopy images and segmentation tasks."
   ]
  },
  {
   "cell_type": "code",
   "execution_count": null,
   "metadata": {
    "vscode": {
     "languageId": "plaintext"
    }
   },
   "outputs": [],
   "source": [
    "import napari\n",
    "from skimage import data\n",
    "\n",
    "image = data.cells3d()[:, 1, :, :]  # 3D stack, one channel\n",
    "\n",
    "viewer = napari.view_image(image, name='Cell nuclei', colormap='gray')\n",
    "napari.run()"
   ]
  },
  {
   "cell_type": "markdown",
   "metadata": {},
   "source": [
    "*Note: Run this in a Jupyter Notebook or Python script, not inside IPython terminals like Colab.*"
   ]
  },
  {
   "cell_type": "markdown",
   "metadata": {},
   "source": [
    "### Exercise\n",
    "- Load the `astronaut` image from `skimage.data`.\n",
    "- Convert it to grayscale and visualize in `napari`.\n",
    "- Experiment with zoom, contrast sliders, and layer visibility."
   ]
  },
  {
   "cell_type": "markdown",
   "metadata": {},
   "source": [
    "---\n",
    "## Overlaying Masks & Adjusting Contrast\n",
    "In bioimage analysis, visualizing segmentation results involves overlaying label/mask images on top of raw images.\n",
    "- Masks are typically integer arrays where each value corresponds to a segmented region.\n",
    "- Overlays help verify segmentation accuracy.\n",
    "- Adjusting contrast enhances interpretability, especially for low-intensity features."
   ]
  },
  {
   "cell_type": "markdown",
   "metadata": {},
   "source": [
    "**Overlay Options:**\n",
    "- In `matplotlib`: use `imshow` twice with `alpha` blending.\n",
    "- In `napari`: add image and mask as separate layers."
   ]
  },
  {
   "cell_type": "code",
   "execution_count": null,
   "metadata": {
    "vscode": {
     "languageId": "plaintext"
    }
   },
   "outputs": [],
   "source": [
    "from skimage import data, filters, measure\n",
    "\n",
    "image = data.coins()\n",
    "threshold = filters.threshold_otsu(image)\n",
    "mask = image > threshold\n",
    "\n",
    "plt.figure(figsize=(8, 8))\n",
    "plt.imshow(image, cmap='gray')\n",
    "plt.imshow(mask, cmap='Reds', alpha=0.5)\n",
    "plt.title(\"Overlayed Mask on Original Image\")\n",
    "plt.axis('off')\n",
    "plt.show()"
   ]
  },
  {
   "cell_type": "markdown",
   "metadata": {},
   "source": [
    "### Exercise\n",
    "- Load the camera image.\n",
    "- Create a binary mask by thresholding the image at its mean intensity.\n",
    "- Overlay this mask on the original image using matplotlib.\n",
    "\n",
    "*Bonus: Visualize the same in napari using add_image and add_labels.*"
   ]
  },
  {
   "cell_type": "markdown",
   "metadata": {},
   "source": [
    "---\n",
    "## Mini Project: Visual Quality Control Dashboard for Segmentation\n",
    "**Goal:** Build a simple visual inspection tool for verifying segmentation masks on microscopy images.\n",
    "\n",
    "**Tasks:**\n",
    "- Load a stack of 2D images (e.g., slices from a 3D image or time-lapse).\n",
    "- For each slice:\n",
    "    - Apply a simple segmentation (e.g., threshold).\n",
    "    - Overlay the mask on the raw image.\n",
    "    - Display using either:\n",
    "        - `matplotlib` grid of images\n",
    "        - or `napari` with time slider\n",
    "\n",
    "Allow contrast adjustment for better visibility."
   ]
  },
  {
   "cell_type": "code",
   "execution_count": null,
   "metadata": {
    "vscode": {
     "languageId": "plaintext"
    }
   },
   "outputs": [],
   "source": [
    "from skimage import data, filters\n",
    "import napari\n",
    "\n",
    "# Load 3D image and threshold each slice\n",
    "image_stack = data.cells3d()[:, 1, :, :]  # Use one channel\n",
    "mask_stack = image_stack > filters.threshold_otsu(image_stack)\n",
    "\n",
    "viewer = napari.view_image(image_stack, name='Nuclei', colormap='gray')\n",
    "viewer.add_labels(mask_stack, name='Mask')\n",
    "napari.run()"
   ]
  },
  {
   "cell_type": "markdown",
   "metadata": {},
   "source": [
    "---\n",
    "## Module Summary\n",
    "| Topic               | Key Concept                                  | Tools Used             | Skills Gained                               |\n",
    "| ------------------- | -------------------------------------------- | ---------------------- | ------------------------------------------- |\n",
    "| `matplotlib.imshow` | Basic image display with contrast control    | `matplotlib`           | Plotting grayscale and colored images       |\n",
    "| `napari`            | Interactive visualization for 2D/3D/masks    | `napari`               | Layered image and label display, navigation |\n",
    "| Mask Overlay        | Combining images and masks with transparency | `matplotlib`, `napari` | Visual validation of segmentation output    |\n",
    "| Mini Project        | QC dashboard for segmentation                | Combined               | Batch processing, image/mask visualization  |\n"
   ]
  }
 ],
 "metadata": {
  "language_info": {
   "name": "python"
  }
 },
 "nbformat": 4,
 "nbformat_minor": 2
}
