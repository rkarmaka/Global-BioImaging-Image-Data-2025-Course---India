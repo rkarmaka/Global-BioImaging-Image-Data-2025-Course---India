{
 "cells": [
  {
   "cell_type": "markdown",
   "metadata": {},
   "source": [
    "# StarDist for Segmentation"
   ]
  },
  {
   "cell_type": "markdown",
   "metadata": {},
   "source": [
    "---\n",
    "## Learning Objectives\n",
    "By the end of this module, learners will be able to:\n",
    "- Understand what StarDist is and how it works conceptually.\n",
    "- Choose when to use StarDist vs. Cellpose for segmentation.\n",
    "- Perform segmentation using pre-trained StarDist models in Python.\n",
    "- Visualize and overlay segmentation results on microscopy images.\n",
    "- Identify and resolve common segmentation issues.\n",
    "- Apply StarDist to a real-world dataset in a mini project."
   ]
  },
  {
   "cell_type": "markdown",
   "metadata": {},
   "source": [
    "---\n",
    "## Stardist\n",
    "**StarDist** is a deep learning-based instance segmentation tool specifically designed for objects with star-convex shapes (e.g., nuclei). Instead of using pixel-wise masks, **StarDist** predicts each object as a star-convex polygon, defined by a set of radial distances from the center.\n",
    "\n",
    "**Key ideas:**\n",
    "- Designed for roundish or blob-like objects such as nuclei or cells.\n",
    "- Efficient and good at separating touching cells.\n",
    "- Outputs instance-wise masks, not just binary foreground-background.\n",
    "\n",
    "**Conceptual Illustration:**\n",
    "Each object is represented as a star-shaped polygon radiating out from the center, making it particularly well-suited to objects with roughly circular or elliptical morphology."
   ]
  },
  {
   "cell_type": "markdown",
   "metadata": {},
   "source": [
    "### Hands-on: StarDist Installation and Imports"
   ]
  },
  {
   "cell_type": "code",
   "execution_count": null,
   "metadata": {
    "vscode": {
     "languageId": "plaintext"
    }
   },
   "outputs": [],
   "source": [
    "# Install StarDist and dependencies (run once)\n",
    "!pip install stardist csbdeep\n",
    "\n",
    "# Imports\n",
    "from stardist.models import StarDist2D\n",
    "from csbdeep.utils import normalize\n",
    "from skimage.io import imread, imshow\n",
    "import matplotlib.pyplot as plt"
   ]
  },
  {
   "cell_type": "markdown",
   "metadata": {},
   "source": [
    "### When and Why to Use StarDist (vs. Cellpose)\n",
    "| Feature             | StarDist                           | Cellpose                             |\n",
    "| ------------------- | ---------------------------------- | ------------------------------------ |\n",
    "| Best for            | Star-shaped objects (e.g., nuclei) | Irregular shapes (e.g., whole cells) |\n",
    "| Output type         | Star-convex polygons               | Vector flow + mask                   |\n",
    "| Model tuning needed | Less for nucleus images            | Often more adaptable via scale       |\n",
    "| Example datasets    | Fluorescent nucleus images         | Cytoplasm, brightfield, mixed cells  |\n",
    "\n",
    "\n",
    "\n",
    "**Use StarDist if:**\n",
    "- You are segmenting nuclei or small, blob-like organelles.\n",
    "- You need high-quality instance segmentation.\n",
    "= Your objects are mostly round or elliptical."
   ]
  },
  {
   "cell_type": "markdown",
   "metadata": {},
   "source": [
    "### Hands-on: Load and Compare Sample Images"
   ]
  },
  {
   "cell_type": "code",
   "execution_count": null,
   "metadata": {
    "vscode": {
     "languageId": "plaintext"
    }
   },
   "outputs": [],
   "source": [
    "image = imread('https://raw.githubusercontent.com/stardist/stardist/master/examples/images/DSB2018/train/images/0002.tif')\n",
    "plt.figure(figsize=(6,6))\n",
    "plt.imshow(image, cmap='gray')\n",
    "plt.title(\"Sample Nucleus Image\")\n",
    "plt.axis('off')\n",
    "plt.show()"
   ]
  },
  {
   "cell_type": "markdown",
   "metadata": {},
   "source": [
    "## Run Segmentation and Overlay Predictions\n",
    "StarDist uses a pre-trained model (e.g., “2D_versatile_fluo”) to:\n",
    "- Normalize input\n",
    "- Predict polygons\n",
    "- Return label masks\n",
    "- The predicted instance masks can be overlaid on the original image for easy visual inspection.\n",
    "\n",
    "### Hands-on: Apply StarDist Segmentation"
   ]
  },
  {
   "cell_type": "code",
   "execution_count": null,
   "metadata": {
    "vscode": {
     "languageId": "plaintext"
    }
   },
   "outputs": [],
   "source": [
    "# Load pre-trained model\n",
    "model = StarDist2D.from_pretrained('2D_versatile_fluo')\n",
    "\n",
    "# Normalize image\n",
    "img_norm = normalize(image, 1, 99.8, axis=(0,1))\n",
    "\n",
    "# Run prediction\n",
    "labels, _ = model.predict_instances(img_norm)\n",
    "\n",
    "# Show result\n",
    "plt.figure(figsize=(12,6))\n",
    "plt.subplot(1,2,1)\n",
    "plt.imshow(image, cmap='gray')\n",
    "plt.title(\"Original\")\n",
    "plt.axis('off')\n",
    "\n",
    "plt.subplot(1,2,2)\n",
    "plt.imshow(image, cmap='gray')\n",
    "plt.imshow(labels, cmap='jet', alpha=0.5)\n",
    "plt.title(\"StarDist Segmentation Overlay\")\n",
    "plt.axis('off')\n",
    "plt.show()"
   ]
  },
  {
   "cell_type": "markdown",
   "metadata": {},
   "source": [
    "---\n",
    "## Troubleshooting Segmentations\n",
    "\n",
    "Common issues and fixes:\n",
    "- **Too many/few segments:** Try normalizing the input or applying Gaussian blur.\n",
    "- **Merging of touching cells:** StarDist usually handles this well; check normalization.\n",
    "- **Broken segment shapes:** May be due to background noise or unnormalized input.\n",
    "- **Model mismatch:** Try other pre-trained models or retrain if needed.\n",
    "\n",
    "### Hands-on: Troubleshooting Example"
   ]
  },
  {
   "cell_type": "code",
   "execution_count": null,
   "metadata": {
    "vscode": {
     "languageId": "plaintext"
    }
   },
   "outputs": [],
   "source": [
    "# Try with a poorly normalized version\n",
    "img_bad = image / 255.0  # Improper normalization\n",
    "labels_bad, _ = model.predict_instances(img_bad)\n",
    "\n",
    "# Compare with good normalization\n",
    "plt.figure(figsize=(12,6))\n",
    "plt.subplot(1,2,1)\n",
    "plt.imshow(labels_bad, cmap='jet')\n",
    "plt.title(\"Improper Normalization\")\n",
    "\n",
    "plt.subplot(1,2,2)\n",
    "plt.imshow(labels, cmap='jet')\n",
    "plt.title(\"Proper Normalization\")\n",
    "plt.show()"
   ]
  },
  {
   "cell_type": "markdown",
   "metadata": {},
   "source": [
    "### Exercise\n",
    "Segment this image and compare it with StarDist and Cellpose.\n",
    "\n",
    "**URL:** https://github.com/stardist/stardist/raw/master/examples/images/DSB2018/train/images/0006.tif\n",
    "\n",
    "**Tasks:**\n",
    "- Load the image.\n",
    "- Run StarDist segmentation.\n",
    "- Overlay predictions.\n",
    "- Note any challenges or artifacts."
   ]
  },
  {
   "cell_type": "markdown",
   "metadata": {},
   "source": [
    "---\n",
    "## Mini Project\n",
    "**Goal:** Segment nuclei in a real fluorescence microscopy image and export results.\n",
    "\n",
    "**Steps:**\n",
    "- Download a microscopy image from your own lab or from DSB 2018 dataset.\n",
    "- Apply proper normalization.\n",
    "- Use StarDist to generate instance masks.\n",
    "- Overlay masks on the original image.\n",
    "- Save the result as an image.\n",
    "- Export label data to a NumPy array or .tiff file for downstream analysis."
   ]
  },
  {
   "cell_type": "markdown",
   "metadata": {},
   "source": [
    "---\n",
    "## Module Summary\n",
    "\n",
    "| Topic                     | Key Concepts                                   | Skills Gained                                           |\n",
    "| ------------------------- | ---------------------------------------------- | ------------------------------------------------------- |\n",
    "| What is StarDist?         | Star-convex shapes, polygon-based segmentation | Understanding deep learning-based instance segmentation |\n",
    "| StarDist vs. Cellpose     | When to use which, pros/cons                   | Selecting appropriate tools for biological images       |\n",
    "| Run and visualize results | Model loading, normalization, overlays         | Applying StarDist to real images                        |\n",
    "| Troubleshooting           | Normalization, overlapping, background noise   | Diagnosing and correcting segmentation problems         |\n",
    "| Mini Project              | Full pipeline from image to labels             | Practical experience in bioimage analysis workflows     |\n"
   ]
  },
  {
   "cell_type": "markdown",
   "metadata": {},
   "source": []
  }
 ],
 "metadata": {
  "language_info": {
   "name": "python"
  }
 },
 "nbformat": 4,
 "nbformat_minor": 2
}
