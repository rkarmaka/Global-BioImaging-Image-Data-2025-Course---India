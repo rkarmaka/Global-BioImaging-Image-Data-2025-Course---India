{
 "cells": [
  {
   "cell_type": "markdown",
   "metadata": {},
   "source": [
    "# Feature extraction (intensity, morphological and spatial features)"
   ]
  },
  {
   "cell_type": "markdown",
   "metadata": {},
   "source": [
    "---\n",
    "## Learning Objectives\n",
    "By the end of this session, participants will be able to:\n",
    "- Understand what features are and why they are important for downstream analysis (e.g., classification, clustering).\n",
    "- Extract intensity-based, morphological, and spatial features from segmented images.\n",
    "- Use Python libraries such as scikit-image, numpy, and pandas for feature extraction.\n",
    "- Visualize and interpret feature tables.\n",
    "\n"
   ]
  },
  {
   "cell_type": "markdown",
   "metadata": {},
   "source": [
    "---\n",
    "## Feature Extraction\n",
    "Feature extraction converts segmented biological objects (like nuclei or cells) into measurable descriptors.\n",
    "\n",
    "- Intensity features: Brightness, contrast, mean/median intensity\n",
    "- Morphological features: Size, shape, circularity\n",
    "- Spatial features: Location, distance to neighbors or boundaries\n",
    "\n",
    "Think of it as converting a microscope image into a spreadsheet where:\n",
    "\n",
    "- Each row = one cell/object\n",
    "- Each column = one type of measurement (area, mean intensity, etc.)\n",
    "\n"
   ]
  },
  {
   "cell_type": "code",
   "execution_count": null,
   "metadata": {
    "vscode": {
     "languageId": "plaintext"
    }
   },
   "outputs": [],
   "source": [
    "import numpy as np\n",
    "import pandas as pd\n",
    "import matplotlib.pyplot as plt\n",
    "from skimage import io, measure, filters, morphology\n",
    "from skimage.segmentation import clear_border"
   ]
  },
  {
   "cell_type": "markdown",
   "metadata": {},
   "source": [
    "### Example:"
   ]
  },
  {
   "cell_type": "code",
   "execution_count": null,
   "metadata": {
    "vscode": {
     "languageId": "plaintext"
    }
   },
   "outputs": [],
   "source": [
    "image = io.imread('nuclei_raw.tif')\n",
    "mask = io.imread('nuclei_mask.tif')  # binary mask from segmentation\n",
    "\n",
    "plt.figure(figsize=(10, 5))\n",
    "plt.subplot(1, 2, 1)\n",
    "plt.imshow(image, cmap='gray')\n",
    "plt.title(\"Raw Image\")\n",
    "\n",
    "plt.subplot(1, 2, 2)\n",
    "plt.imshow(mask, cmap='gray')\n",
    "plt.title(\"Segmentation Mask\")\n",
    "plt.show()"
   ]
  },
  {
   "cell_type": "markdown",
   "metadata": {},
   "source": [
    "### Feature Extraction with `regionprops_table`\n",
    "Explanation:\n",
    "- `area`: number of pixels inside the object\n",
    "- `perimeter`: length of the object boundary\n",
    "- `eccentricity`: how elongated an object is\n",
    "- `solidity`: compactness of the object\n",
    "- `centroid`: (x, y) center\n",
    "- `mean_intensity`: average brightness inside the object"
   ]
  },
  {
   "cell_type": "code",
   "execution_count": null,
   "metadata": {
    "vscode": {
     "languageId": "plaintext"
    }
   },
   "outputs": [],
   "source": [
    "props = measure.regionprops_table(\n",
    "    mask,\n",
    "    intensity_image=image,\n",
    "    properties=[\n",
    "        'label',\n",
    "        'area',\n",
    "        'perimeter',\n",
    "        'eccentricity',\n",
    "        'solidity',\n",
    "        'centroid',\n",
    "        'mean_intensity',\n",
    "        'max_intensity',\n",
    "        'min_intensity'\n",
    "    ]\n",
    ")\n",
    "\n",
    "df = pd.DataFrame(props)\n",
    "df.head()"
   ]
  },
  {
   "cell_type": "markdown",
   "metadata": {},
   "source": [
    "### Visualizing Features"
   ]
  },
  {
   "cell_type": "code",
   "execution_count": null,
   "metadata": {
    "vscode": {
     "languageId": "plaintext"
    }
   },
   "outputs": [],
   "source": [
    "df['area'].plot(kind='hist', bins=20, title='Cell Size Distribution')\n",
    "plt.xlabel(\"Area (pixels)\")\n",
    "plt.show()\n",
    "\n",
    "plt.scatter(df['eccentricity'], df['mean_intensity'], c='purple')\n",
    "plt.xlabel(\"Eccentricity\")\n",
    "plt.ylabel(\"Mean Intensity\")\n",
    "plt.title(\"Shape vs Intensity\")\n",
    "plt.show()\n"
   ]
  },
  {
   "cell_type": "markdown",
   "metadata": {},
   "source": [
    "---\n",
    "## Mini Project: Feature Table & Filtering\n",
    "Goal: Identify the top 10 largest and brightest nuclei in an image.\n",
    "- Sort by area and mean intensity.\n",
    "- Filter out objects smaller than 100 pixels.\n",
    "- Export results to CSV."
   ]
  },
  {
   "cell_type": "markdown",
   "metadata": {},
   "source": []
  }
 ],
 "metadata": {
  "language_info": {
   "name": "python"
  }
 },
 "nbformat": 4,
 "nbformat_minor": 2
}
