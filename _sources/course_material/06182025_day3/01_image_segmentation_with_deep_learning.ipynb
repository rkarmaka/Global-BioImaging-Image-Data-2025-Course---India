{
 "cells": [
  {
   "cell_type": "markdown",
   "metadata": {},
   "source": [
    "# Image segmentation with deep learning (Cellpose, StarDist – object-based approaches)\n",
    "This session introduces object-based image segmentation using deep learning models specifically designed for microscopy images: Cellpose and StarDist. These models allow robust detection and segmentation of cells or nuclei in challenging microscopy datasets — without the need for training from scratch."
   ]
  },
  {
   "cell_type": "markdown",
   "metadata": {},
   "source": [
    "---\n",
    "## Learning Objectives\n",
    "By the end of this session, learners will:\n",
    "\n",
    "- Understand the principles of object-based segmentation.\n",
    "- Know the strengths and limitations of Cellpose and StarDist.\n",
    "- Use Cellpose and StarDist on real microscopy images using Python and Napari.\n",
    "- Evaluate and visualize segmentation outputs."
   ]
  },
  {
   "cell_type": "markdown",
   "metadata": {},
   "source": [
    "---\n",
    "## Concepts Covered\n",
    "| Topic                              | Description                                                                                         |\n",
    "| ---------------------------------- | --------------------------------------------------------------------------------------------------- |\n",
    "| What is object-based segmentation? | Segmenting individual objects (cells/nuclei) instead of pixel-wise labels.                          |\n",
    "| Why deep learning?                 | Traditional thresholding struggles with overlapping or blurry cells. Deep models generalize better. |\n",
    "| Cellpose                           | Generalist deep learning model for cells, nuclei, and more.                                         |\n",
    "| StarDist                           | Object detector based on star-convex polygons, great for nuclei with varying shapes.                |\n"
   ]
  },
  {
   "cell_type": "markdown",
   "metadata": {},
   "source": [
    "---\n",
    "## Setup\n",
    "**Install required packages**\n",
    "\n",
    "`pip install cellpose stardist tifffile`\n",
    "\n",
    "**Load image**\n",
    "```python\n",
    "from tifffile import imread\n",
    "\n",
    "image = imread('example_nuclei.tif')\n",
    "```"
   ]
  },
  {
   "cell_type": "code",
   "execution_count": null,
   "metadata": {
    "tags": [
     "hide-cell"
    ],
    "vscode": {
     "languageId": "plaintext"
    }
   },
   "outputs": [],
   "source": [
    "!pip install cellpose stardist tifffile"
   ]
  },
  {
   "cell_type": "code",
   "execution_count": null,
   "metadata": {
    "tags": [
     "hide-cell"
    ],
    "vscode": {
     "languageId": "plaintext"
    }
   },
   "outputs": [],
   "source": [
    "from tifffile import imread\n",
    "\n",
    "image = imread('example_nuclei.tif')"
   ]
  },
  {
   "cell_type": "markdown",
   "metadata": {},
   "source": [
    "## Cellpose\n",
    "\n",
    "**What is Cellpose?**\n",
    "Cellpose is a generalist deep learning model that can segment a wide variety of cell types and shapes — not just nuclei, but also cytoplasm and even bacteria or other small structures.\n",
    "\n",
    "**Key Features:**\n",
    "- Trained on thousands of manually segmented images.\n",
    "- Works with brightfield, fluorescence, and phase contrast images.\n",
    "- No need to retrain — pretrained models often just work out of the box.\n",
    "- Accepts grayscale or multi-channel input.\n",
    "- Can estimate object size automatically.\n",
    "\n",
    "You can think of Cellpose as a smart \"cell detector\" that adapts to many microscopy scenarios."
   ]
  },
  {
   "cell_type": "code",
   "execution_count": null,
   "metadata": {
    "vscode": {
     "languageId": "plaintext"
    }
   },
   "outputs": [],
   "source": [
    "from cellpose import models\n",
    "\n",
    "model = models.Cellpose(model_type='nuclei')  # or 'cyto' for cytoplasm\n",
    "masks, flows, styles, diams = model.eval(image, diameter=None, channels=[0,0])"
   ]
  },
  {
   "cell_type": "markdown",
   "metadata": {},
   "source": [
    "---\n",
    "## StarDist\n",
    "\n",
    "**What is StarDist?**\n",
    "StarDist takes a different approach. It models each object (typically a nucleus) as a star-convex polygon, a shape where all lines radiating from the center to the edge do not cross each other — perfect for round or slightly irregular nuclei.\n",
    "\n",
    "**Key Features:**\n",
    "- Excellent for segmenting touching or overlapping nuclei.\n",
    "- Very fast and accurate for fluorescence images.\n",
    "- Works best with nuclear shapes but can be adapted to other types.\n",
    "- Comes with pretrained models based on diverse datasets.\n",
    "\n",
    "StarDist is especially useful in high-throughput screens or histological images where accurate nuclear boundaries are needed."
   ]
  },
  {
   "cell_type": "code",
   "execution_count": null,
   "metadata": {
    "vscode": {
     "languageId": "plaintext"
    }
   },
   "outputs": [],
   "source": [
    "from stardist.models import StarDist2D\n",
    "from csbdeep.utils import normalize\n",
    "\n",
    "# Normalize image between 0 and 1\n",
    "img_norm = normalize(image, 1, 99.8)\n",
    "\n",
    "model = StarDist2D.from_pretrained('2D_versatile_fluo')\n",
    "labels, _ = model.predict_instances(img_norm)"
   ]
  },
  {
   "cell_type": "markdown",
   "metadata": {},
   "source": [
    "---\n",
    "## Mini Project: Segment Your Own Image!\n",
    "Task: Take a fluorescence microscopy image from your own experiment. Try both Cellpose and StarDist. Compare the masks visually in Napari.\n",
    "\n",
    "Steps:\n",
    "- Load your image using tifffile.imread\n",
    "- Run both segmentation methods\n",
    "- Visualize and toggle between segmentations\n",
    "- Take screenshots for later discussion"
   ]
  },
  {
   "cell_type": "markdown",
   "metadata": {},
   "source": []
  }
 ],
 "metadata": {
  "language_info": {
   "name": "python"
  }
 },
 "nbformat": 4,
 "nbformat_minor": 2
}
