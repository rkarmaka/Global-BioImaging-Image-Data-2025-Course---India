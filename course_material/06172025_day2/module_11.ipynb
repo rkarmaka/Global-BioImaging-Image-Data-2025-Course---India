{
 "cells": [
  {
   "cell_type": "markdown",
   "metadata": {},
   "source": [
    "# Threshold-Based Segmentation"
   ]
  },
  {
   "cell_type": "markdown",
   "metadata": {},
   "source": [
    "---\n",
    "## Learning Objectives\n",
    "By the end of this module, you will be able to:\n",
    "- Understand different thresholding techniques: fixed, mean, median, and Otsu’s method.\n",
    "- Apply these techniques to segment objects in grayscale images.\n",
    "- Generate binary masks from grayscale images.\n",
    "- Visually validate masks by overlaying them on the original image.\n",
    "- Implement and compare different thresholding strategies using Python."
   ]
  },
  {
   "cell_type": "markdown",
   "metadata": {},
   "source": [
    "---\n",
    "## Thresholding\n",
    "**Thresholding** is a simple and popular method for segmenting images by converting grayscale images into binary masks. It separates objects (usually brighter) from the background (usually darker).\n",
    "\n",
    "**Key Concept:**\n",
    "Given a grayscale image I, thresholding produces a binary image B such that:\n",
    "\n",
    "```python\n",
    "B[x, y] = 1 if I[x, y] > T else 0\n",
    "```\n",
    "\n",
    "*Where T is the threshold value.*"
   ]
  },
  {
   "cell_type": "markdown",
   "metadata": {},
   "source": [
    "### Types of Thresholds\n",
    "| Type       | Description                                                                 |\n",
    "| ---------- | --------------------------------------------------------------------------- |\n",
    "| **Fixed**  | You manually define a constant value `T`.                                   |\n",
    "| **Mean**   | Threshold `T` is computed as the average pixel intensity.                   |\n",
    "| **Median** | Threshold `T` is set to the median of all pixel intensities.                |\n",
    "| **Otsu’s** | Automatically finds `T` by maximizing separation between object/background. |"
   ]
  },
  {
   "cell_type": "markdown",
   "metadata": {},
   "source": [
    "### Binarization and Mask Creation\n",
    "Once thresholding is applied, we obtain a binary mask:\n",
    "- Pixel = 1 (white) → part of object (foreground)\n",
    "- Pixel = 0 (black) → background\n",
    "\n",
    "These masks are crucial for quantifying features, isolating structures, and further processing."
   ]
  },
  {
   "cell_type": "markdown",
   "metadata": {},
   "source": [
    "### Visual Validation Using Overlays\n",
    "To verify the segmentation, we overlay the binary mask on top of the original image.\n",
    "\n",
    "This helps to check if:\n",
    "- The segmented regions align with actual structures.\n",
    "- Background noise is included or excluded properly."
   ]
  },
  {
   "cell_type": "markdown",
   "metadata": {},
   "source": [
    "---\n",
    "## Hands-on Coding\n",
    "Let’s apply thresholding on a sample grayscale image.\n",
    "\n",
    "**Setup**"
   ]
  },
  {
   "cell_type": "code",
   "execution_count": null,
   "metadata": {},
   "outputs": [],
   "source": [
    "import numpy as np\n",
    "import matplotlib.pyplot as plt\n",
    "from skimage import data, filters, io, color\n",
    "\n",
    "image = data.coins()  # Sample grayscale image"
   ]
  },
  {
   "cell_type": "markdown",
   "metadata": {},
   "source": [
    "**Fixed Threshold**"
   ]
  },
  {
   "cell_type": "code",
   "execution_count": null,
   "metadata": {},
   "outputs": [],
   "source": [
    "fixed_T = 100\n",
    "binary_fixed = image > fixed_T"
   ]
  },
  {
   "cell_type": "markdown",
   "metadata": {},
   "source": [
    "**Mean Threshold**\n"
   ]
  },
  {
   "cell_type": "markdown",
   "metadata": {},
   "source": []
  },
  {
   "cell_type": "code",
   "execution_count": null,
   "metadata": {},
   "outputs": [],
   "source": [
    "mean_T = image.mean()\n",
    "binary_mean = image > mean_T"
   ]
  },
  {
   "cell_type": "markdown",
   "metadata": {},
   "source": [
    "**Median Threshold**"
   ]
  },
  {
   "cell_type": "code",
   "execution_count": 1,
   "metadata": {},
   "outputs": [
    {
     "ename": "NameError",
     "evalue": "name 'np' is not defined",
     "output_type": "error",
     "traceback": [
      "\u001b[31m---------------------------------------------------------------------------\u001b[39m",
      "\u001b[31mNameError\u001b[39m                                 Traceback (most recent call last)",
      "\u001b[36mCell\u001b[39m\u001b[36m \u001b[39m\u001b[32mIn[1]\u001b[39m\u001b[32m, line 1\u001b[39m\n\u001b[32m----> \u001b[39m\u001b[32m1\u001b[39m median_T = \u001b[43mnp\u001b[49m.median(image)\n\u001b[32m      2\u001b[39m binary_median = image > median_T\n",
      "\u001b[31mNameError\u001b[39m: name 'np' is not defined"
     ]
    }
   ],
   "source": [
    "median_T = np.median(image)\n",
    "binary_median = image > median_T"
   ]
  },
  {
   "cell_type": "markdown",
   "metadata": {},
   "source": [
    "**Otsu’s Threshold**"
   ]
  },
  {
   "cell_type": "code",
   "execution_count": 2,
   "metadata": {},
   "outputs": [
    {
     "ename": "SyntaxError",
     "evalue": "invalid syntax (402238255.py, line 1)",
     "output_type": "error",
     "traceback": [
      "  \u001b[36mCell\u001b[39m\u001b[36m \u001b[39m\u001b[32mIn[2]\u001b[39m\u001b[32m, line 1\u001b[39m\n\u001b[31m    \u001b[39m\u001b[31m**\u001b[39m\n    ^\n\u001b[31mSyntaxError\u001b[39m\u001b[31m:\u001b[39m invalid syntax\n"
     ]
    }
   ],
   "source": [
    "otsu_T = filters.threshold_otsu(image)\n",
    "binary_otsu = image > otsu_T"
   ]
  },
  {
   "cell_type": "markdown",
   "metadata": {},
   "source": [
    "**Visualization Helper Function**"
   ]
  },
  {
   "cell_type": "code",
   "execution_count": null,
   "metadata": {},
   "outputs": [],
   "source": [
    "def show_overlay(image, mask, title):\n",
    "    fig, ax = plt.subplots()\n",
    "    ax.imshow(image, cmap='gray')\n",
    "    ax.imshow(mask, cmap='Reds', alpha=0.3)\n",
    "    ax.set_title(title)\n",
    "    ax.axis('off')\n",
    "    plt.show()"
   ]
  },
  {
   "cell_type": "markdown",
   "metadata": {},
   "source": [
    "**Overlay Results**"
   ]
  },
  {
   "cell_type": "code",
   "execution_count": null,
   "metadata": {},
   "outputs": [],
   "source": [
    "show_overlay(image, binary_fixed, \"Fixed Threshold Overlay\")\n",
    "show_overlay(image, binary_mean, \"Mean Threshold Overlay\")\n",
    "show_overlay(image, binary_median, \"Median Threshold Overlay\")\n",
    "show_overlay(image, binary_otsu, \"Otsu Threshold Overlay\")"
   ]
  },
  {
   "cell_type": "markdown",
   "metadata": {},
   "source": [
    "---\n",
    "### Exercise\n",
    "- Choose one of your own grayscale microscopy images or use the camera image from skimage.\n",
    "- Apply all four thresholding techniques.\n",
    "- Display each binary mask.\n",
    "- Overlay each mask on the original image.\n",
    "\n",
    "**Answer:**\n",
    "1. Which method performed best?\n",
    "2. Did Otsu’s method outperform fixed thresholding?\n",
    "3. Are any structures incorrectly segmented?"
   ]
  },
  {
   "cell_type": "markdown",
   "metadata": {},
   "source": [
    "---\n",
    "## Mini Project\n",
    "**Task:** Nuclei Segmentation from DAPI-stained Image\n",
    "\n",
    "Use a sample DAPI-stained nuclei image (grayscale):\n",
    "\n",
    "**Steps:**\n",
    "- Load the image.\n",
    "- Normalize and visualize histogram.\n",
    "- Apply Otsu thresholding.\n",
    "- Generate the binary mask.\n",
    "- Overlay the binary mask on the original image.\n",
    "\n",
    "**Calculate:**\n",
    "- Number of segmented nuclei (label and regionprops can help)\n",
    "- Area distribution of each segmented region\n",
    "\n",
    "**Optional: Compare results from fixed vs Otsu.**"
   ]
  },
  {
   "cell_type": "markdown",
   "metadata": {},
   "source": [
    "---\n",
    "## Summary\n",
    "| Concept                 | Description                                              |\n",
    "| ----------------------- | -------------------------------------------------------- |\n",
    "| Thresholding            | Separating image into object and background              |\n",
    "| Fixed Threshold         | Manually set threshold value                             |\n",
    "| Mean / Median Threshold | Set threshold based on image statistics                  |\n",
    "| Otsu’s Method           | Automatically chooses best threshold for segmentation    |\n",
    "| Binarization            | Converting image to black and white based on threshold   |\n",
    "| Binary Mask             | Output of thresholding; used to isolate structures       |\n",
    "| Visual Overlay          | Combine original and mask to check accuracy              |\n",
    "| Hands-on                | Applied all threshold types on test images               |\n",
    "| Project                 | Full pipeline from thresholding to object quantification |\n"
   ]
  }
 ],
 "metadata": {
  "kernelspec": {
   "display_name": "gbi-python-env",
   "language": "python",
   "name": "python3"
  },
  "language_info": {
   "codemirror_mode": {
    "name": "ipython",
    "version": 3
   },
   "file_extension": ".py",
   "mimetype": "text/x-python",
   "name": "python",
   "nbconvert_exporter": "python",
   "pygments_lexer": "ipython3",
   "version": "3.13.0"
  }
 },
 "nbformat": 4,
 "nbformat_minor": 2
}
