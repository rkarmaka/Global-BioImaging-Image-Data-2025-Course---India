{
 "cells": [
  {
   "cell_type": "markdown",
   "metadata": {},
   "source": [
    "# Logic and Flow Control in Python\n",
    "Welcome! In this notebook, we will explore conditionals, loops, and functions using image analysis examples.\n",
    "\n",
    "[![Open In Colab](https://colab.research.google.com/assets/colab-badge.svg)](https://colab.research.google.com/github/rkarmaka/GBI-Python-2025/blob/main/course_material/06162025_day1/02_logic_and_control_flow.ipnyb\n",
    ")"
   ]
  },
  {
   "cell_type": "markdown",
   "metadata": {},
   "source": [
    "---\n",
    "## Learning Objectives\n",
    "By the end of this session, you will be able to:\n",
    "- Understand how computers make decisions using conditions (if statements).\n",
    "- Repeat tasks automatically using loops (for and while).\n",
    "- Write and use functions, which are small, reusable “mini-programs” for solving specific problems.\n",
    "- Begin structuring your code like a scientist organizes experiments."
   ]
  },
  {
   "cell_type": "markdown",
   "metadata": {},
   "source": [
    "---\n",
    "## Conditions — Making Decisions in Code\n",
    "\n",
    "**What are Conditions?**\n",
    "In biology, we often say: “If the sample is fluorescent, then use filter A. Otherwise, use filter B.”\n",
    "\n",
    "This is a conditional decision — and computers work the same way!\n",
    "\n",
    "In Python, we write this using if, elif, and else."
   ]
  },
  {
   "cell_type": "markdown",
   "metadata": {},
   "source": [
    "### Syntax\n",
    "```python\n",
    "if condition:\n",
    "    # this code runs if the condition is True\n",
    "elif another_condition:\n",
    "    # this code runs if the first was False, but this one is True\n",
    "else:\n",
    "    # this runs if none of the above were True\n",
    "```"
   ]
  },
  {
   "cell_type": "markdown",
   "metadata": {},
   "source": [
    "### Example from Imaging"
   ]
  },
  {
   "cell_type": "code",
   "execution_count": null,
   "metadata": {},
   "outputs": [],
   "source": [
    "intensity = 120\n",
    "\n",
    "if intensity > 200:\n",
    "    print(\"Very bright image\")\n",
    "elif intensity > 100:\n",
    "    print(\"Moderately bright image\")\n",
    "else:\n",
    "    print(\"Dark image\")"
   ]
  },
  {
   "cell_type": "markdown",
   "metadata": {},
   "source": [
    "This simulates how you might categorize images based on brightness levels."
   ]
  },
  {
   "cell_type": "markdown",
   "metadata": {},
   "source": [
    "---\n",
    "## Exercise:\n",
    "Create a variable called `contrast`, assign it a value 30, and write a set of conditionals that say:\n",
    "- If `contrast` < 20 → \"Low contrast\"\n",
    "- If 20 ≤ `contrast` ≤ 50 → \"Medium contrast\"\n",
    "- If `contrast` > 50 → \"High contrast\"\n"
   ]
  },
  {
   "cell_type": "code",
   "execution_count": null,
   "metadata": {
    "tags": [
     "hide-cell"
    ]
   },
   "outputs": [],
   "source": [
    "contrast = 30\n",
    "\n",
    "if contrast < 20:\n",
    "    print(\"Low contrast\")\n",
    "elif contrast <= 50:\n",
    "    print(\"Medium contrast\")\n",
    "else:\n",
    "    print(\"High contrast\")\n"
   ]
  },
  {
   "cell_type": "markdown",
   "metadata": {},
   "source": [
    "---\n",
    "## Loops — Repeating Tasks\n",
    "\n",
    "**Why Loops?**\n",
    "Let’s say you want to analyze 100 images. You don’t want to write the same line of code 100 times.\n",
    "Instead, we loop through a list of items and process each one.\n",
    "\n",
    "Loops are like automated pipetting machines — they do the same task repeatedly, saving you effort."
   ]
  },
  {
   "cell_type": "markdown",
   "metadata": {},
   "source": [
    "### `for` loops – Looping Through Lists"
   ]
  },
  {
   "cell_type": "code",
   "execution_count": 4,
   "metadata": {
    "tags": [
     "hide-output"
    ]
   },
   "outputs": [
    {
     "name": "stdout",
     "output_type": "stream",
     "text": [
      "Normal intensity\n",
      "Normal intensity\n",
      "Normal intensity\n",
      "Normal intensity\n",
      "High intensity\n"
     ]
    }
   ],
   "source": [
    "intensities = [10, 50, 90, 120, 250]\n",
    "\n",
    "for intensity in intensities:\n",
    "    if intensity > 200:\n",
    "        print(\"High intensity\")\n",
    "    else:\n",
    "        print(\"Normal intensity\")"
   ]
  },
  {
   "cell_type": "markdown",
   "metadata": {},
   "source": [
    "Each loop run is like checking one image.\n",
    "Here, we check if each pixel’s intensity is above a threshold.\n",
    "\n",
    "*Tip: Use for when you already know how many things you’re looping through (e.g., a list of image files).*"
   ]
  },
  {
   "cell_type": "markdown",
   "metadata": {},
   "source": [
    "---\n",
    "### `while` Loops – Repeat Until a Condition Fails"
   ]
  },
  {
   "cell_type": "code",
   "execution_count": 5,
   "metadata": {},
   "outputs": [
    {
     "name": "stdout",
     "output_type": "stream",
     "text": [
      "Analyzing slice 0\n",
      "Analyzing slice 1\n",
      "Analyzing slice 2\n",
      "Analyzing slice 3\n",
      "Analyzing slice 4\n"
     ]
    }
   ],
   "source": [
    "counter = 0\n",
    "\n",
    "while counter < 5:\n",
    "    print(\"Analyzing slice\", counter)\n",
    "    counter += 1"
   ]
  },
  {
   "cell_type": "markdown",
   "metadata": {},
   "source": [
    "This is useful when you don’t know how many times to repeat — just “keep going while X is true”.\n",
    "\n",
    "*Tip: This is like growing cells until they reach confluency.*"
   ]
  },
  {
   "cell_type": "markdown",
   "metadata": {},
   "source": [
    "---\n",
    "## Exercise\n",
    "Write a loop that goes through:\n",
    "\n",
    "`images = [\"img1.tif\", \"img2.tif\", \"img3.tif\"]`\n",
    "\n",
    "And prints:\n",
    "\n",
    "`Processing img1.tif`\n",
    "\n",
    "`Processing img2.tif`"
   ]
  },
  {
   "cell_type": "code",
   "execution_count": 7,
   "metadata": {
    "tags": [
     "hide-cell"
    ]
   },
   "outputs": [
    {
     "name": "stdout",
     "output_type": "stream",
     "text": [
      "Processing img1.tif\n",
      "Processing img2.tif\n",
      "Processing img3.tif\n",
      "Processing img1.tif\n",
      "Processing img2.tif\n",
      "Processing img3.tif\n",
      "Processing img1.tif\n",
      "Processing img2.tif\n",
      "Processing img3.tif\n",
      "Processing img3.tif\n"
     ]
    }
   ],
   "source": [
    "images = [\"img1.tif\", \"img2.tif\", \"img3.tif\"]\n",
    "\n",
    "for image in images:\n",
    "    print(\"Processing\", image)\n",
    "\n",
    "for i in range(3):\n",
    "    print(\"Processing\", images[i])\n",
    "\n",
    "for i in range(len(images)):\n",
    "    print(\"Processing\", images[i])\n",
    "\n",
    "while i < len(images):\n",
    "    print(\"Processing\", images[i])\n",
    "    i += 1\n"
   ]
  },
  {
   "cell_type": "markdown",
   "metadata": {},
   "source": [
    "---\n",
    "## Functions — Organizing and Reusing Code\n",
    "\n",
    "**What is a Function?**\n",
    "Functions are like lab protocols — a set of steps bundled together, which you can reuse many times.\n",
    "\n",
    "A function lets you define a block of code once, and run it many times with different inputs."
   ]
  },
  {
   "cell_type": "markdown",
   "metadata": {},
   "source": [
    "### Basic Function Example"
   ]
  },
  {
   "cell_type": "code",
   "execution_count": 9,
   "metadata": {},
   "outputs": [
    {
     "name": "stdout",
     "output_type": "stream",
     "text": [
      "Moderately bright\n"
     ]
    }
   ],
   "source": [
    "def describe_brightness(value):\n",
    "    if value > 200:\n",
    "        return \"Very bright\"\n",
    "    elif value > 100:\n",
    "        return \"Moderately bright\"\n",
    "    else:\n",
    "        return \"Dark\"\n",
    "\n",
    "# Call the function with different inputs\n",
    "print(describe_brightness(180))  # Output: Moderately bright"
   ]
  },
  {
   "cell_type": "markdown",
   "metadata": {},
   "source": [
    "Here, we wrote a function to categorize brightness values.\n",
    "This keeps our code clean, readable, and reusable."
   ]
  },
  {
   "cell_type": "markdown",
   "metadata": {},
   "source": [
    "---\n",
    "### Parameters and Return Values\n",
    "A function takes inputs (called parameters) and returns outputs (called return values)."
   ]
  },
  {
   "cell_type": "code",
   "execution_count": 10,
   "metadata": {},
   "outputs": [
    {
     "name": "stdout",
     "output_type": "stream",
     "text": [
      "0.4980392156862745\n"
     ]
    }
   ],
   "source": [
    "def normalize(value, max_value=255):\n",
    "    return value / max_value\n",
    "\n",
    "print(normalize(127))  # Output: 0.498..."
   ]
  },
  {
   "cell_type": "markdown",
   "metadata": {},
   "source": [
    "This is useful in image analysis, where we often normalize pixel values to a 0–1 range."
   ]
  },
  {
   "cell_type": "markdown",
   "metadata": {},
   "source": [
    "### Exercise\n",
    "\n",
    "Write a function `is_high_intensity(pixel)` that:\n",
    "\n",
    "Returns `True` if the `pixel > 180`\n",
    "\n",
    "Otherwise returns `False`\n",
    "\n",
    "Then test it on values like 120, 200, and 50."
   ]
  },
  {
   "cell_type": "code",
   "execution_count": null,
   "metadata": {
    "tags": [
     "hide-cell"
    ]
   },
   "outputs": [],
   "source": [
    "def is_high_intensity(pixel):\n",
    "    if pixel > 180:\n",
    "        return True\n",
    "    else:\n",
    "        return False\n",
    "\n",
    "pixels = [120, 200, 50]\n",
    "\n",
    "for pixel in pixels:\n",
    "    print(is_high_intensity(pixel))"
   ]
  },
  {
   "cell_type": "markdown",
   "metadata": {},
   "source": [
    "---\n",
    "## Mini Project: Image Quality Categorizer\n",
    "\n",
    "### Scenario:\n",
    "You have a set of bioimages, and for each image, you know its mean intensity (a quick way to check brightness). Your task is to group images based on whether they are:\n",
    "\n",
    "- Too dark\n",
    "- Acceptable\n",
    "- Too bright\n",
    "\n",
    "This reflects a basic QC step before downstream processing.\n",
    "\n",
    "```python\n",
    "images = [\n",
    "    (\"img1.tif\", 30),\n",
    "    (\"img2.tif\", 115),\n",
    "    (\"img3.tif\", 240),\n",
    "    (\"img4.tif\", 90),\n",
    "    (\"img5.tif\", 160),\n",
    "    (\"img6.tif\", 15)\n",
    "]\n",
    "```\n",
    "\n",
    "Each entry is a tuple: (image name, mean intensity)\n",
    "\n",
    "### Tasks\n",
    "1. Write a function qc_category(intensity) that:\n",
    "    - Returns \"Too dark\" if intensity < 50\n",
    "    - Returns \"Too bright\" if intensity > 200\n",
    "    - Returns \"Acceptable\" otherwise\n",
    "\n",
    "2. Loop through the list of image data, and use the function to:\n",
    "    - Classify each image\n",
    "    - Append its name to one of three lists:\n",
    "    ```python\n",
    "    too_dark_images = []\n",
    "    acceptable_images = []\n",
    "    too_bright_images = []\n",
    "    ```\n",
    "\n",
    "3. At the end, print out:\n",
    "    - How many images fall into each category\n",
    "    - Which images are in each category\n",
    "\n",
    "### Sample Output\n",
    "```python\n",
    "Too dark images (2): ['img1.tif', 'img6.tif']\n",
    "Acceptable images (3): ['img2.tif', 'img4.tif', 'img5.tif']\n",
    "Too bright images (1): ['img3.tif']\n",
    "```"
   ]
  },
  {
   "cell_type": "markdown",
   "metadata": {},
   "source": [
    "### Bonus project\n",
    "- Store results as a dictionary of categories → list of filenames.\n",
    "- Export the results to a .csv file using pandas.\n",
    "- Use random values and filenames to simulate a dataset.\n"
   ]
  },
  {
   "cell_type": "code",
   "execution_count": null,
   "metadata": {
    "tags": [
     "hide-cell"
    ]
   },
   "outputs": [],
   "source": [
    "# Step 1: Define the input data\n",
    "images = [\n",
    "    (\"img1.tif\", 30),\n",
    "    (\"img2.tif\", 115),\n",
    "    (\"img3.tif\", 240),\n",
    "    (\"img4.tif\", 90),\n",
    "    (\"img5.tif\", 160),\n",
    "    (\"img6.tif\", 15)\n",
    "]\n",
    "\n",
    "# Step 2: Define the quality check function\n",
    "def qc_category(intensity):\n",
    "    if intensity < 50:\n",
    "        return \"Too dark\"\n",
    "    elif intensity > 200:\n",
    "        return \"Too bright\"\n",
    "    else:\n",
    "        return \"Acceptable\"\n",
    "\n",
    "# Step 3: Prepare empty lists to collect image names\n",
    "too_dark_images = []\n",
    "acceptable_images = []\n",
    "too_bright_images = []\n",
    "\n",
    "# Step 4: Categorize each image\n",
    "for name, intensity in images:\n",
    "    category = qc_category(intensity)\n",
    "\n",
    "    if category == \"Too dark\":\n",
    "        too_dark_images.append(name)\n",
    "    elif category == \"Too bright\":\n",
    "        too_bright_images.append(name)\n",
    "    else:\n",
    "        acceptable_images.append(name)\n",
    "\n",
    "# Step 5: Print summary results\n",
    "print(f\"Too dark images ({len(too_dark_images)}): {too_dark_images}\")\n",
    "print(f\"Acceptable images ({len(acceptable_images)}): {acceptable_images}\")\n",
    "print(f\"Too bright images ({len(too_bright_images)}): {too_bright_images}\")"
   ]
  },
  {
   "cell_type": "markdown",
   "metadata": {},
   "source": [
    "### Bonus"
   ]
  },
  {
   "cell_type": "code",
   "execution_count": null,
   "metadata": {
    "tags": [
     "hide-cell"
    ]
   },
   "outputs": [],
   "source": [
    "# Initialize dictionary\n",
    "categories = {\n",
    "    \"Too dark\": [],\n",
    "    \"Acceptable\": [],\n",
    "    \"Too bright\": []\n",
    "}\n",
    "\n",
    "# Loop and fill the dictionary\n",
    "for name, intensity in images:\n",
    "    category = qc_category(intensity)\n",
    "    categories[category].append(name)\n",
    "\n",
    "# Print results\n",
    "for label, image_list in categories.items():\n",
    "    print(f\"{label} images ({len(image_list)}): {image_list}\")\n"
   ]
  }
 ],
 "metadata": {
  "kernelspec": {
   "display_name": "gbi-python-env",
   "language": "python",
   "name": "python3"
  },
  "language_info": {
   "codemirror_mode": {
    "name": "ipython",
    "version": 3
   },
   "file_extension": ".py",
   "mimetype": "text/x-python",
   "name": "python",
   "nbconvert_exporter": "python",
   "pygments_lexer": "ipython3",
   "version": "3.13.0"
  }
 },
 "nbformat": 4,
 "nbformat_minor": 4
}
