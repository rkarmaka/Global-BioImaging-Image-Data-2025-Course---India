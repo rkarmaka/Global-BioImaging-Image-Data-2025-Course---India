{
 "cells": [
  {
   "cell_type": "markdown",
   "metadata": {},
   "source": [
    "# Working with Images in Python Using scikit-image and imageio"
   ]
  },
  {
   "cell_type": "markdown",
   "metadata": {},
   "source": [
    "---\n",
    "## Learning Objectives\n",
    "By the end of this module, learners will be able to:\n",
    "- Load common bioimage file formats using imageio and scikit-image\n",
    "- Access and interpret image metadata\n",
    "- Understand image shapes, dimensions, and slicing techniques\n",
    "- Work with multi-dimensional image stacks\n",
    "- Apply these skills to real microscopy data"
   ]
  },
  {
   "cell_type": "markdown",
   "metadata": {},
   "source": [
    "---\n",
    "## Reading Image Files (`.png`, `.jpg`, `.tif`)\n",
    "Digital images are arrays of pixel values. Python libraries like imageio and scikit-image allow you to read and manipulate image files. Formats like `.png`, `.jpg`, and `.tif` are commonly used in microscopy for saving data or visualizations.\n",
    "- `.jpg`: Compressed (lossy), commonly used for visualization\n",
    "- `.png`: Lossless, good for plots and masks\n",
    "- `.tif`: Can store multi-channel and multi-dimensional image stacks, often used in microscopy"
   ]
  },
  {
   "cell_type": "markdown",
   "metadata": {},
   "source": [
    "### Hands-On: Loading Images"
   ]
  },
  {
   "cell_type": "code",
   "execution_count": null,
   "metadata": {},
   "outputs": [],
   "source": [
    "import imageio\n",
    "from skimage import io\n",
    "import matplotlib.pyplot as plt\n",
    "\n",
    "# Load a PNG image\n",
    "img_png = imageio.imread('data/nuclei.png')\n",
    "\n",
    "# Load a JPG image\n",
    "img_jpg = io.imread('example_image.jpg')\n",
    "\n",
    "# Load a TIFF image\n",
    "img_tif = io.imread('data/nuclei.tif')\n",
    "\n",
    "# Display\n",
    "plt.imshow(img_png, cmap='gray')\n",
    "plt.title('PNG Image')\n",
    "plt.axis('off')\n",
    "plt.show()"
   ]
  },
  {
   "cell_type": "markdown",
   "metadata": {},
   "source": [
    "### Exercise\n",
    "- Load one `.jpg`, one `.png`, and one `.tif` image from your dataset or provided images\n",
    "- Print the shape and data type of each image\n",
    "- Display the images using matplotlib.pyplot"
   ]
  },
  {
   "cell_type": "markdown",
   "metadata": {},
   "source": [
    "---\n",
    "## Exploring Metadata and Dimensions\n",
    "Metadata refers to additional information stored in an image file, such as pixel spacing, acquisition date, or microscope settings. Understanding dimensions is crucial for navigating images (e.g., grayscale, RGB, or 3D stacks).\n",
    "- Grayscale: 2D (H × W)\n",
    "- RGB: 3D (H × W × 3)\n",
    "- Multichannel stack: 3D or 4D (Z × H × W or C × Z × H × W)"
   ]
  },
  {
   "cell_type": "markdown",
   "metadata": {},
   "source": [
    "### Hands-On: Accessing Shape and Metadata"
   ]
  },
  {
   "cell_type": "code",
   "execution_count": null,
   "metadata": {},
   "outputs": [],
   "source": [
    "# TIFF metadata\n",
    "img_reader = imageio.get_reader('example_stack.tif')\n",
    "meta = img_reader.get_meta_data()\n",
    "\n",
    "print(\"Number of frames:\", img_reader.get_length())\n",
    "print(\"Metadata:\", meta)\n",
    "\n",
    "\n",
    "# Checking image shape\n",
    "image = io.imread('example_stack.tif')\n",
    "print(\"Image shape:\", image.shape)"
   ]
  },
  {
   "cell_type": "markdown",
   "metadata": {},
   "source": [
    "### Exercise\n",
    "- Check whether your image is grayscale, RGB, or multi-channel\n",
    "- Try printing metadata from .tif file\n",
    "- Find out the number of slices (frames) in a stack"
   ]
  },
  {
   "cell_type": "markdown",
   "metadata": {},
   "source": [
    "---\n",
    "## Slicing Image Stacks\n",
    "Image stacks are collections of 2D images across time or depth (Z-stacks). To process or visualize a specific layer or frame, you can use array slicing.\n",
    "\n",
    "For example, given a 3D image (Z × H × W):\n",
    "- image[0] gives you the first slice (2D)\n",
    "- image[5:10] gives you a subset of the stack"
   ]
  },
  {
   "cell_type": "markdown",
   "metadata": {},
   "source": [
    "### Hands-On: Slicing"
   ]
  },
  {
   "cell_type": "code",
   "execution_count": null,
   "metadata": {},
   "outputs": [],
   "source": [
    "# Load a 3D image stack\n",
    "stack = io.imread('example_stack.tif')\n",
    "print(\"Stack shape:\", stack.shape)\n",
    "\n",
    "# Visualize first slice\n",
    "plt.imshow(stack[0], cmap='gray')\n",
    "plt.title('First Z-slice')\n",
    "plt.axis('off')\n",
    "plt.show()\n",
    "\n",
    "# Visualize middle slice\n",
    "mid = stack.shape[0] // 2\n",
    "plt.imshow(stack[mid], cmap='gray')\n",
    "plt.title('Middle Z-slice')\n",
    "plt.axis('off')\n",
    "plt.show()"
   ]
  },
  {
   "cell_type": "markdown",
   "metadata": {},
   "source": [
    "### Exercise\n",
    "- Visualize the first, middle, and last slices of your image stack\n",
    "- Try looping through and displaying a montage of a few slices"
   ]
  },
  {
   "cell_type": "markdown",
   "metadata": {},
   "source": [
    "---\n",
    "## Mini Project: Explore a Multichannel TIFF Microscopy Dataset\n",
    "*Objective:* Load a multi-channel .tif file from a microscopy experiment and:\n",
    "\n",
    "*Tasks*\n",
    "- Identify the number of channels and slices\n",
    "- Visualize a slice from each channel\n",
    "- Save one representative slice per channel as `.png`"
   ]
  },
  {
   "cell_type": "code",
   "execution_count": null,
   "metadata": {},
   "outputs": [],
   "source": [
    "from skimage.io import imread, imsave\n",
    "import numpy as np\n",
    "\n",
    "# Load a sample multi-channel stack (e.g., shape: C × Z × H × W)\n",
    "img = imread('multi_channel_stack.tif')\n",
    "\n",
    "# Check shape\n",
    "print(\"Image shape:\", img.shape)  # Adjust slicing if needed\n",
    "\n",
    "# Loop through channels and save mid-slice\n",
    "for c in range(img.shape[0]):\n",
    "    mid = img.shape[1] // 2\n",
    "    slice_img = img[c, mid, :, :]\n",
    "    \n",
    "    plt.imshow(slice_img, cmap='gray')\n",
    "    plt.title(f'Channel {c+1} - Mid Z-slice')\n",
    "    plt.axis('off')\n",
    "    plt.show()\n",
    "    \n",
    "    # Save as PNG\n",
    "    imsave(f'channel_{c+1}_slice.png', slice_img.astype(np.uint8))"
   ]
  },
  {
   "cell_type": "markdown",
   "metadata": {},
   "source": [
    "---\n",
    "## Module Summary\n",
    "| Topic                         | Skill Gained                                                   |\n",
    "| ----------------------------- | -------------------------------------------------------------- |\n",
    "| Reading image formats         | Loading `.png`, `.jpg`, `.tif` using `imageio` and `skimage`   |\n",
    "| Understanding image structure | Distinguishing grayscale, RGB, and multi-channel formats       |\n",
    "| Metadata exploration          | Accessing number of frames and descriptive image info          |\n",
    "| Image slicing                 | Extracting 2D slices from 3D stacks                            |\n",
    "| Mini project                  | Integrating loading, slicing, and saving slices from a dataset |\n"
   ]
  }
 ],
 "metadata": {
  "kernelspec": {
   "display_name": "gbi-python-env",
   "language": "python",
   "name": "python3"
  },
  "language_info": {
   "name": "python",
   "version": "3.13.0"
  }
 },
 "nbformat": 4,
 "nbformat_minor": 2
}
