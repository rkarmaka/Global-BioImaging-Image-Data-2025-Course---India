{
 "cells": [
  {
   "cell_type": "markdown",
   "metadata": {},
   "source": [
    "# Welcome & Setup"
   ]
  },
  {
   "cell_type": "markdown",
   "metadata": {},
   "source": [
    "## Learning Objectives\n",
    "By the end of this module, learners will be able to:\n",
    "- Understand what Python is and why it is widely used in science.\n",
    "- Identify and choose tools for running Python code.\n",
    "- Use Jupyter or Google Colab notebooks to write and execute basic code.\n",
    "- Install and use external packages using pip."
   ]
  },
  {
   "cell_type": "markdown",
   "metadata": {},
   "source": [
    "---\n",
    "## Python\n",
    "**1. What is Python?**\n",
    "\n",
    "Python is a programming language — a way to give instructions to a computer. It is:\n",
    "- Simple and readable (good for beginners)\n",
    "- Widely used in science, data analysis, and bioimage processing\n",
    "- Supported by a large community and thousands of ready-made libraries (e.g., for image analysis, statistics, and visualization)\n",
    "\n",
    "\n",
    "\n",
    "**2. Why use Python for Bioimage Analysis?**\n",
    "- It connects well with image analysis libraries like `scikit-image`, `OpenCV`, `Cellpose`, and `Napari`.\n",
    "- Automates repetitive tasks (e.g., batch processing images).\n",
    "- Makes your analysis reproducible and shareable."
   ]
  },
  {
   "cell_type": "markdown",
   "metadata": {},
   "source": [
    "---\n",
    "## What Are Packages?\n",
    "Think of a package as a toolbox. Just like a microscope has different attachments or filters for different tasks, Python has packages that add specific capabilities.\n",
    "\n",
    "**Why Use Packages?**\n",
    "Python by itself is powerful, but it doesn't do everything. Packages help you:\n",
    "- Load and process images (`scikit-image`, `opencv`)\n",
    "- Visualize data (`matplotlib`, `seaborn`)\n",
    "- Perform scientific calculations (`numpy`, `scipy`)\n",
    "- Analyze cell segmentation results (`cellpose`, `napari`)\n",
    "\n",
    "**Analogy:**\n",
    "Python = Your lab bench\n",
    "Package = A specialized instrument or reagent\n",
    "scikit-image = Like a DAPI stain kit for analyzing nuclei"
   ]
  },
  {
   "cell_type": "markdown",
   "metadata": {},
   "source": [
    "### Installing Packages\n",
    "Python has thousands of reusable packages. To install one in Colab:\n",
    "```bash\n",
    "!pip install <package-name>\n",
    "```\n",
    "The exclamation mark ! tells the notebook to run a terminal (shell) command."
   ]
  },
  {
   "cell_type": "markdown",
   "metadata": {},
   "source": [
    "---\n",
    "## Environments\n",
    "An environment is a clean workspace — like a clean bench or isolated sample area — that contains only the tools and packages you need for one project.\n",
    "\n",
    "**Why Use Environments?**\n",
    "- Prevents conflicts between different versions of packages\n",
    "- Keeps your project organized and reproducible\n",
    "- Allows testing different setups without affecting your main system\n",
    "\n",
    "*Example Scenario:*\n",
    "You have:\n",
    "\n",
    "Project A that needs `scikit-image==0.20.0`\n",
    "\n",
    "Project B that needs `scikit-image==0.18.0`\n",
    "\n",
    "Using separate environments means you can run both projects without interference.\n",
    "\n",
    "**How to Create Environments** *(Optional)*\n",
    "If you install Python via Anaconda, you can create environments like this:\n",
    "```bash\n",
    "conda create -n bioimage python=3.10\n",
    "conda activate bioimage\n",
    "conda install scikit-image matplotlib\n",
    "```\n",
    "\n",
    "In Google Colab, you don’t manage environments manually — it uses a fresh one every time you open a notebook."
   ]
  },
  {
   "cell_type": "markdown",
   "metadata": {},
   "source": [
    "---\n",
    "## Tools Setup\n",
    "### Option A: Google Colab (Recommended for beginners)\n",
    "- Free, browser-based notebook environment\n",
    "- No installation required\n",
    "- Built-in support for pip install\n",
    "\n",
    "**Steps:**\n",
    "1. Go to https://colab.research.google.com\n",
    "2. Sign in with your Google account\n",
    "3. Create a new notebook (File → New Notebook)\n",
    "\n",
    "### Option B: Jupyter Notebooks via Anaconda (Local Setup)\n",
    "1. Install Anaconda\n",
    "2. Launch Jupyter Notebook from the Anaconda Navigator\n",
    "3. Create a new Python 3 notebook\n",
    "\n",
    "### Option C: VSCode with Jupyter Plugin\n",
    "1. Install VSCode\n",
    "2. Install the Python and Jupyter extensions\n",
    "3. Open a .ipynb file to use notebook-style programming"
   ]
  },
  {
   "cell_type": "markdown",
   "metadata": {},
   "source": [
    "---\n",
    "## Introduction to Notebooks\n",
    "Notebooks let you combine:\n",
    "- **Code cells:** For Python code\n",
    "- **Markdown cells:** For text, notes, and equations"
   ]
  },
  {
   "cell_type": "markdown",
   "metadata": {},
   "source": [
    "### Example:"
   ]
  },
  {
   "cell_type": "code",
   "execution_count": 1,
   "metadata": {},
   "outputs": [
    {
     "name": "stdout",
     "output_type": "stream",
     "text": [
      "Hello, bioimage world!\n"
     ]
    }
   ],
   "source": [
    "print(\"Hello, bioimage world!\")"
   ]
  },
  {
   "cell_type": "markdown",
   "metadata": {},
   "source": [
    "### Markdown example:\n",
    "\n",
    "# This is a title\n",
    "\n",
    "## This is a subtitle\n",
    "\n",
    "*This text is italic*\n",
    "\n",
    "**This text is bold**\n"
   ]
  },
  {
   "cell_type": "markdown",
   "metadata": {},
   "source": [
    "To run a cell:\n",
    "\n",
    "- **Colab/Jupyter:** Shift + Enter"
   ]
  },
  {
   "cell_type": "markdown",
   "metadata": {},
   "source": [
    "---\n",
    "## Hands-On Practice\n",
    "**Task 1: Launch Colab and run your first Python code**\n",
    "\n",
    "```python\n",
    "print(\"Welcome to Python for Bioimage Analysis!\")\n",
    "```\n",
    "\n",
    "**Task 2: Try markdown**\n",
    "- Create a title: # My First Notebook\n",
    "- Add a short note about what you're learning\n",
    "\n",
    "**Task 3: Install a package**\n",
    "```bash\n",
    "!pip install scikit-image\n",
    "!pip install matplotlib\n",
    "```"
   ]
  },
  {
   "cell_type": "markdown",
   "metadata": {},
   "source": [
    "---\n",
    "## Mini Project: \"Hello World!\"\n",
    "**Goal:** Create a Colab notebook with the following:\n",
    "1. Markdown cell introducing yourself and what kind of images you work with\n",
    "2. A code cell printing a message\n",
    "3. A `pip install` command\n",
    "4. A markdown section listing what you hope to learn in this course"
   ]
  },
  {
   "cell_type": "markdown",
   "metadata": {},
   "source": [
    "---\n",
    "## Module Summary\n",
    "\n",
    "| Concept   | Description                                      |\n",
    "| --------- | ------------------------------------------------ |\n",
    "| Python    | Programming language for data and image analysis |\n",
    "| Notebooks | Interactive environments combining code + notes  |\n",
    "| Tools     | Colab (browser), Jupyter (Anaconda), VSCode      |\n",
    "| pip       | Command to install Python packages               |\n"
   ]
  },
  {
   "cell_type": "markdown",
   "metadata": {},
   "source": []
  }
 ],
 "metadata": {
  "kernelspec": {
   "display_name": "gbi-python-env",
   "language": "python",
   "name": "python3"
  },
  "language_info": {
   "codemirror_mode": {
    "name": "ipython",
    "version": 3
   },
   "file_extension": ".py",
   "mimetype": "text/x-python",
   "name": "python",
   "nbconvert_exporter": "python",
   "pygments_lexer": "ipython3",
   "version": "3.13.0"
  }
 },
 "nbformat": 4,
 "nbformat_minor": 2
}