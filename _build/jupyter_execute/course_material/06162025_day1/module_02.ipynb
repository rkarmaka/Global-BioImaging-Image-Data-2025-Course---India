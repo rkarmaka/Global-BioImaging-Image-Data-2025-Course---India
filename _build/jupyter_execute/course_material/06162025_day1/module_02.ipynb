{
 "cells": [
  {
   "cell_type": "markdown",
   "metadata": {},
   "source": [
    "# Python Basics – Variables & Data Types"
   ]
  },
  {
   "cell_type": "markdown",
   "metadata": {},
   "source": [
    "---\n",
    "## Learning Objectives\n",
    "By the end of this module, you will be able to:\n",
    "- Understand what a variable is and how to create one in Python.\n",
    "- Recognize and use basic data types: int, float, str, bool, and None.\n",
    "- Print outputs in Python and format them for clarity.\n",
    "- Identify the data type of a variable using the type() function.\n",
    "- Convert between data types using type conversion functions."
   ]
  },
  {
   "cell_type": "markdown",
   "metadata": {},
   "source": [
    "---\n",
    "## Variables\n",
    "**What is a Variable?**\n",
    "\n",
    "A variable is like a labeled box in your computer’s memory that stores information. You give it a name and assign it a value to easily access it later.\n",
    "\n",
    "```python\n",
    "sample_name = \"GFP_Cells\"\n",
    "cell_count = 42\n",
    "```"
   ]
  },
  {
   "cell_type": "markdown",
   "metadata": {},
   "source": [
    "### Basic Data Types\n",
    "| Data Type | Description            | Example              |\n",
    "| --------- | ---------------------- | -------------------- |\n",
    "| `int`     | Integer (whole number) | `10`, `-5`           |\n",
    "| `float`   | Decimal number         | `3.14`, `0.01`       |\n",
    "| `str`     | String (text)          | `\"GFP\"`, `'Nucleus'` |\n",
    "| `bool`    | Boolean (True/False)   | `True`, `False`      |\n",
    "| `None`    | None value             | `None`               |\n"
   ]
  },
  {
   "cell_type": "markdown",
   "metadata": {},
   "source": [
    "---\n",
    "### Printing Outputs\n",
    "Use `print()` to display values or messages.\n",
    "\n",
    "```python\n",
    "print(\"Total cells:\", cell_count)\n",
    "```\n",
    "\n",
    "You can also combine text and variables:\n",
    "\n",
    "```python\n",
    "print(f\"The sample '{sample_name}' contains {cell_count} cells.\")\n",
    "```\n",
    "\n",
    "---\n",
    "\n",
    "### Checking the Type\n",
    "Use `type()` to inspect the data type of a variable:\n",
    "\n",
    "```python\n",
    "print(type(cell_count))  # Output: <class 'int'>\n",
    "```\n",
    "\n",
    "---\n",
    "\n",
    "### Type Conversion\n",
    "Convert between types using functions like:\n",
    "`int()`, `float()`, `str()`, `bool()`\n",
    "\n",
    "```python\n",
    "pixel_value = \"128\"\n",
    "pixel_value = int(pixel_value)  # Now it’s an integer\n",
    "```"
   ]
  },
  {
   "cell_type": "markdown",
   "metadata": {},
   "source": [
    "---\n",
    "## Hands-On Practice"
   ]
  },
  {
   "cell_type": "markdown",
   "metadata": {},
   "source": [
    "**Task 1: Create Variables**\n",
    "\n",
    "```python\n",
    "# Define a sample name (string)\n",
    "sample_name = \n",
    "\n",
    "# Define number of slices (integer)\n",
    "num_slices = \n",
    "\n",
    "# Define pixel intensity (float)\n",
    "average_intensity = \n",
    "\n",
    "# Is the sample stained? (boolean)\n",
    "is_stained = \n",
    "```"
   ]
  },
  {
   "cell_type": "code",
   "execution_count": 1,
   "metadata": {
    "tags": [
     "hide-cell"
    ]
   },
   "outputs": [],
   "source": [
    "# Define a sample name (string)\n",
    "sample_name = \"Neuron_ZStack\"\n",
    "\n",
    "# Define number of slices (integer)\n",
    "num_slices = 15\n",
    "\n",
    "# Define pixel intensity (float)\n",
    "average_intensity = 128.56\n",
    "\n",
    "# Is the sample stained? (boolean)\n",
    "is_stained = True"
   ]
  },
  {
   "cell_type": "markdown",
   "metadata": {},
   "source": [
    "**Task 2: Print with Formatting**\n",
    "```python\n",
    "print(\"Sample:\", )\n",
    "print(f\"Slices: {}, Average intensity: {}\")\n",
    "print(\"Stained?\", )\n",
    "```\n"
   ]
  },
  {
   "cell_type": "code",
   "execution_count": 2,
   "metadata": {
    "tags": [
     "hide-cell"
    ]
   },
   "outputs": [
    {
     "name": "stdout",
     "output_type": "stream",
     "text": [
      "Sample: Neuron_ZStack\n",
      "Slices: 15, Average intensity: 128.56\n",
      "Stained? True\n"
     ]
    }
   ],
   "source": [
    "print(\"Sample:\", sample_name)\n",
    "print(f\"Slices: {num_slices}, Average intensity: {average_intensity}\")\n",
    "print(\"Stained?\", is_stained)"
   ]
  },
  {
   "cell_type": "markdown",
   "metadata": {},
   "source": [
    "**Task 3: Type Conversion and Inspection**\n",
    "```python\n",
    "# Convert float to int\n",
    "rounded_intensity = int()\n",
    "print(\"Rounded intensity:\", )\n",
    "\n",
    "# Check types\n",
    "print(type())\n",
    "print(type())\n",
    "```"
   ]
  },
  {
   "cell_type": "code",
   "execution_count": 3,
   "metadata": {
    "tags": [
     "hide-cell"
    ]
   },
   "outputs": [
    {
     "name": "stdout",
     "output_type": "stream",
     "text": [
      "Rounded intensity: 128\n",
      "<class 'float'>\n",
      "<class 'int'>\n"
     ]
    }
   ],
   "source": [
    "# Convert float to int\n",
    "rounded_intensity = int(average_intensity)\n",
    "print(\"Rounded intensity:\", rounded_intensity)\n",
    "\n",
    "# Check types\n",
    "print(type(average_intensity))\n",
    "print(type(rounded_intensity))"
   ]
  },
  {
   "cell_type": "markdown",
   "metadata": {},
   "source": [
    "---\n",
    "## Exercise: Your First BioImage Report\n",
    "Create a Python script that:\n",
    "1. Stores the following:\n",
    "    - Experiment name (`str`)\n",
    "    - Number of images collected (`int`)\n",
    "    - Average contrast (`float`)\n",
    "    - Whether the sample had background noise (`bool`)\n",
    "\n",
    "2. Prints a one-line summary using `print()` and `f-strings`.\n",
    "\n",
    "Example Output:\n",
    "```python\n",
    "Experiment 'Tissue_01' collected 20 images with average contrast 0.87. Background noise detected: True\n",
    "```"
   ]
  },
  {
   "cell_type": "markdown",
   "metadata": {},
   "source": [
    "---\n",
    "## Module 2 Summary Table: Variables & Data Types in Python\n",
    "| Concept                      | Description                                                        | Example                            |\n",
    "| ---------------------------- | ------------------------------------------------------------------ | ---------------------------------- |\n",
    "| **Variable**                 | A name that stores data                                            | `cell_count = 42`                  |\n",
    "| **`int` (Integer)**          | Whole number                                                       | `10`, `-3`, `0`                    |\n",
    "| **`float` (Floating point)** | Decimal number                                                     | `3.14`, `0.01`                     |\n",
    "| **`str` (String)**           | Text, enclosed in quotes                                           | `\"GFP_Cells\"`, `'ZStack'`          |\n",
    "| **`bool` (Boolean)**         | True or False value                                                | `True`, `False`                    |\n",
    "| **`print()`**                | Outputs data to the screen                                         | `print(\"Cell count:\", cell_count)` |\n",
    "| **`f-string`**               | Formats strings with embedded variables                            | `f\"Count: {cell_count}\"`           |\n",
    "| **`type()`**                 | Returns the data type of a variable                                | `type(3.14)` → `<class 'float'>`   |\n",
    "| **Type Conversion**          | Converts data types using `int()`, `float()`, `str()`, or `bool()` | `int(\"123\")` → `123`               |"
   ]
  }
 ],
 "metadata": {
  "kernelspec": {
   "display_name": "gbi-python-env",
   "language": "python",
   "name": "python3"
  },
  "language_info": {
   "codemirror_mode": {
    "name": "ipython",
    "version": 3
   },
   "file_extension": ".py",
   "mimetype": "text/x-python",
   "name": "python",
   "nbconvert_exporter": "python",
   "pygments_lexer": "ipython3",
   "version": "3.11.4"
  }
 },
 "nbformat": 4,
 "nbformat_minor": 2
}