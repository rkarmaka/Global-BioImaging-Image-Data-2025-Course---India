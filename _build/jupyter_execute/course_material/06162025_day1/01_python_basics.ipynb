{
 "cells": [
  {
   "cell_type": "markdown",
   "metadata": {},
   "source": [
    "# Python Programming Basics\n",
    "Installation, Environment, Jupyter, Variables, Types & Data Structures\n",
    "\n",
    "[![Open In Colab](https://colab.research.google.com/assets/colab-badge.svg)](https://colab.research.google.com/github/rkarmaka/GBI-Python-2025/blob/main/course_material/06162025_day1/01_python_basics.ipynb\n",
    ")\n"
   ]
  },
  {
   "cell_type": "markdown",
   "metadata": {},
   "source": [
    "---\n",
    "\n",
    "## Learning Goals\n",
    "By the end of this session, participants will:\n",
    "- Understand how to install and manage Python environments.\n",
    "- Use Jupyter Notebooks to write and execute Python code.\n",
    "- Define and use variables and data types.\n",
    "- Work with key data structures: lists, tuples, and dictionaries.\n",
    "- Recognize how these tools relate to bioimage analysis."
   ]
  },
  {
   "cell_type": "markdown",
   "metadata": {},
   "source": [
    "--- \n",
    "## What is Python and Why Are We Using It?\n",
    "Python is a programming language that's easy to learn, especially for beginners. In bioimage analysis, Python helps automate tasks like:\n",
    "- loading and processing large image datasets,\n",
    "- applying filters and segmentations,\n",
    "- extracting features, and\n",
    "- visualizing results.\n",
    "\n",
    "It’s like a microscope for your data: once you learn how to operate it, you can explore much more, and much faster."
   ]
  },
  {
   "cell_type": "markdown",
   "metadata": {},
   "source": [
    "---\n",
    "\n",
    "## Installing Python via Anaconda\n",
    "**Why use Anaconda?**\n",
    "\n",
    "Anaconda is like a toolbox that comes with:\n",
    "- Python (the language),\n",
    "- Jupyter Notebook (where we write and run code),\n",
    "- Packages (pre-installed tools like NumPy, Matplotlib, etc.).\n",
    "\n",
    "It removes the hassle of installing things one-by-one and makes scientific computing much smoother."
   ]
  },
  {
   "cell_type": "markdown",
   "metadata": {},
   "source": [
    "---\n",
    "\n",
    "## What is a Python Environment?\n",
    "\n",
    "### Analogy: Imaging Setup\n",
    "Think of a Python environment as a virtual imaging setup:\n",
    "- Your microscope needs a specific objective, filters, and settings to work for a particular experiment.\n",
    "- Similarly, your Python project needs certain packages, tools, and versions to run correctly.\n",
    "\n",
    "\n",
    "Environments help keep these project-specific tools isolated and clean, so:\n",
    "- Project A (image segmentation) doesn't break when you install tools for Project B (deep learning).\n",
    "\n",
    "### How to Create an Environment (Optional)\n",
    "Using Anaconda Navigator:\n",
    "[VIDEO LINK]\n",
    "\n",
    "Or via terminal:\n",
    "```\n",
    "conda create --name bioimage-env python=3.10\n",
    "conda activate bioimage-env\n",
    "```"
   ]
  },
  {
   "cell_type": "markdown",
   "metadata": {},
   "source": [
    "---\n",
    "\n",
    "## Using Jupyter Notebooks\n",
    "**What is Jupyter?**\n",
    "\n",
    "Jupyter Notebooks are like lab notebooks for code:\n",
    "\n",
    "- You write and test code in cells.\n",
    "- You can mix code, text, images, and results in one document.\n",
    "\n",
    "**How to Open Jupyter?**\n",
    "\n",
    "Using Anaconda Navigator:\n",
    "- Click on \"Launch\" under Jupyter Notebook.\n",
    "\n",
    "Using Terminal:\n",
    "\n",
    "```jupyter notebook```"
   ]
  },
  {
   "cell_type": "markdown",
   "metadata": {},
   "source": [
    "---\n",
    "\n",
    "## Variables and Basic Data Types\n",
    "\n",
    "A variable is a name that stores data. Think of it like labeling a tube in the lab.\n",
    "\n",
    "| Type       | Python Name | Example     | Analogy                   |\n",
    "| ---------- | ----------- | ----------- | ------------------------- |\n",
    "| Text       | `str`       | `\"GFP.tif\"` | Channel name or file name |\n",
    "| Whole #    | `int`       | `30`        | Z-slices in a stack       |\n",
    "| Decimal    | `float`     | `0.25`      | Pixel size in microns     |\n",
    "| True/False | `bool`      | `True`      | Is segmentation done?     |\n"
   ]
  },
  {
   "cell_type": "code",
   "execution_count": 1,
   "metadata": {},
   "outputs": [],
   "source": [
    "# A string (text)\n",
    "filename = \"cell_image.tif\"\n",
    "\n",
    "# An integer (whole number)\n",
    "num_slices = 30\n",
    "\n",
    "# A float (decimal)\n",
    "pixel_size = 0.25  # in micrometers\n",
    "\n",
    "# A boolean (True/False)\n",
    "is_segmented = True"
   ]
  },
  {
   "cell_type": "markdown",
   "metadata": {},
   "source": [
    "---\n",
    "\n",
    "## Data Structures in Python\n",
    "\n",
    "### Lists – Ordered Collections\n",
    "A list holds a collection of items like a channel stack."
   ]
  },
  {
   "cell_type": "code",
   "execution_count": 2,
   "metadata": {},
   "outputs": [
    {
     "name": "stdout",
     "output_type": "stream",
     "text": [
      "DAPI\n",
      "3\n",
      "[[1, 2, 3, 4], [5, 6, 7, 8]]\n"
     ]
    }
   ],
   "source": [
    "# Example 1:\n",
    "\n",
    "channels = [\"DAPI\", \"GFP\", \"RFP\"]\n",
    "print(channels[0])  # DAPI\n",
    "print(len(channels))  # 3\n",
    "\n",
    "\n",
    "# Example 2:\n",
    "\n",
    "image = [[1, 2, 3, 4],\n",
    "         [5, 6, 7, 8]]\n",
    "\n",
    "print(image)  # (2,4)"
   ]
  },
  {
   "cell_type": "markdown",
   "metadata": {},
   "source": [
    "### Tuples – Fixed-size Groupings\n",
    "Tuples are like lists but immutable (can’t be changed). Useful for things like image shape."
   ]
  },
  {
   "cell_type": "code",
   "execution_count": 3,
   "metadata": {},
   "outputs": [
    {
     "name": "stdout",
     "output_type": "stream",
     "text": [
      "512\n"
     ]
    }
   ],
   "source": [
    "image_dimensions = (512, 512)\n",
    "print(image_dimensions[1])  # 512 (width)"
   ]
  },
  {
   "cell_type": "markdown",
   "metadata": {},
   "source": [
    "Used for pixel dimensions, coordinates, etc."
   ]
  },
  {
   "cell_type": "markdown",
   "metadata": {},
   "source": [
    "### Dictionaries – Key-Value Pairs\n",
    "Dictionaries map keys to values, like an image’s metadata."
   ]
  },
  {
   "cell_type": "code",
   "execution_count": 4,
   "metadata": {},
   "outputs": [
    {
     "name": "stdout",
     "output_type": "stream",
     "text": [
      "['DAPI', 'GFP']\n"
     ]
    }
   ],
   "source": [
    "image_metadata = {\n",
    "    \"filename\": \"sample001.tif\",\n",
    "    \"dimensions\": (1024, 1024),\n",
    "    \"pixel_size\": 0.2,\n",
    "    \"channels\": [\"DAPI\", \"GFP\"]\n",
    "}\n",
    "\n",
    "print(image_metadata[\"channels\"])  # ['DAPI', 'GFP']"
   ]
  },
  {
   "cell_type": "markdown",
   "metadata": {},
   "source": [
    "---\n",
    "## Exercises"
   ]
  },
  {
   "cell_type": "markdown",
   "metadata": {},
   "source": [
    "## 1. Create and Print Variables"
   ]
  },
  {
   "cell_type": "code",
   "execution_count": 5,
   "metadata": {
    "tags": [
     "hide-cell"
    ]
   },
   "outputs": [
    {
     "name": "stdout",
     "output_type": "stream",
     "text": [
      "Sample: embryo_02, Z: 40, Pixel: 0.32\n"
     ]
    }
   ],
   "source": [
    "sample_name = \"embryo_02\"\n",
    "z_planes = 40\n",
    "pixel_spacing = 0.32\n",
    "is_noise_filtered = False\n",
    "\n",
    "print(f\"Sample: {sample_name}, Z: {z_planes}, Pixel: {pixel_spacing}\")"
   ]
  },
  {
   "cell_type": "code",
   "execution_count": 6,
   "metadata": {},
   "outputs": [],
   "source": [
    "# sample_name = # add a sample name as a string\n",
    "# z_planes = # add a number of z-planes as an integer\n",
    "# pixel_spacing = # add a pixel spacing as a float\n",
    "# is_noise_filtered = # add a boolean value\n",
    "\n",
    "# print(f\"Sample: {sample_name}, Z: {z_planes}, Pixel: {pixel_spacing}\")"
   ]
  },
  {
   "cell_type": "markdown",
   "metadata": {},
   "source": [
    "## 2. Work With a List"
   ]
  },
  {
   "cell_type": "code",
   "execution_count": 7,
   "metadata": {
    "tags": [
     "hide-cell"
    ]
   },
   "outputs": [
    {
     "name": "stdout",
     "output_type": "stream",
     "text": [
      "mCherry\n",
      "['Hoechst', 'GFP', 'mCherry', 'Alexa647']\n"
     ]
    }
   ],
   "source": [
    "fluorophores = [\"Hoechst\", \"GFP\", \"mCherry\"]\n",
    "print(fluorophores[2])  # mCherry\n",
    "fluorophores.append(\"Alexa647\")\n",
    "print(fluorophores)"
   ]
  },
  {
   "cell_type": "code",
   "execution_count": 8,
   "metadata": {},
   "outputs": [],
   "source": [
    "# fluorophores = # add a list of fluorophores as a list\n",
    "# print(fluorophores[2])  # # print the third fluorophore in the list\n",
    "# fluorophores.append(\"Alexa647\")  # # add a new fluorophore to the list\n",
    "# print(fluorophores)  # # print the list after adding a new fluorophore"
   ]
  },
  {
   "cell_type": "markdown",
   "metadata": {},
   "source": [
    "---\n",
    "*End of Chapter*"
   ]
  },
  {
   "cell_type": "markdown",
   "metadata": {},
   "source": []
  },
  {
   "cell_type": "markdown",
   "metadata": {},
   "source": []
  },
  {
   "cell_type": "markdown",
   "metadata": {},
   "source": [
    "Day 1:\n",
    "    - Module 1: Python Basics I - (tools and setup)\n",
    "        - What is Python?\n",
    "        - Why use Python?\n",
    "        - Environments in Python\n",
    "        - Python Coding tools (VSCode, Jupyter, Colab etc.)\n",
    "        - Jupyter / Colab walkthrough\n",
    "    - Module 2: Python Basics II - (intro to programming)\n",
    "        - Libraries and import functions\n",
    "            - Numpy, Pandas\n",
    "        - Variables\n",
    "            - int, float, string\n",
    "        - Data structures\n",
    "            - List, Tupple, Dictionary\n",
    "        - Logic flow\n",
    "            - if else statement\n",
    "        - Loops\n",
    "            - for and while\n",
    "        - Functions\n",
    "            - inbuilt functions (max, min, int, str, float, len, range)\n",
    "            - Custom functions (how def ...: works)\n",
    "\n",
    "Day 2:\n",
    "    - Module 3: Intro to bioimage analysis\n",
    "        - What it is\n",
    "        - Why do it\n",
    "        - History of it\n",
    "        - Current and future\n",
    "    - Module 4: Image as data/array\n",
    "        - What is a digital image\n",
    "        - Read different images in python (image I/O)\n",
    "            - Introduce scikit-image\n",
    "        - Metadata exploration, shape prints etc.\n",
    "    - Module 5: Image visualization\n",
    "        - Libraries and tools\n",
    "            - Napari, Matplotlib\n",
    "    - Module 6: Basics of image processing\n",
    "        - Filters\n",
    "        - Convolution?\n",
    "    - Module 7: Image segmentation basics\n",
    "        - Thresholding\n",
    "            - Number, mean, median, Otsu\n",
    "        - Validation\n",
    "            - Visual, comparison\n",
    "\n",
    "Day 3:\n",
    "    - Module 8: Intro to deep learning\n",
    "        - CNN, libraries etc.\n",
    "    - Module 9: Segmentation with Cellpose and StarDist\n",
    "        - Cellpose\n",
    "            - What is Cellpose\n",
    "            - Segmentation and visualization\n",
    "            - Parameters\n",
    "        - StarDist\n",
    "            - What is StarDist\n",
    "            - Segmentation and visualization\n",
    "            - Parameters\n",
    "    - Module 10: Putting it all together\n",
    "        - Tools and resources (ZeroCostDL4Mic, BioModelZoo)\n",
    "        - Capston project"
   ]
  },
  {
   "cell_type": "markdown",
   "metadata": {},
   "source": []
  }
 ],
 "metadata": {
  "kernelspec": {
   "display_name": "gbi-python-env",
   "language": "python",
   "name": "python3"
  },
  "language_info": {
   "codemirror_mode": {
    "name": "ipython",
    "version": 3
   },
   "file_extension": ".py",
   "mimetype": "text/x-python",
   "name": "python",
   "nbconvert_exporter": "python",
   "pygments_lexer": "ipython3",
   "version": "3.11.4"
  }
 },
 "nbformat": 4,
 "nbformat_minor": 2
}