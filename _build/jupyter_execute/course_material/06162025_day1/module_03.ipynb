{
 "cells": [
  {
   "cell_type": "markdown",
   "metadata": {},
   "source": [
    "# Data Structures & Control Flow in Python"
   ]
  },
  {
   "cell_type": "markdown",
   "metadata": {},
   "source": [
    "---\n",
    "## Learning Objectives\n",
    "By the end of this module, you will be able to:\n",
    "- Understand and use basic Python data structures: lists, tuples, and dictionaries.\n",
    "- Write and interpret conditional logic using `if`, `elif`, `else`.\n",
    "- Create loops using `for` and `while` to repeat tasks efficiently.\n",
    "- Identify and fix common programming errors like `IndexError` and `TypeError`."
   ]
  },
  {
   "cell_type": "markdown",
   "metadata": {},
   "source": [
    "---\n",
    "## Data Structures – Lists, Tuples, Dictionaries\n",
    "**What Are Data Structures?**\n",
    "Data structures are containers used to store and organize data in your code—just like how you'd store slides in trays or data in spreadsheets."
   ]
  },
  {
   "cell_type": "markdown",
   "metadata": {},
   "source": [
    "### Lists (`[]`)\n",
    "Think of it like a tray of labeled slides – the order matters, and you can change what’s inside.\n",
    "\n",
    "```python\n",
    "samples = [\"liver\", \"brain\", \"heart\"]\n",
    "```\n",
    "\n",
    "- **Ordered:** The first item is always samples[0]\n",
    "- **Mutable:** You can modify the list\n",
    "\n",
    "```python\n",
    "samples[1] = \"kidney\"\n",
    "```\n",
    "\n",
    "**Visualization:**\n",
    "\n",
    "```vbnet\n",
    "Index:     0       1        2\n",
    "Values:  \"liver\" \"brain\" \"heart\"\n",
    "```"
   ]
  },
  {
   "cell_type": "markdown",
   "metadata": {},
   "source": [
    "### Tuples (`()`)\n",
    "Tuples are like fixed coordinates on a microscope stage. Once set, you don’t move them.\n",
    "\n",
    "```python\n",
    "coordinates = (100, 200)\n",
    "```\n",
    "\n",
    "- Ordered\n",
    "- Immutable (cannot change items)\n",
    "- Useful when you want to ensure values remain constant"
   ]
  },
  {
   "cell_type": "markdown",
   "metadata": {},
   "source": [
    "### Dictionaries (`{}`)\n",
    "Dictionaries are like spreadsheets with column headers—each value has a name.\n",
    "\n",
    "```python\n",
    "metadata = {\n",
    "    \"magnification\": 40,\n",
    "    \"sample\": \"liver\"\n",
    "}\n",
    "```\n",
    "- Key-value pairs\n",
    "- Great for storing labeled data or metadata\n",
    "\n",
    "**Visualization:**\n",
    "```lua\n",
    "Key             | Value\n",
    "----------------|--------\n",
    "\"magnification\" | 40\n",
    "\"sample\"        | \"liver\"\n",
    "```"
   ]
  },
  {
   "cell_type": "markdown",
   "metadata": {},
   "source": [
    "---\n",
    "\n",
    "## Conditional Logic – `if`, `elif`, `else`\n",
    "**What Is Control Flow?**\n",
    "\n",
    "Control flow is how a program decides what to do next, like how you might choose a staining protocol based on the type of tissue.\n",
    "\n",
    "### `if`, `elif`, `else`\n",
    "Used for decision making:\n",
    "\n",
    "```python\n",
    "signal = 120\n",
    "\n",
    "if signal > 200:\n",
    "    print(\"High signal\")\n",
    "elif signal > 100:\n",
    "    print(\"Medium signal\")\n",
    "else:\n",
    "    print(\"Low signal\")\n",
    "```\n",
    "\n",
    "**Visualization:**\n",
    "```plaintext\n",
    "            +----------------+\n",
    "            | signal = 120   |\n",
    "            +--------+-------+\n",
    "                     |\n",
    "              +------v------+\n",
    "              | signal >200?|--No--> \n",
    "              +------+------+\n",
    "                     |\n",
    "              Yes    v\n",
    "               \"High signal\"\n",
    "```\n",
    "You can think of this like a flowchart, where the program flows differently depending on conditions."
   ]
  },
  {
   "cell_type": "markdown",
   "metadata": {},
   "source": [
    "---\n",
    "\n",
    "## Loops – Repeating Tasks\n",
    "**What Are Loops?**\n",
    "Loops let you repeat a task without writing it over and over, just like batch-processing images.\n",
    "\n",
    "### `for` Loop – Looping Over Items\n",
    "Best when you know how many items you have.\n",
    "\n",
    "```python\n",
    "samples = [\"liver\", \"heart\", \"brain\"]\n",
    "for sample in samples:\n",
    "    print(\"Analyzing\", sample)\n",
    "```\n",
    "\n",
    "**What’s Happening?**\n",
    "\n",
    "It picks each item in the list and runs the block inside the loop for each.\n",
    "\n",
    "**Visualization:**\n",
    "```plaintext\n",
    "for sample in [\"liver\", \"heart\", \"brain\"]\n",
    "   ├──> print(\"Analyzing liver\")\n",
    "   ├──> print(\"Analyzing heart\")\n",
    "   └──> print(\"Analyzing brain\")\n",
    "```\n",
    "\n",
    "### `while` Loop – Based on Condition\n",
    "Use when you don't know how many repetitions, like waiting for a sample to reach a threshold.\n",
    "\n",
    "```python\n",
    "intensity = 50\n",
    "while intensity < 100:\n",
    "    print(\"Signal too low\")\n",
    "    intensity += 10\n",
    "```\n",
    "**Visualization:**\n",
    "\n",
    "```plaintext\n",
    "intensity = 50\n",
    "       |\n",
    "+------v------+\n",
    "| intensity<100? |\n",
    "+------+------+\n",
    "       | Yes\n",
    "       v\n",
    "  \"Signal too low\"\n",
    "       |\n",
    "+------v------+\n",
    "| intensity+=10 |\n",
    "+-------------+\n",
    "```"
   ]
  },
  {
   "cell_type": "markdown",
   "metadata": {},
   "source": [
    "---\n",
    "\n",
    "## Common Errors & Debugging\n",
    "\n",
    "| Error Type   | What It Means                                          | How to Fix                       |\n",
    "| ------------ | ------------------------------------------------------ | -------------------------------- |\n",
    "| `IndexError` | Trying to access an index that doesn’t exist in a list | Check list length with `len()`   |\n",
    "| `TypeError`  | Using incompatible types (e.g., string + int)          | Use `int()`, `str()` to convert  |\n",
    "| `KeyError`   | Dictionary key doesn’t exist                           | Use `.get(key)` to safely access |\n",
    "\n",
    "### Example & Fix\n",
    "```python\n",
    "samples = [\"liver\", \"heart\"]\n",
    "\n",
    "# IndexError\n",
    "print(samples[5])  # ❌ Invalid index\n",
    "\n",
    "# TypeError\n",
    "print(\"5\" + 2)     # ❌ Cannot add string and int\n",
    "\n",
    "# KeyError\n",
    "meta = {\"stain\": \"DAPI\"}\n",
    "print(meta[\"channel\"])  # ❌ Key not found\n",
    "```\n",
    "\n",
    "### Fix:\n",
    "\n",
    "```python\n",
    "print(samples[0])        # Access safely\n",
    "print(\"5\" + str(2))      # Convert int to string\n",
    "print(meta.get(\"channel\", \"N/A\"))  # Safe access\n",
    "```"
   ]
  },
  {
   "cell_type": "markdown",
   "metadata": {},
   "source": [
    "---\n",
    "## Hands-On Practice\n",
    "**Exercise 1: Create Data Structures**\n",
    "```python\n",
    "samples = []    # List\n",
    "position = ()   # Tuple\n",
    "meta = {}       # Dictionary\n",
    "```"
   ]
  },
  {
   "cell_type": "code",
   "execution_count": 1,
   "metadata": {
    "tags": [
     "hide-cell"
    ]
   },
   "outputs": [],
   "source": [
    "samples = [\"liver\", \"kidney\", \"brain\"]\n",
    "position = (100, 200)\n",
    "meta = {\"stain\": \"Hoechst\", \"channel\": \"blue\"}"
   ]
  },
  {
   "cell_type": "markdown",
   "metadata": {},
   "source": [
    "**Exercise 2: Intensity Classification**\n",
    "```python\n",
    "intensity = \n",
    "if intensity is greater than 200:\n",
    "    print \"High\"\n",
    "if intensity is between 100 and 200:\n",
    "    print \"Medium\"\n",
    "if intensity is below 100:\n",
    "    print \"Low\"\n",
    "```"
   ]
  },
  {
   "cell_type": "code",
   "execution_count": 2,
   "metadata": {
    "tags": [
     "hide-cell"
    ]
   },
   "outputs": [
    {
     "name": "stdout",
     "output_type": "stream",
     "text": [
      "Medium\n"
     ]
    }
   ],
   "source": [
    "intensity = 150\n",
    "if intensity > 200:\n",
    "    print(\"High\")\n",
    "elif intensity > 100:\n",
    "    print(\"Medium\")\n",
    "else:\n",
    "    print(\"Low\")"
   ]
  },
  {
   "cell_type": "markdown",
   "metadata": {},
   "source": [
    "**Exercise 3: Loop Over Filenames**\n",
    "```python\n",
    "images = [] # Image names\n",
    "for img in images:\n",
    "    print(\"Processing:\", img)\n",
    "```"
   ]
  },
  {
   "cell_type": "code",
   "execution_count": 3,
   "metadata": {
    "tags": [
     "hide-cell"
    ]
   },
   "outputs": [
    {
     "name": "stdout",
     "output_type": "stream",
     "text": [
      "Processing: img1.tif\n",
      "Processing: img2.tif\n",
      "Processing: img3.tif\n"
     ]
    }
   ],
   "source": [
    "images = [\"img1.tif\", \"img2.tif\", \"img3.tif\"]\n",
    "for img in images:\n",
    "    print(\"Processing:\", img)"
   ]
  },
  {
   "cell_type": "markdown",
   "metadata": {},
   "source": [
    "**Exercise 4: Debug the Errors**\n",
    "Try fixing:\n",
    "\n",
    "```python\n",
    "samples = [\"liver\"]\n",
    "print(samples[2])\n",
    "\n",
    "print(\"value: \" + 10)\n",
    "\n",
    "meta = {\"type\": \"histology\"}\n",
    "print(meta[\"age\"])\n",
    "```"
   ]
  },
  {
   "cell_type": "code",
   "execution_count": 4,
   "metadata": {
    "tags": [
     "hide-cell"
    ]
   },
   "outputs": [
    {
     "name": "stdout",
     "output_type": "stream",
     "text": [
      "['liver']\n",
      "value: 10\n",
      "histology\n"
     ]
    }
   ],
   "source": [
    "samples = [\"liver\"]\n",
    "print(samples)\n",
    "\n",
    "print(\"value: \" + str(10))\n",
    "\n",
    "meta = {\"type\": \"histology\"}\n",
    "print(meta[\"type\"])"
   ]
  },
  {
   "cell_type": "markdown",
   "metadata": {},
   "source": [
    "---\n",
    "## Mini Project: Sample Summary Tool\n",
    "Build a small script that helps you evaluate signal quality from different tissue samples.\n",
    "- For each sample in a list (e.g., \"liver\", \"kidney\", \"heart\")\n",
    "- Ask the user to enter a signal intensity\n",
    "- Use if statements to classify the signal as \"Good\", \"Moderate\", or \"Poor\"\n",
    "- Print a summary for each."
   ]
  },
  {
   "cell_type": "code",
   "execution_count": 5,
   "metadata": {
    "tags": [
     "hide-cell"
    ]
   },
   "outputs": [
    {
     "name": "stdout",
     "output_type": "stream",
     "text": [
      "liver signal: 150 - Moderate\n",
      "kidney signal: 100 - Moderate\n",
      "heart signal: 200 - Good\n"
     ]
    }
   ],
   "source": [
    "samples = [\"liver\", \"kidney\", \"heart\"]\n",
    "intensities = [150, 100, 200]\n",
    "for i, sample in enumerate(samples):\n",
    "    intensity = intensities[i]\n",
    "    if intensity > 150:\n",
    "        result = \"Good\"\n",
    "    elif intensity > 75:\n",
    "        result = \"Moderate\"\n",
    "    else:\n",
    "        result = \"Poor\"\n",
    "    \n",
    "    print(f\"{sample} signal: {intensity} - {result}\")"
   ]
  },
  {
   "cell_type": "markdown",
   "metadata": {},
   "source": [
    "---\n",
    "## Module Summary\n",
    "| Concept        | Key Idea                                |\n",
    "| -------------- | --------------------------------------- |\n",
    "| **List**       | Changeable collection (e.g., filenames) |\n",
    "| **Tuple**      | Fixed coordinates                       |\n",
    "| **Dictionary** | Key-value pairs (e.g., metadata)        |\n",
    "| **If-Else**    | Decision-making                         |\n",
    "| **For loop**   | Repeat over known items                 |\n",
    "| **While loop** | Repeat until a condition is false       |\n",
    "| **Errors**     | Fix by checking types and bounds        |"
   ]
  },
  {
   "cell_type": "markdown",
   "metadata": {},
   "source": []
  }
 ],
 "metadata": {
  "kernelspec": {
   "display_name": "gbi-python-env",
   "language": "python",
   "name": "python3"
  },
  "language_info": {
   "codemirror_mode": {
    "name": "ipython",
    "version": 3
   },
   "file_extension": ".py",
   "mimetype": "text/x-python",
   "name": "python",
   "nbconvert_exporter": "python",
   "pygments_lexer": "ipython3",
   "version": "3.11.4"
  }
 },
 "nbformat": 4,
 "nbformat_minor": 2
}