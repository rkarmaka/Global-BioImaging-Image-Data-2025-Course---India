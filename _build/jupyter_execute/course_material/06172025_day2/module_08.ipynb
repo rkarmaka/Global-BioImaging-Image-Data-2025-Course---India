{
 "cells": [
  {
   "cell_type": "markdown",
   "metadata": {},
   "source": [
    "# Working with Images in Python Using scikit-image and imageio"
   ]
  },
  {
   "cell_type": "markdown",
   "metadata": {},
   "source": [
    "---\n",
    "## Learning Objectives\n",
    "By the end of this module, learners will be able to:\n",
    "- Load common bioimage file formats using imageio and scikit-image\n",
    "- Access and interpret image metadata\n",
    "- Understand image shapes, dimensions, and slicing techniques\n",
    "- Work with multi-dimensional image stacks\n",
    "- Apply these skills to real microscopy data"
   ]
  },
  {
   "cell_type": "markdown",
   "metadata": {},
   "source": [
    "---\n",
    "## Reading Image Files (`.png`, `.jpg`, `.tif`)\n",
    "Digital images are arrays of pixel values. Python libraries like imageio and scikit-image allow you to read and manipulate image files. Formats like `.png`, `.jpg`, and `.tif` are commonly used in microscopy for saving data or visualizations.\n",
    "- `.jpg`: Compressed (lossy), commonly used for visualization\n",
    "- `.png`: Lossless, good for plots and masks\n",
    "- `.tif`: Can store multi-channel and multi-dimensional image stacks, often used in microscopy"
   ]
  },
  {
   "cell_type": "markdown",
   "metadata": {},
   "source": [
    "### Hands-On: Loading Images"
   ]
  },
  {
   "cell_type": "code",
   "execution_count": 1,
   "metadata": {},
   "outputs": [
    {
     "name": "stderr",
     "output_type": "stream",
     "text": [
      "/var/folders/5t/3zkcp0dd27s3txcmjn8jl96m0000gq/T/ipykernel_20560/2197165173.py:6: DeprecationWarning: Starting with ImageIO v3 the behavior of this function will switch to that of iio.v3.imread. To keep the current behavior (and make this warning disappear) use `import imageio.v2 as imageio` or call `imageio.v2.imread` directly.\n",
      "  img_png = imageio.imread('data/nuclei.png')\n"
     ]
    },
    {
     "ename": "FileNotFoundError",
     "evalue": "No such file: '/Users/ranit/Research/github/Global-BioImaging-Image-Data-2025-Course---India/course_material/06172025_day2/data/nuclei.png'",
     "output_type": "error",
     "traceback": [
      "\u001b[31m---------------------------------------------------------------------------\u001b[39m",
      "\u001b[31mFileNotFoundError\u001b[39m                         Traceback (most recent call last)",
      "\u001b[36mCell\u001b[39m\u001b[36m \u001b[39m\u001b[32mIn[1]\u001b[39m\u001b[32m, line 6\u001b[39m\n\u001b[32m      3\u001b[39m \u001b[38;5;28;01mimport\u001b[39;00m\u001b[38;5;250m \u001b[39m\u001b[34;01mmatplotlib\u001b[39;00m\u001b[34;01m.\u001b[39;00m\u001b[34;01mpyplot\u001b[39;00m\u001b[38;5;250m \u001b[39m\u001b[38;5;28;01mas\u001b[39;00m\u001b[38;5;250m \u001b[39m\u001b[34;01mplt\u001b[39;00m\n\u001b[32m      5\u001b[39m \u001b[38;5;66;03m# Load a PNG image\u001b[39;00m\n\u001b[32m----> \u001b[39m\u001b[32m6\u001b[39m img_png = \u001b[43mimageio\u001b[49m\u001b[43m.\u001b[49m\u001b[43mimread\u001b[49m\u001b[43m(\u001b[49m\u001b[33;43m'\u001b[39;49m\u001b[33;43mdata/nuclei.png\u001b[39;49m\u001b[33;43m'\u001b[39;49m\u001b[43m)\u001b[49m\n\u001b[32m      8\u001b[39m \u001b[38;5;66;03m# Load a JPG image\u001b[39;00m\n\u001b[32m      9\u001b[39m img_jpg = io.imread(\u001b[33m'\u001b[39m\u001b[33mexample_image.jpg\u001b[39m\u001b[33m'\u001b[39m)\n",
      "\u001b[36mFile \u001b[39m\u001b[32m~/anaconda3/envs/gbi-python-env/lib/python3.13/site-packages/imageio/__init__.py:97\u001b[39m, in \u001b[36mimread\u001b[39m\u001b[34m(uri, format, **kwargs)\u001b[39m\n\u001b[32m     68\u001b[39m \u001b[38;5;250m\u001b[39m\u001b[33;03m\"\"\"imread(uri, format=None, **kwargs)\u001b[39;00m\n\u001b[32m     69\u001b[39m \n\u001b[32m     70\u001b[39m \u001b[33;03mReads an image from the specified file. Returns a numpy array, which\u001b[39;00m\n\u001b[32m   (...)\u001b[39m\u001b[32m     86\u001b[39m \u001b[33;03m    to see what arguments are available for a particular format.\u001b[39;00m\n\u001b[32m     87\u001b[39m \u001b[33;03m\"\"\"\u001b[39;00m\n\u001b[32m     89\u001b[39m warnings.warn(\n\u001b[32m     90\u001b[39m     \u001b[33m\"\u001b[39m\u001b[33mStarting with ImageIO v3 the behavior of this function will switch to that of\u001b[39m\u001b[33m\"\u001b[39m\n\u001b[32m     91\u001b[39m     \u001b[33m\"\u001b[39m\u001b[33m iio.v3.imread. To keep the current behavior (and make this warning disappear)\u001b[39m\u001b[33m\"\u001b[39m\n\u001b[32m   (...)\u001b[39m\u001b[32m     94\u001b[39m     stacklevel=\u001b[32m2\u001b[39m,\n\u001b[32m     95\u001b[39m )\n\u001b[32m---> \u001b[39m\u001b[32m97\u001b[39m \u001b[38;5;28;01mreturn\u001b[39;00m \u001b[43mimread_v2\u001b[49m\u001b[43m(\u001b[49m\u001b[43muri\u001b[49m\u001b[43m,\u001b[49m\u001b[43m \u001b[49m\u001b[38;5;28;43mformat\u001b[39;49m\u001b[43m=\u001b[49m\u001b[38;5;28;43mformat\u001b[39;49m\u001b[43m,\u001b[49m\u001b[43m \u001b[49m\u001b[43m*\u001b[49m\u001b[43m*\u001b[49m\u001b[43mkwargs\u001b[49m\u001b[43m)\u001b[49m\n",
      "\u001b[36mFile \u001b[39m\u001b[32m~/anaconda3/envs/gbi-python-env/lib/python3.13/site-packages/imageio/v2.py:359\u001b[39m, in \u001b[36mimread\u001b[39m\u001b[34m(uri, format, **kwargs)\u001b[39m\n\u001b[32m    356\u001b[39m imopen_args = decypher_format_arg(\u001b[38;5;28mformat\u001b[39m)\n\u001b[32m    357\u001b[39m imopen_args[\u001b[33m\"\u001b[39m\u001b[33mlegacy_mode\u001b[39m\u001b[33m\"\u001b[39m] = \u001b[38;5;28;01mTrue\u001b[39;00m\n\u001b[32m--> \u001b[39m\u001b[32m359\u001b[39m \u001b[38;5;28;01mwith\u001b[39;00m \u001b[43mimopen\u001b[49m\u001b[43m(\u001b[49m\u001b[43muri\u001b[49m\u001b[43m,\u001b[49m\u001b[43m \u001b[49m\u001b[33;43m\"\u001b[39;49m\u001b[33;43mri\u001b[39;49m\u001b[33;43m\"\u001b[39;49m\u001b[43m,\u001b[49m\u001b[43m \u001b[49m\u001b[43m*\u001b[49m\u001b[43m*\u001b[49m\u001b[43mimopen_args\u001b[49m\u001b[43m)\u001b[49m \u001b[38;5;28;01mas\u001b[39;00m file:\n\u001b[32m    360\u001b[39m     result = file.read(index=\u001b[32m0\u001b[39m, **kwargs)\n\u001b[32m    362\u001b[39m \u001b[38;5;28;01mreturn\u001b[39;00m result\n",
      "\u001b[36mFile \u001b[39m\u001b[32m~/anaconda3/envs/gbi-python-env/lib/python3.13/site-packages/imageio/core/imopen.py:113\u001b[39m, in \u001b[36mimopen\u001b[39m\u001b[34m(uri, io_mode, plugin, extension, format_hint, legacy_mode, **kwargs)\u001b[39m\n\u001b[32m    111\u001b[39m     request.format_hint = format_hint\n\u001b[32m    112\u001b[39m \u001b[38;5;28;01melse\u001b[39;00m:\n\u001b[32m--> \u001b[39m\u001b[32m113\u001b[39m     request = \u001b[43mRequest\u001b[49m\u001b[43m(\u001b[49m\u001b[43muri\u001b[49m\u001b[43m,\u001b[49m\u001b[43m \u001b[49m\u001b[43mio_mode\u001b[49m\u001b[43m,\u001b[49m\u001b[43m \u001b[49m\u001b[43mformat_hint\u001b[49m\u001b[43m=\u001b[49m\u001b[43mformat_hint\u001b[49m\u001b[43m,\u001b[49m\u001b[43m \u001b[49m\u001b[43mextension\u001b[49m\u001b[43m=\u001b[49m\u001b[43mextension\u001b[49m\u001b[43m)\u001b[49m\n\u001b[32m    115\u001b[39m source = \u001b[33m\"\u001b[39m\u001b[33m<bytes>\u001b[39m\u001b[33m\"\u001b[39m \u001b[38;5;28;01mif\u001b[39;00m \u001b[38;5;28misinstance\u001b[39m(uri, \u001b[38;5;28mbytes\u001b[39m) \u001b[38;5;28;01melse\u001b[39;00m uri\n\u001b[32m    117\u001b[39m \u001b[38;5;66;03m# fast-path based on plugin\u001b[39;00m\n\u001b[32m    118\u001b[39m \u001b[38;5;66;03m# (except in legacy mode)\u001b[39;00m\n",
      "\u001b[36mFile \u001b[39m\u001b[32m~/anaconda3/envs/gbi-python-env/lib/python3.13/site-packages/imageio/core/request.py:249\u001b[39m, in \u001b[36mRequest.__init__\u001b[39m\u001b[34m(self, uri, mode, extension, format_hint, **kwargs)\u001b[39m\n\u001b[32m    246\u001b[39m     \u001b[38;5;28;01mraise\u001b[39;00m \u001b[38;5;167;01mValueError\u001b[39;00m(\u001b[33mf\u001b[39m\u001b[33m\"\u001b[39m\u001b[33mInvalid Request.Mode: \u001b[39m\u001b[38;5;132;01m{\u001b[39;00mmode\u001b[38;5;132;01m}\u001b[39;00m\u001b[33m\"\u001b[39m)\n\u001b[32m    248\u001b[39m \u001b[38;5;66;03m# Parse what was given\u001b[39;00m\n\u001b[32m--> \u001b[39m\u001b[32m249\u001b[39m \u001b[38;5;28;43mself\u001b[39;49m\u001b[43m.\u001b[49m\u001b[43m_parse_uri\u001b[49m\u001b[43m(\u001b[49m\u001b[43muri\u001b[49m\u001b[43m)\u001b[49m\n\u001b[32m    251\u001b[39m \u001b[38;5;66;03m# Set extension\u001b[39;00m\n\u001b[32m    252\u001b[39m \u001b[38;5;28;01mif\u001b[39;00m extension \u001b[38;5;129;01mis\u001b[39;00m \u001b[38;5;129;01mnot\u001b[39;00m \u001b[38;5;28;01mNone\u001b[39;00m:\n",
      "\u001b[36mFile \u001b[39m\u001b[32m~/anaconda3/envs/gbi-python-env/lib/python3.13/site-packages/imageio/core/request.py:409\u001b[39m, in \u001b[36mRequest._parse_uri\u001b[39m\u001b[34m(self, uri)\u001b[39m\n\u001b[32m    406\u001b[39m \u001b[38;5;28;01mif\u001b[39;00m is_read_request:\n\u001b[32m    407\u001b[39m     \u001b[38;5;66;03m# Reading: check that the file exists (but is allowed a dir)\u001b[39;00m\n\u001b[32m    408\u001b[39m     \u001b[38;5;28;01mif\u001b[39;00m \u001b[38;5;129;01mnot\u001b[39;00m os.path.exists(fn):\n\u001b[32m--> \u001b[39m\u001b[32m409\u001b[39m         \u001b[38;5;28;01mraise\u001b[39;00m \u001b[38;5;167;01mFileNotFoundError\u001b[39;00m(\u001b[33m\"\u001b[39m\u001b[33mNo such file: \u001b[39m\u001b[33m'\u001b[39m\u001b[38;5;132;01m%s\u001b[39;00m\u001b[33m'\u001b[39m\u001b[33m\"\u001b[39m % fn)\n\u001b[32m    410\u001b[39m \u001b[38;5;28;01melse\u001b[39;00m:\n\u001b[32m    411\u001b[39m     \u001b[38;5;66;03m# Writing: check that the directory to write to does exist\u001b[39;00m\n\u001b[32m    412\u001b[39m     dn = os.path.dirname(fn)\n",
      "\u001b[31mFileNotFoundError\u001b[39m: No such file: '/Users/ranit/Research/github/Global-BioImaging-Image-Data-2025-Course---India/course_material/06172025_day2/data/nuclei.png'"
     ]
    }
   ],
   "source": [
    "import imageio\n",
    "from skimage import io\n",
    "import matplotlib.pyplot as plt\n",
    "\n",
    "# Load a PNG image\n",
    "img_png = imageio.imread('data/nuclei.png')\n",
    "\n",
    "# Load a JPG image\n",
    "img_jpg = io.imread('example_image.jpg')\n",
    "\n",
    "# Load a TIFF image\n",
    "img_tif = io.imread('data/nuclei.tif')\n",
    "\n",
    "# Display\n",
    "plt.imshow(img_png, cmap='gray')\n",
    "plt.title('PNG Image')\n",
    "plt.axis('off')\n",
    "plt.show()"
   ]
  },
  {
   "cell_type": "markdown",
   "metadata": {},
   "source": [
    "### Exercise\n",
    "- Load one `.jpg`, one `.png`, and one `.tif` image from your dataset or provided images\n",
    "- Print the shape and data type of each image\n",
    "- Display the images using matplotlib.pyplot"
   ]
  },
  {
   "cell_type": "markdown",
   "metadata": {},
   "source": [
    "---\n",
    "## Exploring Metadata and Dimensions\n",
    "Metadata refers to additional information stored in an image file, such as pixel spacing, acquisition date, or microscope settings. Understanding dimensions is crucial for navigating images (e.g., grayscale, RGB, or 3D stacks).\n",
    "- Grayscale: 2D (H × W)\n",
    "- RGB: 3D (H × W × 3)\n",
    "- Multichannel stack: 3D or 4D (Z × H × W or C × Z × H × W)"
   ]
  },
  {
   "cell_type": "markdown",
   "metadata": {},
   "source": [
    "### Hands-On: Accessing Shape and Metadata"
   ]
  },
  {
   "cell_type": "code",
   "execution_count": null,
   "metadata": {},
   "outputs": [],
   "source": [
    "# TIFF metadata\n",
    "img_reader = imageio.get_reader('example_stack.tif')\n",
    "meta = img_reader.get_meta_data()\n",
    "\n",
    "print(\"Number of frames:\", img_reader.get_length())\n",
    "print(\"Metadata:\", meta)\n",
    "\n",
    "\n",
    "# Checking image shape\n",
    "image = io.imread('example_stack.tif')\n",
    "print(\"Image shape:\", image.shape)"
   ]
  },
  {
   "cell_type": "markdown",
   "metadata": {},
   "source": [
    "### Exercise\n",
    "- Check whether your image is grayscale, RGB, or multi-channel\n",
    "- Try printing metadata from .tif file\n",
    "- Find out the number of slices (frames) in a stack"
   ]
  },
  {
   "cell_type": "markdown",
   "metadata": {},
   "source": [
    "---\n",
    "## Slicing Image Stacks\n",
    "Image stacks are collections of 2D images across time or depth (Z-stacks). To process or visualize a specific layer or frame, you can use array slicing.\n",
    "\n",
    "For example, given a 3D image (Z × H × W):\n",
    "- image[0] gives you the first slice (2D)\n",
    "- image[5:10] gives you a subset of the stack"
   ]
  },
  {
   "cell_type": "markdown",
   "metadata": {},
   "source": [
    "### Hands-On: Slicing"
   ]
  },
  {
   "cell_type": "code",
   "execution_count": null,
   "metadata": {},
   "outputs": [],
   "source": [
    "# Load a 3D image stack\n",
    "stack = io.imread('example_stack.tif')\n",
    "print(\"Stack shape:\", stack.shape)\n",
    "\n",
    "# Visualize first slice\n",
    "plt.imshow(stack[0], cmap='gray')\n",
    "plt.title('First Z-slice')\n",
    "plt.axis('off')\n",
    "plt.show()\n",
    "\n",
    "# Visualize middle slice\n",
    "mid = stack.shape[0] // 2\n",
    "plt.imshow(stack[mid], cmap='gray')\n",
    "plt.title('Middle Z-slice')\n",
    "plt.axis('off')\n",
    "plt.show()"
   ]
  },
  {
   "cell_type": "markdown",
   "metadata": {},
   "source": [
    "### Exercise\n",
    "- Visualize the first, middle, and last slices of your image stack\n",
    "- Try looping through and displaying a montage of a few slices"
   ]
  },
  {
   "cell_type": "markdown",
   "metadata": {},
   "source": [
    "---\n",
    "## Mini Project: Explore a Multichannel TIFF Microscopy Dataset\n",
    "*Objective:* Load a multi-channel .tif file from a microscopy experiment and:\n",
    "\n",
    "*Tasks*\n",
    "- Identify the number of channels and slices\n",
    "- Visualize a slice from each channel\n",
    "- Save one representative slice per channel as `.png`"
   ]
  },
  {
   "cell_type": "code",
   "execution_count": null,
   "metadata": {},
   "outputs": [],
   "source": [
    "from skimage.io import imread, imsave\n",
    "import numpy as np\n",
    "\n",
    "# Load a sample multi-channel stack (e.g., shape: C × Z × H × W)\n",
    "img = imread('multi_channel_stack.tif')\n",
    "\n",
    "# Check shape\n",
    "print(\"Image shape:\", img.shape)  # Adjust slicing if needed\n",
    "\n",
    "# Loop through channels and save mid-slice\n",
    "for c in range(img.shape[0]):\n",
    "    mid = img.shape[1] // 2\n",
    "    slice_img = img[c, mid, :, :]\n",
    "    \n",
    "    plt.imshow(slice_img, cmap='gray')\n",
    "    plt.title(f'Channel {c+1} - Mid Z-slice')\n",
    "    plt.axis('off')\n",
    "    plt.show()\n",
    "    \n",
    "    # Save as PNG\n",
    "    imsave(f'channel_{c+1}_slice.png', slice_img.astype(np.uint8))"
   ]
  },
  {
   "cell_type": "markdown",
   "metadata": {},
   "source": [
    "---\n",
    "## Module Summary\n",
    "| Topic                         | Skill Gained                                                   |\n",
    "| ----------------------------- | -------------------------------------------------------------- |\n",
    "| Reading image formats         | Loading `.png`, `.jpg`, `.tif` using `imageio` and `skimage`   |\n",
    "| Understanding image structure | Distinguishing grayscale, RGB, and multi-channel formats       |\n",
    "| Metadata exploration          | Accessing number of frames and descriptive image info          |\n",
    "| Image slicing                 | Extracting 2D slices from 3D stacks                            |\n",
    "| Mini project                  | Integrating loading, slicing, and saving slices from a dataset |\n"
   ]
  }
 ],
 "metadata": {
  "kernelspec": {
   "display_name": "gbi-python-env",
   "language": "python",
   "name": "python3"
  },
  "language_info": {
   "codemirror_mode": {
    "name": "ipython",
    "version": 3
   },
   "file_extension": ".py",
   "mimetype": "text/x-python",
   "name": "python",
   "nbconvert_exporter": "python",
   "pygments_lexer": "ipython3",
   "version": "3.13.0"
  }
 },
 "nbformat": 4,
 "nbformat_minor": 2
}