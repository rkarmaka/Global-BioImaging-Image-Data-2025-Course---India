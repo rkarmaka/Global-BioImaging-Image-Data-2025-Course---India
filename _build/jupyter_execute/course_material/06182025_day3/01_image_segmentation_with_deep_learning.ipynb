{
 "cells": [
  {
   "cell_type": "markdown",
   "metadata": {},
   "source": [
    "# Image segmentation with deep learning (Cellpose, StarDist – object-based approaches)\n",
    "This session introduces object-based image segmentation using deep learning models specifically designed for microscopy images: Cellpose and StarDist. These models allow robust detection and segmentation of cells or nuclei in challenging microscopy datasets — without the need for training from scratch."
   ]
  },
  {
   "cell_type": "markdown",
   "metadata": {},
   "source": [
    "---\n",
    "## Learning Objectives\n",
    "By the end of this session, learners will:\n",
    "\n",
    "- Understand the principles of object-based segmentation.\n",
    "- Know the strengths and limitations of Cellpose and StarDist.\n",
    "- Use Cellpose and StarDist on real microscopy images using Python and Napari.\n",
    "- Evaluate and visualize segmentation outputs."
   ]
  },
  {
   "cell_type": "markdown",
   "metadata": {},
   "source": [
    "---\n",
    "## Concepts Covered\n",
    "| Topic                              | Description                                                                                         |\n",
    "| ---------------------------------- | --------------------------------------------------------------------------------------------------- |\n",
    "| What is object-based segmentation? | Segmenting individual objects (cells/nuclei) instead of pixel-wise labels.                          |\n",
    "| Why deep learning?                 | Traditional thresholding struggles with overlapping or blurry cells. Deep models generalize better. |\n",
    "| Cellpose                           | Generalist deep learning model for cells, nuclei, and more.                                         |\n",
    "| StarDist                           | Object detector based on star-convex polygons, great for nuclei with varying shapes.                |\n"
   ]
  },
  {
   "cell_type": "markdown",
   "metadata": {},
   "source": [
    "---\n",
    "## Setup\n",
    "**Install required packages**\n",
    "\n",
    "`pip install cellpose stardist tifffile`\n",
    "\n",
    "**Load image**\n",
    "```python\n",
    "from tifffile import imread\n",
    "\n",
    "image = imread('example_nuclei.tif')\n",
    "```"
   ]
  },
  {
   "cell_type": "code",
   "execution_count": 1,
   "metadata": {
    "tags": [
     "hide-cell"
    ],
    "vscode": {
     "languageId": "plaintext"
    }
   },
   "outputs": [
    {
     "name": "stdout",
     "output_type": "stream",
     "text": [
      "Requirement already satisfied: cellpose in /Users/ranit/anaconda3/envs/gbi-python-env/lib/python3.13/site-packages (4.0.5.dev23+g15eb3c6)\r\n"
     ]
    },
    {
     "name": "stdout",
     "output_type": "stream",
     "text": [
      "Collecting stardist\r\n",
      "  Using cached stardist-0.9.1.tar.gz (888 kB)\r\n"
     ]
    },
    {
     "name": "stdout",
     "output_type": "stream",
     "text": [
      "  Installing build dependencies ... \u001b[?25l-"
     ]
    },
    {
     "name": "stdout",
     "output_type": "stream",
     "text": [
      "\b \b\\"
     ]
    },
    {
     "name": "stdout",
     "output_type": "stream",
     "text": [
      "\b \b|"
     ]
    },
    {
     "name": "stdout",
     "output_type": "stream",
     "text": [
      "\b \b/"
     ]
    },
    {
     "name": "stdout",
     "output_type": "stream",
     "text": [
      "\b \bdone\r\n"
     ]
    },
    {
     "name": "stdout",
     "output_type": "stream",
     "text": [
      "\u001b[?25h  Getting requirements to build wheel ... \u001b[?25l-"
     ]
    },
    {
     "name": "stdout",
     "output_type": "stream",
     "text": [
      "\b \bdone\r\n"
     ]
    },
    {
     "name": "stdout",
     "output_type": "stream",
     "text": [
      "\u001b[?25h  Preparing metadata (pyproject.toml) ... \u001b[?25l-"
     ]
    },
    {
     "name": "stdout",
     "output_type": "stream",
     "text": [
      "\b \bdone\r\n",
      "\u001b[?25hRequirement already satisfied: tifffile in /Users/ranit/anaconda3/envs/gbi-python-env/lib/python3.13/site-packages (2025.5.26)\r\n",
      "Requirement already satisfied: numpy>=1.20.0 in /Users/ranit/anaconda3/envs/gbi-python-env/lib/python3.13/site-packages (from cellpose) (2.2.6)\r\n",
      "Requirement already satisfied: scipy in /Users/ranit/anaconda3/envs/gbi-python-env/lib/python3.13/site-packages (from cellpose) (1.15.3)\r\n",
      "Requirement already satisfied: natsort in /Users/ranit/anaconda3/envs/gbi-python-env/lib/python3.13/site-packages (from cellpose) (8.4.0)\r\n",
      "Requirement already satisfied: tqdm in /Users/ranit/anaconda3/envs/gbi-python-env/lib/python3.13/site-packages (from cellpose) (4.67.1)\r\n",
      "Requirement already satisfied: torch>=1.6 in /Users/ranit/anaconda3/envs/gbi-python-env/lib/python3.13/site-packages (from cellpose) (2.7.1)\r\n",
      "Requirement already satisfied: torchvision in /Users/ranit/anaconda3/envs/gbi-python-env/lib/python3.13/site-packages (from cellpose) (0.22.1)\r\n",
      "Requirement already satisfied: opencv-python-headless in /Users/ranit/anaconda3/envs/gbi-python-env/lib/python3.13/site-packages (from cellpose) (4.11.0.86)\r\n",
      "Requirement already satisfied: fastremap in /Users/ranit/anaconda3/envs/gbi-python-env/lib/python3.13/site-packages (from cellpose) (1.16.1)\r\n",
      "Requirement already satisfied: imagecodecs in /Users/ranit/anaconda3/envs/gbi-python-env/lib/python3.13/site-packages (from cellpose) (2025.3.30)\r\n",
      "Requirement already satisfied: roifile in /Users/ranit/anaconda3/envs/gbi-python-env/lib/python3.13/site-packages (from cellpose) (2025.5.10)\r\n",
      "Requirement already satisfied: fill-voids in /Users/ranit/anaconda3/envs/gbi-python-env/lib/python3.13/site-packages (from cellpose) (2.1.0)\r\n",
      "Requirement already satisfied: segment_anything in /Users/ranit/anaconda3/envs/gbi-python-env/lib/python3.13/site-packages (from cellpose) (1.0)\r\n",
      "Collecting csbdeep>=0.8.0 (from stardist)\r\n",
      "  Using cached csbdeep-0.8.1-py2.py3-none-any.whl.metadata (2.4 kB)\r\n",
      "Requirement already satisfied: scikit-image in /Users/ranit/anaconda3/envs/gbi-python-env/lib/python3.13/site-packages (from stardist) (0.25.2)\r\n"
     ]
    },
    {
     "name": "stdout",
     "output_type": "stream",
     "text": [
      "Collecting numba (from stardist)\r\n"
     ]
    },
    {
     "name": "stdout",
     "output_type": "stream",
     "text": [
      "  Using cached numba-0.61.2-cp313-cp313-macosx_11_0_arm64.whl.metadata (2.7 kB)\r\n",
      "Requirement already satisfied: imageio in /Users/ranit/anaconda3/envs/gbi-python-env/lib/python3.13/site-packages (from stardist) (2.37.0)\r\n",
      "Requirement already satisfied: matplotlib in /Users/ranit/anaconda3/envs/gbi-python-env/lib/python3.13/site-packages (from csbdeep>=0.8.0->stardist) (3.10.3)\r\n",
      "Requirement already satisfied: six in /Users/ranit/anaconda3/envs/gbi-python-env/lib/python3.13/site-packages (from csbdeep>=0.8.0->stardist) (1.17.0)\r\n",
      "Requirement already satisfied: packaging in /Users/ranit/anaconda3/envs/gbi-python-env/lib/python3.13/site-packages (from csbdeep>=0.8.0->stardist) (25.0)\r\n",
      "Requirement already satisfied: filelock in /Users/ranit/anaconda3/envs/gbi-python-env/lib/python3.13/site-packages (from torch>=1.6->cellpose) (3.18.0)\r\n",
      "Requirement already satisfied: typing-extensions>=4.10.0 in /Users/ranit/anaconda3/envs/gbi-python-env/lib/python3.13/site-packages (from torch>=1.6->cellpose) (4.13.2)\r\n",
      "Requirement already satisfied: setuptools in /Users/ranit/anaconda3/envs/gbi-python-env/lib/python3.13/site-packages (from torch>=1.6->cellpose) (78.1.1)\r\n",
      "Requirement already satisfied: sympy>=1.13.3 in /Users/ranit/anaconda3/envs/gbi-python-env/lib/python3.13/site-packages (from torch>=1.6->cellpose) (1.14.0)\r\n",
      "Requirement already satisfied: networkx in /Users/ranit/anaconda3/envs/gbi-python-env/lib/python3.13/site-packages (from torch>=1.6->cellpose) (3.5)\r\n",
      "Requirement already satisfied: jinja2 in /Users/ranit/anaconda3/envs/gbi-python-env/lib/python3.13/site-packages (from torch>=1.6->cellpose) (3.1.6)\r\n",
      "Requirement already satisfied: fsspec in /Users/ranit/anaconda3/envs/gbi-python-env/lib/python3.13/site-packages (from torch>=1.6->cellpose) (2025.5.1)\r\n",
      "Requirement already satisfied: mpmath<1.4,>=1.1.0 in /Users/ranit/anaconda3/envs/gbi-python-env/lib/python3.13/site-packages (from sympy>=1.13.3->torch>=1.6->cellpose) (1.3.0)\r\n",
      "Requirement already satisfied: pillow>=8.3.2 in /Users/ranit/anaconda3/envs/gbi-python-env/lib/python3.13/site-packages (from imageio->stardist) (11.2.1)\r\n",
      "Requirement already satisfied: MarkupSafe>=2.0 in /Users/ranit/anaconda3/envs/gbi-python-env/lib/python3.13/site-packages (from jinja2->torch>=1.6->cellpose) (3.0.2)\r\n",
      "Requirement already satisfied: contourpy>=1.0.1 in /Users/ranit/anaconda3/envs/gbi-python-env/lib/python3.13/site-packages (from matplotlib->csbdeep>=0.8.0->stardist) (1.3.2)\r\n",
      "Requirement already satisfied: cycler>=0.10 in /Users/ranit/anaconda3/envs/gbi-python-env/lib/python3.13/site-packages (from matplotlib->csbdeep>=0.8.0->stardist) (0.12.1)\r\n",
      "Requirement already satisfied: fonttools>=4.22.0 in /Users/ranit/anaconda3/envs/gbi-python-env/lib/python3.13/site-packages (from matplotlib->csbdeep>=0.8.0->stardist) (4.58.1)\r\n",
      "Requirement already satisfied: kiwisolver>=1.3.1 in /Users/ranit/anaconda3/envs/gbi-python-env/lib/python3.13/site-packages (from matplotlib->csbdeep>=0.8.0->stardist) (1.4.8)\r\n",
      "Requirement already satisfied: pyparsing>=2.3.1 in /Users/ranit/anaconda3/envs/gbi-python-env/lib/python3.13/site-packages (from matplotlib->csbdeep>=0.8.0->stardist) (3.2.3)\r\n",
      "Requirement already satisfied: python-dateutil>=2.7 in /Users/ranit/anaconda3/envs/gbi-python-env/lib/python3.13/site-packages (from matplotlib->csbdeep>=0.8.0->stardist) (2.9.0.post0)\r\n"
     ]
    },
    {
     "name": "stdout",
     "output_type": "stream",
     "text": [
      "Collecting llvmlite<0.45,>=0.44.0dev0 (from numba->stardist)\r\n",
      "  Using cached llvmlite-0.44.0-cp313-cp313-macosx_11_0_arm64.whl.metadata (4.8 kB)\r\n",
      "Requirement already satisfied: lazy-loader>=0.4 in /Users/ranit/anaconda3/envs/gbi-python-env/lib/python3.13/site-packages (from scikit-image->stardist) (0.4)\r\n",
      "Using cached csbdeep-0.8.1-py2.py3-none-any.whl (71 kB)\r\n",
      "Using cached numba-0.61.2-cp313-cp313-macosx_11_0_arm64.whl (2.8 MB)\r\n",
      "Using cached llvmlite-0.44.0-cp313-cp313-macosx_11_0_arm64.whl (26.2 MB)\r\n"
     ]
    },
    {
     "name": "stdout",
     "output_type": "stream",
     "text": [
      "Building wheels for collected packages: stardist\r\n"
     ]
    },
    {
     "name": "stdout",
     "output_type": "stream",
     "text": [
      "  Building wheel for stardist (pyproject.toml) ... \u001b[?25l-"
     ]
    },
    {
     "name": "stdout",
     "output_type": "stream",
     "text": [
      "\b \b\\"
     ]
    },
    {
     "name": "stdout",
     "output_type": "stream",
     "text": [
      "\b \b|"
     ]
    },
    {
     "name": "stdout",
     "output_type": "stream",
     "text": [
      "\b \berror\r\n",
      "  \u001b[1;31merror\u001b[0m: \u001b[1msubprocess-exited-with-error\u001b[0m\r\n",
      "  \r\n",
      "  \u001b[31m×\u001b[0m \u001b[32mBuilding wheel for stardist \u001b[0m\u001b[1;32m(\u001b[0m\u001b[32mpyproject.toml\u001b[0m\u001b[1;32m)\u001b[0m did not run successfully.\r\n",
      "  \u001b[31m│\u001b[0m exit code: \u001b[1;36m1\u001b[0m\r\n",
      "  \u001b[31m╰─>\u001b[0m \u001b[31m[77 lines of output]\u001b[0m\r\n",
      "  \u001b[31m   \u001b[0m /private/var/folders/5t/3zkcp0dd27s3txcmjn8jl96m0000gq/T/pip-build-env-ut5erk5a/overlay/lib/python3.13/site-packages/setuptools/dist.py:759: SetuptoolsDeprecationWarning: License classifiers are deprecated.\r\n",
      "  \u001b[31m   \u001b[0m !!\r\n",
      "  \u001b[31m   \u001b[0m \r\n",
      "  \u001b[31m   \u001b[0m         ********************************************************************************\r\n",
      "  \u001b[31m   \u001b[0m         Please consider removing the following classifiers in favor of a SPDX license expression:\r\n",
      "  \u001b[31m   \u001b[0m \r\n",
      "  \u001b[31m   \u001b[0m         License :: OSI Approved :: BSD License\r\n",
      "  \u001b[31m   \u001b[0m \r\n",
      "  \u001b[31m   \u001b[0m         See https://packaging.python.org/en/latest/guides/writing-pyproject-toml/#license for details.\r\n",
      "  \u001b[31m   \u001b[0m         ********************************************************************************\r\n",
      "  \u001b[31m   \u001b[0m \r\n",
      "  \u001b[31m   \u001b[0m !!\r\n",
      "  \u001b[31m   \u001b[0m   self._finalize_license_expression()\r\n",
      "  \u001b[31m   \u001b[0m running bdist_wheel\r\n",
      "  \u001b[31m   \u001b[0m running build\r\n",
      "  \u001b[31m   \u001b[0m running build_py\r\n",
      "  \u001b[31m   \u001b[0m creating build/lib.macosx-11.1-arm64-cpython-313/stardist\r\n",
      "  \u001b[31m   \u001b[0m copying stardist/version.py -> build/lib.macosx-11.1-arm64-cpython-313/stardist\r\n",
      "  \u001b[31m   \u001b[0m copying stardist/rays3d.py -> build/lib.macosx-11.1-arm64-cpython-313/stardist\r\n",
      "  \u001b[31m   \u001b[0m copying stardist/sample_patches.py -> build/lib.macosx-11.1-arm64-cpython-313/stardist\r\n",
      "  \u001b[31m   \u001b[0m copying stardist/nms.py -> build/lib.macosx-11.1-arm64-cpython-313/stardist\r\n",
      "  \u001b[31m   \u001b[0m copying stardist/__init__.py -> build/lib.macosx-11.1-arm64-cpython-313/stardist\r\n",
      "  \u001b[31m   \u001b[0m copying stardist/matching.py -> build/lib.macosx-11.1-arm64-cpython-313/stardist\r\n",
      "  \u001b[31m   \u001b[0m copying stardist/bioimageio_utils.py -> build/lib.macosx-11.1-arm64-cpython-313/stardist\r\n",
      "  \u001b[31m   \u001b[0m copying stardist/utils.py -> build/lib.macosx-11.1-arm64-cpython-313/stardist\r\n",
      "  \u001b[31m   \u001b[0m copying stardist/big.py -> build/lib.macosx-11.1-arm64-cpython-313/stardist\r\n",
      "  \u001b[31m   \u001b[0m creating build/lib.macosx-11.1-arm64-cpython-313/stardist/plot\r\n",
      "  \u001b[31m   \u001b[0m copying stardist/plot/plot.py -> build/lib.macosx-11.1-arm64-cpython-313/stardist/plot\r\n",
      "  \u001b[31m   \u001b[0m copying stardist/plot/render.py -> build/lib.macosx-11.1-arm64-cpython-313/stardist/plot\r\n",
      "  \u001b[31m   \u001b[0m copying stardist/plot/__init__.py -> build/lib.macosx-11.1-arm64-cpython-313/stardist/plot\r\n",
      "  \u001b[31m   \u001b[0m creating build/lib.macosx-11.1-arm64-cpython-313/stardist/models\r\n",
      "  \u001b[31m   \u001b[0m copying stardist/models/model3d.py -> build/lib.macosx-11.1-arm64-cpython-313/stardist/models\r\n",
      "  \u001b[31m   \u001b[0m copying stardist/models/model2d.py -> build/lib.macosx-11.1-arm64-cpython-313/stardist/models\r\n",
      "  \u001b[31m   \u001b[0m copying stardist/models/__init__.py -> build/lib.macosx-11.1-arm64-cpython-313/stardist/models\r\n",
      "  \u001b[31m   \u001b[0m copying stardist/models/base.py -> build/lib.macosx-11.1-arm64-cpython-313/stardist/models\r\n",
      "  \u001b[31m   \u001b[0m creating build/lib.macosx-11.1-arm64-cpython-313/stardist/scripts\r\n",
      "  \u001b[31m   \u001b[0m copying stardist/scripts/__init__.py -> build/lib.macosx-11.1-arm64-cpython-313/stardist/scripts\r\n",
      "  \u001b[31m   \u001b[0m copying stardist/scripts/predict2d.py -> build/lib.macosx-11.1-arm64-cpython-313/stardist/scripts\r\n",
      "  \u001b[31m   \u001b[0m copying stardist/scripts/predict3d.py -> build/lib.macosx-11.1-arm64-cpython-313/stardist/scripts\r\n",
      "  \u001b[31m   \u001b[0m creating build/lib.macosx-11.1-arm64-cpython-313/stardist/geometry\r\n",
      "  \u001b[31m   \u001b[0m copying stardist/geometry/__init__.py -> build/lib.macosx-11.1-arm64-cpython-313/stardist/geometry\r\n",
      "  \u001b[31m   \u001b[0m copying stardist/geometry/geom3d.py -> build/lib.macosx-11.1-arm64-cpython-313/stardist/geometry\r\n",
      "  \u001b[31m   \u001b[0m copying stardist/geometry/geom2d.py -> build/lib.macosx-11.1-arm64-cpython-313/stardist/geometry\r\n",
      "  \u001b[31m   \u001b[0m creating build/lib.macosx-11.1-arm64-cpython-313/stardist/data\r\n",
      "  \u001b[31m   \u001b[0m copying stardist/data/__init__.py -> build/lib.macosx-11.1-arm64-cpython-313/stardist/data\r\n",
      "  \u001b[31m   \u001b[0m creating build/lib.macosx-11.1-arm64-cpython-313/stardist/kernels\r\n",
      "  \u001b[31m   \u001b[0m copying stardist/kernels/stardist2d.cl -> build/lib.macosx-11.1-arm64-cpython-313/stardist/kernels\r\n",
      "  \u001b[31m   \u001b[0m copying stardist/kernels/stardist3d.cl -> build/lib.macosx-11.1-arm64-cpython-313/stardist/kernels\r\n",
      "  \u001b[31m   \u001b[0m creating build/lib.macosx-11.1-arm64-cpython-313/stardist/data/images\r\n",
      "  \u001b[31m   \u001b[0m copying stardist/data/images/mask2d.tif -> build/lib.macosx-11.1-arm64-cpython-313/stardist/data/images\r\n",
      "  \u001b[31m   \u001b[0m copying stardist/data/images/mask3d.tif -> build/lib.macosx-11.1-arm64-cpython-313/stardist/data/images\r\n",
      "  \u001b[31m   \u001b[0m copying stardist/data/images/img3d.tif -> build/lib.macosx-11.1-arm64-cpython-313/stardist/data/images\r\n",
      "  \u001b[31m   \u001b[0m copying stardist/data/images/img2d.tif -> build/lib.macosx-11.1-arm64-cpython-313/stardist/data/images\r\n",
      "  \u001b[31m   \u001b[0m copying stardist/data/images/histo.jpg -> build/lib.macosx-11.1-arm64-cpython-313/stardist/data/images\r\n",
      "  \u001b[31m   \u001b[0m running build_ext\r\n",
      "  \u001b[31m   \u001b[0m building 'stardist.lib.stardist2d' extension\r\n",
      "  \u001b[31m   \u001b[0m creating build/temp.macosx-11.1-arm64-cpython-313/stardist/lib/external/clipper\r\n",
      "  \u001b[31m   \u001b[0m clang++ -fno-strict-overflow -Wsign-compare -Wunreachable-code -DNDEBUG -O2 -Wall -fPIC -O2 -isystem /Users/ranit/anaconda3/envs/gbi-python-env/include -arch arm64 -fPIC -O2 -isystem /Users/ranit/anaconda3/envs/gbi-python-env/include -arch arm64 -I/private/var/folders/5t/3zkcp0dd27s3txcmjn8jl96m0000gq/T/pip-build-env-ut5erk5a/overlay/lib/python3.13/site-packages/numpy/_core/include -Istardist/lib/external/clipper -Istardist/lib/external/nanoflann -I/Users/ranit/anaconda3/envs/gbi-python-env/include/python3.13 -c stardist/lib/external/clipper/clipper.cpp -o build/temp.macosx-11.1-arm64-cpython-313/stardist/lib/external/clipper/clipper.o -std=c++11 -fopenmp\r\n",
      "  \u001b[31m   \u001b[0m clang++: error: unsupported option '-fopenmp'\r\n",
      "  \u001b[31m   \u001b[0m >>> compiling with '-fopenmp' failed\r\n",
      "  \u001b[31m   \u001b[0m building 'stardist.lib.stardist2d' extension\r\n",
      "  \u001b[31m   \u001b[0m clang++ -fno-strict-overflow -Wsign-compare -Wunreachable-code -DNDEBUG -O2 -Wall -fPIC -O2 -isystem /Users/ranit/anaconda3/envs/gbi-python-env/include -arch arm64 -fPIC -O2 -isystem /Users/ranit/anaconda3/envs/gbi-python-env/include -arch arm64 -I/private/var/folders/5t/3zkcp0dd27s3txcmjn8jl96m0000gq/T/pip-build-env-ut5erk5a/overlay/lib/python3.13/site-packages/numpy/_core/include -Istardist/lib/external/clipper -Istardist/lib/external/nanoflann -I/Users/ranit/anaconda3/envs/gbi-python-env/include/python3.13 -c stardist/lib/external/clipper/clipper.cpp -o build/temp.macosx-11.1-arm64-cpython-313/stardist/lib/external/clipper/clipper.o -std=c++11 -Xpreprocessor -fopenmp\r\n",
      "  \u001b[31m   \u001b[0m In file included from stardist/lib/external/clipper/clipper.cpp:41:\r\n",
      "  \u001b[31m   \u001b[0m stardist/lib/external/clipper/clipper.hpp:52:10: fatal error: 'vector' file not found\r\n",
      "  \u001b[31m   \u001b[0m    52 | #include <vector>\r\n",
      "  \u001b[31m   \u001b[0m       |          ^~~~~~~~\r\n",
      "  \u001b[31m   \u001b[0m 1 error generated.\r\n",
      "  \u001b[31m   \u001b[0m >>> compiling with '-Xpreprocessor -fopenmp' failed\r\n",
      "  \u001b[31m   \u001b[0m >>> compiling with OpenMP support failed, re-trying without\r\n",
      "  \u001b[31m   \u001b[0m building 'stardist.lib.stardist2d' extension\r\n",
      "  \u001b[31m   \u001b[0m clang++ -fno-strict-overflow -Wsign-compare -Wunreachable-code -DNDEBUG -O2 -Wall -fPIC -O2 -isystem /Users/ranit/anaconda3/envs/gbi-python-env/include -arch arm64 -fPIC -O2 -isystem /Users/ranit/anaconda3/envs/gbi-python-env/include -arch arm64 -I/private/var/folders/5t/3zkcp0dd27s3txcmjn8jl96m0000gq/T/pip-build-env-ut5erk5a/overlay/lib/python3.13/site-packages/numpy/_core/include -Istardist/lib/external/clipper -Istardist/lib/external/nanoflann -I/Users/ranit/anaconda3/envs/gbi-python-env/include/python3.13 -c stardist/lib/external/clipper/clipper.cpp -o build/temp.macosx-11.1-arm64-cpython-313/stardist/lib/external/clipper/clipper.o -std=c++11\r\n",
      "  \u001b[31m   \u001b[0m In file included from stardist/lib/external/clipper/clipper.cpp:41:\r\n",
      "  \u001b[31m   \u001b[0m stardist/lib/external/clipper/clipper.hpp:52:10: fatal error: 'vector' file not found\r\n",
      "  \u001b[31m   \u001b[0m    52 | #include <vector>\r\n",
      "  \u001b[31m   \u001b[0m       |          ^~~~~~~~\r\n",
      "  \u001b[31m   \u001b[0m 1 error generated.\r\n",
      "  \u001b[31m   \u001b[0m error: command '/usr/bin/clang++' failed with exit code 1\r\n",
      "  \u001b[31m   \u001b[0m \u001b[31m[end of output]\u001b[0m\r\n",
      "  \r\n",
      "  \u001b[1;35mnote\u001b[0m: This error originates from a subprocess, and is likely not a problem with pip.\r\n",
      "\u001b[31m  ERROR: Failed building wheel for stardist\u001b[0m\u001b[31m\r\n",
      "\u001b[0m\u001b[?25hFailed to build stardist\r\n",
      "\u001b[31mERROR: Failed to build installable wheels for some pyproject.toml based projects (stardist)\u001b[0m\u001b[31m\r\n",
      "\u001b[0m"
     ]
    }
   ],
   "source": [
    "!pip install cellpose stardist tifffile"
   ]
  },
  {
   "cell_type": "code",
   "execution_count": 2,
   "metadata": {
    "tags": [
     "hide-cell"
    ],
    "vscode": {
     "languageId": "plaintext"
    }
   },
   "outputs": [
    {
     "ename": "FileNotFoundError",
     "evalue": "[Errno 2] No such file or directory: '/Users/ranit/Research/github/Global-BioImaging-Image-Data-2025-Course---India/course_material/06182025_day3/example_nuclei.tif'",
     "output_type": "error",
     "traceback": [
      "\u001b[31m---------------------------------------------------------------------------\u001b[39m",
      "\u001b[31mFileNotFoundError\u001b[39m                         Traceback (most recent call last)",
      "\u001b[32m/var/folders/5t/3zkcp0dd27s3txcmjn8jl96m0000gq/T/ipykernel_21709/1014929433.py\u001b[39m in \u001b[36m?\u001b[39m\u001b[34m()\u001b[39m\n\u001b[32m      1\u001b[39m \u001b[38;5;28;01mfrom\u001b[39;00m tifffile \u001b[38;5;28;01mimport\u001b[39;00m imread\n\u001b[32m      2\u001b[39m \n\u001b[32m----> \u001b[39m\u001b[32m3\u001b[39m image = imread(\u001b[33m'example_nuclei.tif'\u001b[39m)\n",
      "\u001b[32m~/anaconda3/envs/gbi-python-env/lib/python3.13/site-packages/tifffile/tifffile.py\u001b[39m in \u001b[36m?\u001b[39m\u001b[34m(files, selection, aszarr, key, series, level, squeeze, maxworkers, buffersize, mode, name, offset, size, pattern, axesorder, categories, imread, imreadargs, sort, container, chunkshape, chunkdtype, axestiled, ioworkers, chunkmode, fillvalue, zattrs, multiscales, omexml, out, out_inplace, _multifile, _useframes, **kwargs)\u001b[39m\n\u001b[32m   1195\u001b[39m         ):\n\u001b[32m   1196\u001b[39m             files = files[\u001b[32m0\u001b[39m]\n\u001b[32m   1197\u001b[39m \n\u001b[32m   1198\u001b[39m         \u001b[38;5;28;01mif\u001b[39;00m isinstance(files, str) \u001b[38;5;28;01mor\u001b[39;00m \u001b[38;5;28;01mnot\u001b[39;00m isinstance(files, Sequence):\n\u001b[32m-> \u001b[39m\u001b[32m1199\u001b[39m             with TiffFile(\n\u001b[32m   1200\u001b[39m                 files,\n\u001b[32m   1201\u001b[39m                 mode=mode,\n\u001b[32m   1202\u001b[39m                 name=name,\n",
      "\u001b[32m~/anaconda3/envs/gbi-python-env/lib/python3.13/site-packages/tifffile/tifffile.py\u001b[39m in \u001b[36m?\u001b[39m\u001b[34m(self, file, mode, name, offset, size, omexml, _multifile, _useframes, _parent, **is_flags)\u001b[39m\n\u001b[32m   4230\u001b[39m                 \u001b[38;5;28;01mraise\u001b[39;00m ValueError(\u001b[33m'invalid OME-XML'\u001b[39m)\n\u001b[32m   4231\u001b[39m             self._omexml = omexml\n\u001b[32m   4232\u001b[39m             self.is_ome = \u001b[38;5;28;01mTrue\u001b[39;00m\n\u001b[32m   4233\u001b[39m \n\u001b[32m-> \u001b[39m\u001b[32m4234\u001b[39m         fh = FileHandle(file, mode=mode, name=name, offset=offset, size=size)\n\u001b[32m   4235\u001b[39m         self._fh = fh\n\u001b[32m   4236\u001b[39m         self._multifile = \u001b[38;5;28;01mTrue\u001b[39;00m \u001b[38;5;28;01mif\u001b[39;00m _multifile \u001b[38;5;28;01mis\u001b[39;00m \u001b[38;5;28;01mNone\u001b[39;00m \u001b[38;5;28;01melse\u001b[39;00m bool(_multifile)\n\u001b[32m   4237\u001b[39m         self._files = {fh.name: self}\n",
      "\u001b[32m~/anaconda3/envs/gbi-python-env/lib/python3.13/site-packages/tifffile/tifffile.py\u001b[39m in \u001b[36m?\u001b[39m\u001b[34m(self, file, mode, name, offset, size)\u001b[39m\n\u001b[32m  13273\u001b[39m         self._offset = -\u001b[32m1\u001b[39m \u001b[38;5;28;01mif\u001b[39;00m offset \u001b[38;5;28;01mis\u001b[39;00m \u001b[38;5;28;01mNone\u001b[39;00m \u001b[38;5;28;01melse\u001b[39;00m offset\n\u001b[32m  13274\u001b[39m         self._size = -\u001b[32m1\u001b[39m \u001b[38;5;28;01mif\u001b[39;00m size \u001b[38;5;28;01mis\u001b[39;00m \u001b[38;5;28;01mNone\u001b[39;00m \u001b[38;5;28;01melse\u001b[39;00m size\n\u001b[32m  13275\u001b[39m         self._close = \u001b[38;5;28;01mTrue\u001b[39;00m\n\u001b[32m  13276\u001b[39m         self._lock = NullContext()\n\u001b[32m> \u001b[39m\u001b[32m13277\u001b[39m         self.open()\n\u001b[32m  13278\u001b[39m         \u001b[38;5;28;01massert\u001b[39;00m self._fh \u001b[38;5;28;01mis\u001b[39;00m \u001b[38;5;28;01mnot\u001b[39;00m \u001b[38;5;28;01mNone\u001b[39;00m\n",
      "\u001b[32m~/anaconda3/envs/gbi-python-env/lib/python3.13/site-packages/tifffile/tifffile.py\u001b[39m in \u001b[36m?\u001b[39m\u001b[34m(self)\u001b[39m\n\u001b[32m  13292\u001b[39m             \u001b[38;5;28;01mif\u001b[39;00m self._mode \u001b[38;5;28;01mnot\u001b[39;00m \u001b[38;5;28;01min\u001b[39;00m {\u001b[33m'rb'\u001b[39m, \u001b[33m'r+b'\u001b[39m, \u001b[33m'wb'\u001b[39m, \u001b[33m'xb'\u001b[39m}:\n\u001b[32m  13293\u001b[39m                 \u001b[38;5;28;01mraise\u001b[39;00m ValueError(f'invalid mode {self._mode}')\n\u001b[32m  13294\u001b[39m             self._file = os.path.realpath(self._file)\n\u001b[32m  13295\u001b[39m             self._dir, self._name = os.path.split(self._file)\n\u001b[32m> \u001b[39m\u001b[32m13296\u001b[39m             self._fh = open(self._file, self._mode, encoding=\u001b[38;5;28;01mNone\u001b[39;00m)\n\u001b[32m  13297\u001b[39m             self._close = \u001b[38;5;28;01mTrue\u001b[39;00m\n\u001b[32m  13298\u001b[39m             self._offset = max(\u001b[32m0\u001b[39m, self._offset)\n\u001b[32m  13299\u001b[39m         \u001b[38;5;28;01melif\u001b[39;00m isinstance(self._file, FileHandle):\n",
      "\u001b[31mFileNotFoundError\u001b[39m: [Errno 2] No such file or directory: '/Users/ranit/Research/github/Global-BioImaging-Image-Data-2025-Course---India/course_material/06182025_day3/example_nuclei.tif'"
     ]
    }
   ],
   "source": [
    "from tifffile import imread\n",
    "\n",
    "image = imread('example_nuclei.tif')"
   ]
  },
  {
   "cell_type": "markdown",
   "metadata": {},
   "source": [
    "## Cellpose\n",
    "\n",
    "**What is Cellpose?**\n",
    "Cellpose is a generalist deep learning model that can segment a wide variety of cell types and shapes — not just nuclei, but also cytoplasm and even bacteria or other small structures.\n",
    "\n",
    "**Key Features:**\n",
    "- Trained on thousands of manually segmented images.\n",
    "- Works with brightfield, fluorescence, and phase contrast images.\n",
    "- No need to retrain — pretrained models often just work out of the box.\n",
    "- Accepts grayscale or multi-channel input.\n",
    "- Can estimate object size automatically.\n",
    "\n",
    "You can think of Cellpose as a smart \"cell detector\" that adapts to many microscopy scenarios."
   ]
  },
  {
   "cell_type": "code",
   "execution_count": null,
   "metadata": {
    "vscode": {
     "languageId": "plaintext"
    }
   },
   "outputs": [],
   "source": [
    "from cellpose import models\n",
    "\n",
    "model = models.Cellpose(model_type='nuclei')  # or 'cyto' for cytoplasm\n",
    "masks, flows, styles, diams = model.eval(image, diameter=None, channels=[0,0])"
   ]
  },
  {
   "cell_type": "markdown",
   "metadata": {},
   "source": [
    "---\n",
    "## StarDist\n",
    "\n",
    "**What is StarDist?**\n",
    "StarDist takes a different approach. It models each object (typically a nucleus) as a star-convex polygon, a shape where all lines radiating from the center to the edge do not cross each other — perfect for round or slightly irregular nuclei.\n",
    "\n",
    "**Key Features:**\n",
    "- Excellent for segmenting touching or overlapping nuclei.\n",
    "- Very fast and accurate for fluorescence images.\n",
    "- Works best with nuclear shapes but can be adapted to other types.\n",
    "- Comes with pretrained models based on diverse datasets.\n",
    "\n",
    "StarDist is especially useful in high-throughput screens or histological images where accurate nuclear boundaries are needed."
   ]
  },
  {
   "cell_type": "code",
   "execution_count": null,
   "metadata": {
    "vscode": {
     "languageId": "plaintext"
    }
   },
   "outputs": [],
   "source": [
    "from stardist.models import StarDist2D\n",
    "from csbdeep.utils import normalize\n",
    "\n",
    "# Normalize image between 0 and 1\n",
    "img_norm = normalize(image, 1, 99.8)\n",
    "\n",
    "model = StarDist2D.from_pretrained('2D_versatile_fluo')\n",
    "labels, _ = model.predict_instances(img_norm)"
   ]
  },
  {
   "cell_type": "markdown",
   "metadata": {},
   "source": [
    "---\n",
    "## Mini Project: Segment Your Own Image!\n",
    "Task: Take a fluorescence microscopy image from your own experiment. Try both Cellpose and StarDist. Compare the masks visually in Napari.\n",
    "\n",
    "Steps:\n",
    "- Load your image using tifffile.imread\n",
    "- Run both segmentation methods\n",
    "- Visualize and toggle between segmentations\n",
    "- Take screenshots for later discussion"
   ]
  },
  {
   "cell_type": "markdown",
   "metadata": {},
   "source": []
  }
 ],
 "metadata": {
  "language_info": {
   "codemirror_mode": {
    "name": "ipython",
    "version": 3
   },
   "file_extension": ".py",
   "mimetype": "text/x-python",
   "name": "python",
   "nbconvert_exporter": "python",
   "pygments_lexer": "ipython3",
   "version": "3.13.0"
  }
 },
 "nbformat": 4,
 "nbformat_minor": 2
}