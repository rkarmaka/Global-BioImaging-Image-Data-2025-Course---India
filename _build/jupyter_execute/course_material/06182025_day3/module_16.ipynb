{
 "cells": [
  {
   "cell_type": "markdown",
   "metadata": {},
   "source": [
    "# Tools & Next Steps in Bioimage Analysis"
   ]
  },
  {
   "cell_type": "markdown",
   "metadata": {},
   "source": [
    "---\n",
    "## Learning Objective\n",
    "\n",
    "- Understand what pretrained models are and how to apply them to your own data using the Bioimage Model Zoo.\n",
    "- Use Google Colab notebooks to apply deep learning models without needing coding experience.\n",
    "- Explore image analysis tasks interactively using plugins in Napari.\n",
    "- Learn how to troubleshoot and grow in the bioimage analysis community."
   ]
  },
  {
   "cell_type": "markdown",
   "metadata": {},
   "source": [
    "---\n",
    "## Bioimage Model Zoo\n",
    "- The **Bioimage Model Zoo** is a collection of pretrained deep learning models specifically for microscopy images.\n",
    "- Each model is associated with metadata describing the input type, output format, license, citation, and training data.\n",
    "- These models can be run in various platforms like **deepImageJ**, **Ilastik**, **ZeroCostDL4Mic**, or **Python/Napari**."
   ]
  },
  {
   "cell_type": "markdown",
   "metadata": {},
   "source": [
    "---\n",
    "### Hands-On\n",
    "**Goal**: Use a pretrained model from the Bioimage Model Zoo in Python with `bioimageio.core` and `napari`."
   ]
  },
  {
   "cell_type": "code",
   "execution_count": 1,
   "metadata": {
    "vscode": {
     "languageId": "plaintext"
    }
   },
   "outputs": [
    {
     "ename": "ModuleNotFoundError",
     "evalue": "No module named 'bioimageio'",
     "output_type": "error",
     "traceback": [
      "\u001b[31m---------------------------------------------------------------------------\u001b[39m",
      "\u001b[31mModuleNotFoundError\u001b[39m                       Traceback (most recent call last)",
      "\u001b[36mCell\u001b[39m\u001b[36m \u001b[39m\u001b[32mIn[1]\u001b[39m\u001b[32m, line 1\u001b[39m\n\u001b[32m----> \u001b[39m\u001b[32m1\u001b[39m \u001b[38;5;28;01mfrom\u001b[39;00m\u001b[38;5;250m \u001b[39m\u001b[34;01mbioimageio\u001b[39;00m\u001b[34;01m.\u001b[39;00m\u001b[34;01mcore\u001b[39;00m\u001b[38;5;250m \u001b[39m\u001b[38;5;28;01mimport\u001b[39;00m load_resource_description\n\u001b[32m      2\u001b[39m \u001b[38;5;28;01mfrom\u001b[39;00m\u001b[38;5;250m \u001b[39m\u001b[34;01mbioimageio\u001b[39;00m\u001b[34;01m.\u001b[39;00m\u001b[34;01mcore\u001b[39;00m\u001b[34;01m.\u001b[39;00m\u001b[34;01mprediction\u001b[39;00m\u001b[38;5;250m \u001b[39m\u001b[38;5;28;01mimport\u001b[39;00m predict_with_numpy_input\n\u001b[32m      3\u001b[39m \u001b[38;5;28;01mimport\u001b[39;00m\u001b[38;5;250m \u001b[39m\u001b[34;01mnumpy\u001b[39;00m\u001b[38;5;250m \u001b[39m\u001b[38;5;28;01mas\u001b[39;00m\u001b[38;5;250m \u001b[39m\u001b[34;01mnp\u001b[39;00m\n",
      "\u001b[31mModuleNotFoundError\u001b[39m: No module named 'bioimageio'"
     ]
    }
   ],
   "source": [
    "from bioimageio.core import load_resource_description\n",
    "from bioimageio.core.prediction import predict_with_numpy_input\n",
    "import numpy as np\n",
    "import tifffile\n",
    "import napari\n",
    "\n",
    "# Load model\n",
    "rdf = load_resource_description(\"https://bioimage.io/model-zoo/xyz\")\n",
    "\n",
    "# Load image\n",
    "img = tifffile.imread(\"your_image.tif\")\n",
    "\n",
    "# Run prediction\n",
    "pred = predict_with_numpy_input(rdf, img)\n",
    "\n",
    "# View in Napari\n",
    "viewer = napari.Viewer()\n",
    "viewer.add_image(img, name=\"Original\")\n",
    "viewer.add_image(pred[\"predictions\"], name=\"Prediction\")"
   ]
  },
  {
   "cell_type": "markdown",
   "metadata": {},
   "source": [
    "---\n",
    "### Exercise\n",
    "- Try out two different models from the Zoo (e.g. Cellpose for segmentation and CARE for denoising).\n",
    "- Compare their outputs on the same image."
   ]
  },
  {
   "cell_type": "markdown",
   "metadata": {},
   "source": [
    "---\n",
    "### Mini Project\n",
    "**\"Model Benchmarking\"**: Choose one of your own microscopy images and run 2–3 different Bioimage Model Zoo models on it. Analyze the results qualitatively in Napari."
   ]
  },
  {
   "cell_type": "markdown",
   "metadata": {},
   "source": [
    "---\n",
    "## ZeroCostDL4Mic\n",
    "- **ZeroCostDL4Mic** is a platform that hosts user-friendly Google Colab notebooks.\n",
    "- Supports tasks like segmentation, denoising, classification, and restoration using U-Net, CARE, StarDist, etc.\n",
    "- Runs on free GPUs provided by Google Colab.\n",
    "\n",
    "---\n",
    "### Hands-On Demo\n",
    "\n",
    "**Steps**:\n",
    "1. Go to [https://github.com/HenriquesLab/ZeroCostDL4Mic](https://github.com/HenriquesLab/ZeroCostDL4Mic)\n",
    "2. Open the **StarDist 2D** notebook in Colab.\n",
    "3. Upload example images and run through training and inference cells.\n",
    "\n",
    "---\n",
    "\n",
    "### Exercise\n",
    "\n",
    "Train a U-Net model using ZeroCostDL4Mic on a small dataset (provided in the notebook or your own labeled images).\n",
    "\n",
    "---\n",
    "\n",
    "### Mini Project\n",
    "\n",
    "**\"Custom Segmentation\"**: Use ZeroCostDL4Mic to train and evaluate a model on your own annotated images (2–5 samples)."
   ]
  },
  {
   "cell_type": "markdown",
   "metadata": {},
   "source": [
    "---\n",
    "## Napari Plugins\n",
    "- Napari is a fast, interactive viewer with support for Python plugins.\n",
    "- Common plugins include:\n",
    "    - **napari-segment-blobs-and-things-with-membranes** (segmentation)\n",
    "    - **napari-skimage-regionprops** (feature extraction)\n",
    "    - **napari-tissuumaps** (integration with tissue maps)\n",
    "\n",
    "---\n",
    "### Hands-On\n",
    "1. Launch Napari.\n",
    "2. Go to **Plugins > Install/Remove Plugins**.\n",
    "3. Search and install `napari-segment-blobs-and-things-with-membranes`.\n",
    "4. Load an image and try different segmentation methods (thresholding, watersheds, etc.)\n",
    "\n",
    "---\n",
    "\n",
    "### Exercise\n",
    "\n",
    "Try using two plugins:\n",
    "- One for segmentation\n",
    "- One for measurements (e.g., area, intensity)\n",
    "\n",
    "---\n",
    "\n",
    "### Mini Project\n",
    "\n",
    "**\"Plugin Workflow\"**: Build a full workflow using plugins for:\n",
    "\n",
    "1. Loading image\n",
    "2. Segmentation\n",
    "3. Measuring shape features"
   ]
  },
  {
   "cell_type": "markdown",
   "metadata": {},
   "source": [
    "---\n",
    "## Community Forums\n",
    "- **image.sc** is the most active community forum for image analysis questions.\n",
    "- GitHub issues pages are useful for asking questions directly to developers.\n",
    "- Use correct tags, include example images, and explain the issue clearly.\n",
    "\n",
    "### Hands-On\n",
    "\n",
    "- Create an account on [https://forum.image.sc](https://forum.image.sc).\n",
    "- Search for an issue similar to one you've faced.\n",
    "- Make a post describing a new issue you're encountering in Napari or ZeroCostDL4Mic.\n",
    "\n",
    "\n",
    "### Exercise\n",
    "\n",
    "Find one GitHub repository for a plugin or model you’ve used and:\n",
    "\n",
    "- Read the README and open an Issue to ask a clarification or suggest a feature.\n",
    "\n",
    "---\n",
    "\n",
    "### Mini Project\n",
    "\n",
    "**\"Learning by Asking\"**: Participate in a community post—answer someone else's question or post your own with screenshots and context.\n",
    "\n",
    "---\n",
    "\n",
    "## Suggested Next Topics\n",
    "\n",
    "---\n",
    "\n",
    "### A. **Tracking**\n",
    "- Tracking is the task of identifying and following the same object (like a nucleus) across time-lapse frames.\n",
    "- Popular tools: TrackMate (Fiji), Napari-tracks, StarDist + TrackPy\n",
    "\n",
    "---\n",
    "\n",
    "### B. **3D Image Analysis**\n",
    "- 3D images (z-stacks) require different preprocessing and visualization techniques.\n",
    "- 3D segmentation may use tools like 3D U-Net, StarDist 3D, or MorpholibJ.\n",
    "- Napari and Fiji both support 3D visualization.\n"
   ]
  },
  {
   "cell_type": "markdown",
   "metadata": {},
   "source": [
    "---\n",
    "## Summary Table\n",
    "\n",
    "| Tool / Topic       | Theory Highlights                                | Hands-On Skill Developed                  | Project Outcome                       |\n",
    "| ------------------ | ------------------------------------------------ | ----------------------------------------- | ------------------------------------- |\n",
    "| Bioimage Model Zoo | Pretrained DL models for microscopy tasks        | Load & run models in Python/Napari        | Compare models for your own images    |\n",
    "| ZeroCostDL4Mic     | GUI-based Colab notebooks for training/inference | Train models without coding               | Build & apply a custom model          |\n",
    "| Napari Plugins     | Modular analysis using plugin ecosystem          | Image segmentation and measurements       | Complete plugin-based pipeline        |\n",
    "| Community Forums   | Collaborative learning and troubleshooting       | Ask good questions; engage with community | Share your issue and learn from peers |\n",
    "| Tracking           | Follow objects over time in timelapse data       | Use tracking plugins and libraries        | Quantify cell migration               |\n",
    "| 3D Image Analysis  | Z-stack visualization and analysis methods       | View & analyze 3D volumes                 | Segment and analyze 3D structures     |\n",
    "\n",
    "---\n",
    "\n",
    "Let me know if you'd like this formatted as a handout or turned into slides.\n"
   ]
  }
 ],
 "metadata": {
  "language_info": {
   "codemirror_mode": {
    "name": "ipython",
    "version": 3
   },
   "file_extension": ".py",
   "mimetype": "text/x-python",
   "name": "python",
   "nbconvert_exporter": "python",
   "pygments_lexer": "ipython3",
   "version": "3.13.0"
  }
 },
 "nbformat": 4,
 "nbformat_minor": 2
}