{
 "cells": [
  {
   "cell_type": "markdown",
   "metadata": {},
   "source": [
    "# Building bioimage analysis workflows (ZeroCostDL, Bioimage Zoo)"
   ]
  },
  {
   "cell_type": "markdown",
   "metadata": {},
   "source": [
    "---\n",
    "## Learning Objective\n",
    "- Understand and apply existing deep learning tools for image analysis without needing to code from scratch.\n",
    "- Use platforms like ZeroCostDL4Mic and the BioImage Model Zoo to build modular, reproducible bioimage analysis workflows."
   ]
  },
  {
   "cell_type": "markdown",
   "metadata": {},
   "source": [
    "---\n",
    "## What Are Bioimage Analysis Workflows?\n",
    "Definition: A bioimage analysis workflow is a sequence of steps used to process and analyze microscopy images—e.g., denoising → segmentation → measurements.\n",
    "\n",
    "**Why use workflows?**\n",
    "- Reproducibility\n",
    "- Modularity\n",
    "- Reuse across experiments\n",
    "- Access to advanced tools without deep programming skills"
   ]
  },
  {
   "cell_type": "markdown",
   "metadata": {},
   "source": [
    "---\n",
    "## ZeroCostDL4Mic — Deep Learning Without Code\n",
    "**What is ZeroCostDL4Mic?**\n",
    "- A set of Google Colab notebooks.\n",
    "- Pre-configured environments for training and applying deep learning models for microscopy.\n",
    "- Zero installation. Free GPU via Colab.\n",
    "\n",
    "**Website:** https://github.com/HenriquesLab/ZeroCostDL4Mic"
   ]
  },
  {
   "cell_type": "markdown",
   "metadata": {},
   "source": [
    "**What Can You Do With It?**\n",
    "| Notebook   | Use Case                        |\n",
    "| ---------- | ------------------------------- |\n",
    "| CARE       | Image denoising                 |\n",
    "| Noise2Void | Self-supervised denoising       |\n",
    "| U-Net      | Segmentation                    |\n",
    "| StarDist   | Object segmentation             |\n",
    "| DeepImageJ | Model deployment in Fiji/Napari |"
   ]
  },
  {
   "cell_type": "markdown",
   "metadata": {},
   "source": [
    "**Hands-On Steps**\n",
    "Let’s try StarDist for nuclei segmentation:\n",
    "\n",
    "- **Step 1:** Open the Notebook\n",
    "    - Go to: StarDist ZeroCostDL4Mic\n",
    "\n",
    "- **Step 2:** Upload Image Data\n",
    "    - Drop .tif files into the Colab environment or load from Google Drive.\n",
    "    - You’ll typically need 2 folders:\n",
    "        - `Training_Source`: Raw images\n",
    "        - `Training_Target`: Corresponding masks\n",
    "\n",
    "- **Step 3:** Run Each Code Cell\n",
    "    - Connect to a GPU Runtime (Runtime → Change runtime type → GPU)\n",
    "    - Click play ▶️ on each code cell from top to bottom\n",
    "\n",
    "- **Step 4:** Training, Validation, and Prediction\n",
    "    - The notebook will handle:\n",
    "        - Model setup\n",
    "        - Training loop\n",
    "        - Evaluation\n",
    "        - Predicting segmentations on unseen data\n",
    "\n",
    "*Tip: Use pretrained models from BioImage Model Zoo if you don’t have training data!*\n",
    "\n"
   ]
  },
  {
   "cell_type": "markdown",
   "metadata": {},
   "source": [
    "---\n",
    "## BioImage Model Zoo — Use and Share DL Models\n",
    "\n",
    "**What is it?**\n",
    "A repository of ready-to-use deep learning models for bioimage analysis.\n",
    "\n",
    "**Website:** https://bioimage.io\n",
    "\n",
    "### Features:\n",
    "- Browse models for segmentation, classification, denoising\n",
    "- Each model includes:\n",
    "    - Demo\n",
    "    - Test data\n",
    "    - Compatible tools (e.g., Napari, Fiji, Ilastik)\n",
    "\n",
    "### Using a Model in Napari\n",
    "**Install:**\n",
    "```bash\n",
    "pip install napari\n",
    "pip install napari-bioimageio\n",
    "```\n",
    "\n",
    "### Code Snippet to Load a Model:\n",
    "```python\n",
    "import napari\n",
    "from bioimageio.core import load_resource_description\n",
    "\n",
    "model_rdf = load_resource_description(\"https://bioimage.io/.../model.rdf.yaml\")\n",
    "```"
   ]
  },
  {
   "cell_type": "markdown",
   "metadata": {},
   "source": [
    "---\n",
    "## Mini Project\n",
    "Task: Build a nuclei segmentation workflow using ZeroCostDL4Mic or BioImage Model Zoo\n",
    "\n",
    "1. Option A (with training data):\n",
    "    - Use ZeroCostDL4Mic’s StarDist notebook\n",
    "    - Train on provided example data\n",
    "    - Predict segmentations and visualize them\n",
    "\n",
    "2. Option B (no training data):\n",
    "    - Use a pretrained StarDist model from BioImage.io\n",
    "    - Apply it in Napari using the plugin or Python\n",
    "\n",
    "3. Optional bonus:\n",
    "    - Visualize the segmentations in Napari\n",
    "    - Measure object sizes using Napari plugins (ex: napari-skimage-regionprops)\n",
    "\n",
    "Outcome: One complete workflow — from raw data to segmentation result — no coding expertise needed."
   ]
  },
  {
   "cell_type": "markdown",
   "metadata": {},
   "source": []
  }
 ],
 "metadata": {
  "language_info": {
   "codemirror_mode": {
    "name": "ipython",
    "version": 3
   },
   "file_extension": ".py",
   "mimetype": "text/x-python",
   "name": "python",
   "nbconvert_exporter": "python",
   "pygments_lexer": "ipython3",
   "version": "3.11.4"
  }
 },
 "nbformat": 4,
 "nbformat_minor": 2
}