{
 "cells": [
  {
   "cell_type": "markdown",
   "metadata": {},
   "source": [
    "# Introduction to Cellpose\n",
    "\n",
    "In this section, we dive into Cellpose, a state-of-the-art deep learning tool for biological image segmentation. You’ll learn how it works, what makes it unique compared to other models like U-Net and StarDist, and how to use it via its easy-to-use web interface (GUI). We’ll conclude by setting the stage for using Cellpose in Google Colab for more flexible and scalable workflows."
   ]
  },
  {
   "cell_type": "markdown",
   "metadata": {},
   "source": [
    "---\n",
    "\n",
    "## What is Cellpose?\n",
    "\n",
    "Cellpose is a deep learning model for segmenting biological images. It was released in 2021 by Stringer et al. with a specific goal: to create a model that works well on many types of microscopy data without needing retraining.\n",
    "\n",
    "Unlike tools like U-Net or StarDist that often require dataset-specific training, Cellpose was designed as a generalist model. It was trained on a large, diverse set of images—fluorescent images, phase contrast, cells with or without nuclei, cytoplasmic markers, and more."
   ]
  },
  {
   "cell_type": "markdown",
   "metadata": {},
   "source": [
    "---\n",
    "\n",
    "## The Core Innovation: Flow Fields\n",
    "\n",
    "### Key Idea\n",
    "Cellpose predicts spatial flow fields instead of binary masks. Each pixel in the image is assigned a vector that “points” toward the center of its object. After these flows are computed, the pixels are grouped based on how they flow together—like tracking water to a drain.\n",
    "\n",
    "\n",
    "### How it Works (Conceptually)\n",
    "1. Input: An image of cells, nuclei, or tissue.\n",
    "2. Model predicts:\n",
    "    - A probability map: which pixels are likely to belong to any object.\n",
    "    - A flow field: where each pixel would move if it were pulled toward its object’s center.\n",
    "3. Pixels are grouped: Based on where they flow, pixels are grouped into instances (cells)."
   ]
  },
  {
   "cell_type": "markdown",
   "metadata": {},
   "source": [
    "---\n",
    "\n",
    "## Cellpose Training Data and Generalization\n",
    "Cellpose was trained on over 70,000 manually annotated cells across various imaging modalities, including:\n",
    "- Fluorescence (cytoplasmic, nuclear, and membrane markers)\n",
    "- Brightfield\n",
    "- Phase contrast\n",
    "- Tissue sections\n",
    "\n",
    "This diversity is what makes Cellpose a generalist—you often don’t need to retrain it on your own data.\n",
    "\n",
    "*Key strength, **Cellpose** allows custom training if needed, which is something we’ll briefly touch on later.*"
   ]
  },
  {
   "cell_type": "markdown",
   "metadata": {},
   "source": [
    "---\n",
    "\n",
    "## Cellpose Timeline\n",
    "| Version          | Release Date  | Name / Paper                                        | Key Features & Innovations                                                                                                                                                                                           | Use Cases / Impact                                                                                                                                   |\n",
    "| ---------------- | ------------- | --------------------------------------------------- | -------------------------------------------------------------------------------------------------------------------------------------------------------------------------------------------------------------------- | ---------------------------------------------------------------------------------------------------------------------------------------------------- |\n",
    "| **Cellpose 1.0** | December 2020  | \\[Stringer et al., *Nat. Methods* (2020)]           | - Introduced **flow-based segmentation** <br> - **Generalist model** trained on a wide range of image types <br> - Pretrained on nuclei and cytoplasm <br> - GUI and command-line interface (CLI) support            | - Ready-to-use for diverse cell types <br> - No need for custom training <br> - Reproducible and scalable                                            |\n",
    "| **Cellpose 2.0** | April 2022    | \\[Pachitariu & Stringer, *Nat. Methods* (2022)]     | - Enabled **human-in-the-loop training** <br> - Easy custom model training without code <br> - Introduced **model zoo** for diverse pretrained options <br> - Improved GUI with model selection and training support | - Great for labs with specific cell types <br> - Enables **personalized models** for better accuracy <br> - More flexible for experimental variation |\n",
    "| **Cellpose 3.0** | February 2024 | \\[Stringer & Pachitariu, *Nat. Methods* (2025)]     | - Added **image restoration** before segmentation <br> - Enhanced **segmentation quality** for noisy/low-contrast data <br> - Integration into GUI/API/CLI <br> - Preprocessing saved as `_seg.npy`                  | - Particularly effective for **challenging or degraded images** <br> - One-click enhancement for better masks                                        |\n",
    "| **Cellpose-SAM** | May 2025      | \\[Pachitariu, Rariden & Stringer, *bioRxiv* (2025)] | - Achieves **superhuman generalization** <br> - Works on 2D and 3D data <br> - Handles noise, blur, contrast inversion, variable scales <br> - Compatible with Hugging Face online batch processing                  | - Broadest generalization across datasets <br> - Ideal for complex, noisy, real-world images <br> - Scalable deployment with cloud integration       |\n"
   ]
  },
  {
   "cell_type": "markdown",
   "metadata": {},
   "source": [
    "---\n",
    "\n",
    "## Using Cellpose via the GUI\n",
    "Cellpose comes with a graphical user interface (GUI) that lets you segment images without any coding. It’s one of the easiest ways to get started.\n",
    "\n",
    "### Accessing the GUI\n",
    "You can access the Cellpose GUI in two main ways:\n",
    "\n",
    "**Option 1: Online Web Tool**\n",
    "Cellpose developers provide a web-based GUI:\n",
    "- Go to https://www.cellpose.org\n",
    "- Click \"Run Cellpose GUI\". This launches a web app via the browser.\n",
    "\n",
    "*Note: The web app uses limited resources and is best for trying out single images.*\n",
    "\n",
    "\n",
    "**Option 2: Local Install (Desktop App)**\n",
    "If you want better performance:\n",
    "- Install Cellpose on your local computer\n",
    "- Launch the GUI using cellpose from the command line\n",
    "\n",
    "*Instructions for installation are available on https://github.com/MouseLand/cellpose*"
   ]
  },
  {
   "cell_type": "code",
   "execution_count": 1,
   "metadata": {
    "tags": [
     "hide-input"
    ]
   },
   "outputs": [
    {
     "data": {
      "text/html": [
       "<iframe width=\"900\" height=\"506\" src=\"https://www.youtube.com/embed/2ANILvqca6Q?si=jAhAuVYPoyXGuo1M\" title=\"YouTube video player\" frameborder=\"0\" allow=\"accelerometer; autoplay; clipboard-write; encrypted-media; gyroscope; picture-in-picture; web-share\" referrerpolicy=\"strict-origin-when-cross-origin\" allowfullscreen></iframe>\n"
      ],
      "text/plain": [
       "<IPython.core.display.HTML object>"
      ]
     },
     "metadata": {},
     "output_type": "display_data"
    }
   ],
   "source": [
    "%%HTML\n",
    "<iframe width=\"900\" height=\"506\" src=\"https://www.youtube.com/embed/2ANILvqca6Q?si=jAhAuVYPoyXGuo1M\" title=\"YouTube video player\" frameborder=\"0\" allow=\"accelerometer; autoplay; clipboard-write; encrypted-media; gyroscope; picture-in-picture; web-share\" referrerpolicy=\"strict-origin-when-cross-origin\" allowfullscreen></iframe>"
   ]
  },
  {
   "cell_type": "markdown",
   "metadata": {},
   "source": []
  }
 ],
 "metadata": {
  "kernelspec": {
   "display_name": "gbi-python-env",
   "language": "python",
   "name": "python3"
  },
  "language_info": {
   "codemirror_mode": {
    "name": "ipython",
    "version": 3
   },
   "file_extension": ".py",
   "mimetype": "text/x-python",
   "name": "python",
   "nbconvert_exporter": "python",
   "pygments_lexer": "ipython3",
   "version": "3.13.0"
  }
 },
 "nbformat": 4,
 "nbformat_minor": 2
}