{
 "cells": [
  {
   "cell_type": "markdown",
   "metadata": {},
   "source": [
    "# Feature extraction (intensity, morphological and spatial features)"
   ]
  },
  {
   "cell_type": "markdown",
   "metadata": {},
   "source": [
    "---\n",
    "## Learning Objectives\n",
    "By the end of this session, participants will be able to:\n",
    "- Understand what features are and why they are important for downstream analysis (e.g., classification, clustering).\n",
    "- Extract intensity-based, morphological, and spatial features from segmented images.\n",
    "- Use Python libraries such as scikit-image, numpy, and pandas for feature extraction.\n",
    "- Visualize and interpret feature tables.\n",
    "\n"
   ]
  },
  {
   "cell_type": "markdown",
   "metadata": {},
   "source": [
    "---\n",
    "## Feature Extraction\n",
    "Feature extraction converts segmented biological objects (like nuclei or cells) into measurable descriptors.\n",
    "\n",
    "- Intensity features: Brightness, contrast, mean/median intensity\n",
    "- Morphological features: Size, shape, circularity\n",
    "- Spatial features: Location, distance to neighbors or boundaries\n",
    "\n",
    "Think of it as converting a microscope image into a spreadsheet where:\n",
    "\n",
    "- Each row = one cell/object\n",
    "- Each column = one type of measurement (area, mean intensity, etc.)\n",
    "\n"
   ]
  },
  {
   "cell_type": "code",
   "execution_count": 1,
   "metadata": {
    "vscode": {
     "languageId": "plaintext"
    }
   },
   "outputs": [],
   "source": [
    "import numpy as np\n",
    "import pandas as pd\n",
    "import matplotlib.pyplot as plt\n",
    "from skimage import io, measure, filters, morphology\n",
    "from skimage.segmentation import clear_border"
   ]
  },
  {
   "cell_type": "markdown",
   "metadata": {},
   "source": [
    "### Example:"
   ]
  },
  {
   "cell_type": "code",
   "execution_count": 2,
   "metadata": {
    "vscode": {
     "languageId": "plaintext"
    }
   },
   "outputs": [
    {
     "ename": "FileNotFoundError",
     "evalue": "[Errno 2] No such file or directory: '/Users/ranit/Research/github/Global-BioImaging-Image-Data-2025-Course---India/course_material/06182025_day3/nuclei_raw.tif'",
     "output_type": "error",
     "traceback": [
      "\u001b[31m---------------------------------------------------------------------------\u001b[39m",
      "\u001b[31mFileNotFoundError\u001b[39m                         Traceback (most recent call last)",
      "\u001b[32m/var/folders/5t/3zkcp0dd27s3txcmjn8jl96m0000gq/T/ipykernel_21193/15664590.py\u001b[39m in \u001b[36m?\u001b[39m\u001b[34m()\u001b[39m\n\u001b[32m----> \u001b[39m\u001b[32m1\u001b[39m image = io.imread(\u001b[33m'nuclei_raw.tif'\u001b[39m)\n\u001b[32m      2\u001b[39m mask = io.imread(\u001b[33m'nuclei_mask.tif'\u001b[39m)  \u001b[38;5;66;03m# binary mask from segmentation\u001b[39;00m\n\u001b[32m      3\u001b[39m \n\u001b[32m      4\u001b[39m plt.figure(figsize=(\u001b[32m10\u001b[39m, \u001b[32m5\u001b[39m))\n",
      "\u001b[32m~/anaconda3/envs/gbi-python-env/lib/python3.13/site-packages/skimage/_shared/utils.py\u001b[39m in \u001b[36m?\u001b[39m\u001b[34m(*args, **kwargs)\u001b[39m\n\u001b[32m    324\u001b[39m                 \u001b[38;5;28;01melif\u001b[39;00m self.new_name \u001b[38;5;28;01mis\u001b[39;00m \u001b[38;5;28;01mnot\u001b[39;00m \u001b[38;5;28;01mNone\u001b[39;00m:\n\u001b[32m    325\u001b[39m                     \u001b[38;5;66;03m# Assign old value to new one\u001b[39;00m\n\u001b[32m    326\u001b[39m                     kwargs[self.new_name] = deprecated_value\n\u001b[32m    327\u001b[39m \n\u001b[32m--> \u001b[39m\u001b[32m328\u001b[39m             \u001b[38;5;28;01mreturn\u001b[39;00m func(*args, **kwargs)\n",
      "\u001b[32m~/anaconda3/envs/gbi-python-env/lib/python3.13/site-packages/skimage/io/_io.py\u001b[39m in \u001b[36m?\u001b[39m\u001b[34m(fname, as_gray, plugin, **plugin_args)\u001b[39m\n\u001b[32m     78\u001b[39m         \u001b[38;5;28;01mif\u001b[39;00m fname.lower().endswith((\u001b[33m'.tiff'\u001b[39m, \u001b[33m'.tif'\u001b[39m)):\n\u001b[32m     79\u001b[39m             plugin = \u001b[33m'tifffile'\u001b[39m\n\u001b[32m     80\u001b[39m \n\u001b[32m     81\u001b[39m     \u001b[38;5;28;01mwith\u001b[39;00m file_or_url_context(fname) \u001b[38;5;28;01mas\u001b[39;00m fname, _hide_plugin_deprecation_warnings():\n\u001b[32m---> \u001b[39m\u001b[32m82\u001b[39m         img = call_plugin(\u001b[33m'imread'\u001b[39m, fname, plugin=plugin, **plugin_args)\n\u001b[32m     83\u001b[39m \n\u001b[32m     84\u001b[39m     \u001b[38;5;28;01mif\u001b[39;00m \u001b[38;5;28;01mnot\u001b[39;00m hasattr(img, \u001b[33m'ndim'\u001b[39m):\n\u001b[32m     85\u001b[39m         \u001b[38;5;28;01mreturn\u001b[39;00m img\n",
      "\u001b[32m~/anaconda3/envs/gbi-python-env/lib/python3.13/site-packages/skimage/_shared/utils.py\u001b[39m in \u001b[36m?\u001b[39m\u001b[34m(*args, **kwargs)\u001b[39m\n\u001b[32m    534\u001b[39m         @functools.wraps(func)\n\u001b[32m    535\u001b[39m         \u001b[38;5;28;01mdef\u001b[39;00m wrapped(*args, **kwargs):\n\u001b[32m    536\u001b[39m             stacklevel = \u001b[32m1\u001b[39m + self.get_stack_length(func) - stack_rank\n\u001b[32m    537\u001b[39m             warnings.warn(message, category=FutureWarning, stacklevel=stacklevel)\n\u001b[32m--> \u001b[39m\u001b[32m538\u001b[39m             \u001b[38;5;28;01mreturn\u001b[39;00m func(*args, **kwargs)\n",
      "\u001b[32m~/anaconda3/envs/gbi-python-env/lib/python3.13/site-packages/skimage/io/manage_plugins.py\u001b[39m in \u001b[36m?\u001b[39m\u001b[34m(kind, *args, **kwargs)\u001b[39m\n\u001b[32m    250\u001b[39m             func = [f \u001b[38;5;28;01mfor\u001b[39;00m (p, f) \u001b[38;5;28;01min\u001b[39;00m plugin_funcs \u001b[38;5;28;01mif\u001b[39;00m p == plugin][\u001b[32m0\u001b[39m]\n\u001b[32m    251\u001b[39m         \u001b[38;5;28;01mexcept\u001b[39;00m IndexError:\n\u001b[32m    252\u001b[39m             \u001b[38;5;28;01mraise\u001b[39;00m RuntimeError(f'Could not find the plugin \"{plugin}\" for {kind}.')\n\u001b[32m    253\u001b[39m \n\u001b[32m--> \u001b[39m\u001b[32m254\u001b[39m     \u001b[38;5;28;01mreturn\u001b[39;00m func(*args, **kwargs)\n",
      "\u001b[32m~/anaconda3/envs/gbi-python-env/lib/python3.13/site-packages/skimage/io/_plugins/tifffile_plugin.py\u001b[39m in \u001b[36m?\u001b[39m\u001b[34m(fname, **kwargs)\u001b[39m\n\u001b[32m     70\u001b[39m     \"\"\"\n\u001b[32m     71\u001b[39m     \u001b[38;5;28;01mif\u001b[39;00m \u001b[33m'img_num'\u001b[39m \u001b[38;5;28;01min\u001b[39;00m kwargs:\n\u001b[32m     72\u001b[39m         kwargs[\u001b[33m'key'\u001b[39m] = kwargs.pop(\u001b[33m'img_num'\u001b[39m)\n\u001b[32m     73\u001b[39m \n\u001b[32m---> \u001b[39m\u001b[32m74\u001b[39m     \u001b[38;5;28;01mreturn\u001b[39;00m tifffile_imread(fname, **kwargs)\n",
      "\u001b[32m~/anaconda3/envs/gbi-python-env/lib/python3.13/site-packages/tifffile/tifffile.py\u001b[39m in \u001b[36m?\u001b[39m\u001b[34m(files, selection, aszarr, key, series, level, squeeze, maxworkers, buffersize, mode, name, offset, size, pattern, axesorder, categories, imread, imreadargs, sort, container, chunkshape, chunkdtype, axestiled, ioworkers, chunkmode, fillvalue, zattrs, multiscales, omexml, out, out_inplace, _multifile, _useframes, **kwargs)\u001b[39m\n\u001b[32m   1195\u001b[39m         ):\n\u001b[32m   1196\u001b[39m             files = files[\u001b[32m0\u001b[39m]\n\u001b[32m   1197\u001b[39m \n\u001b[32m   1198\u001b[39m         \u001b[38;5;28;01mif\u001b[39;00m isinstance(files, str) \u001b[38;5;28;01mor\u001b[39;00m \u001b[38;5;28;01mnot\u001b[39;00m isinstance(files, Sequence):\n\u001b[32m-> \u001b[39m\u001b[32m1199\u001b[39m             with TiffFile(\n\u001b[32m   1200\u001b[39m                 files,\n\u001b[32m   1201\u001b[39m                 mode=mode,\n\u001b[32m   1202\u001b[39m                 name=name,\n",
      "\u001b[32m~/anaconda3/envs/gbi-python-env/lib/python3.13/site-packages/tifffile/tifffile.py\u001b[39m in \u001b[36m?\u001b[39m\u001b[34m(self, file, mode, name, offset, size, omexml, _multifile, _useframes, _parent, **is_flags)\u001b[39m\n\u001b[32m   4230\u001b[39m                 \u001b[38;5;28;01mraise\u001b[39;00m ValueError(\u001b[33m'invalid OME-XML'\u001b[39m)\n\u001b[32m   4231\u001b[39m             self._omexml = omexml\n\u001b[32m   4232\u001b[39m             self.is_ome = \u001b[38;5;28;01mTrue\u001b[39;00m\n\u001b[32m   4233\u001b[39m \n\u001b[32m-> \u001b[39m\u001b[32m4234\u001b[39m         fh = FileHandle(file, mode=mode, name=name, offset=offset, size=size)\n\u001b[32m   4235\u001b[39m         self._fh = fh\n\u001b[32m   4236\u001b[39m         self._multifile = \u001b[38;5;28;01mTrue\u001b[39;00m \u001b[38;5;28;01mif\u001b[39;00m _multifile \u001b[38;5;28;01mis\u001b[39;00m \u001b[38;5;28;01mNone\u001b[39;00m \u001b[38;5;28;01melse\u001b[39;00m bool(_multifile)\n\u001b[32m   4237\u001b[39m         self._files = {fh.name: self}\n",
      "\u001b[32m~/anaconda3/envs/gbi-python-env/lib/python3.13/site-packages/tifffile/tifffile.py\u001b[39m in \u001b[36m?\u001b[39m\u001b[34m(self, file, mode, name, offset, size)\u001b[39m\n\u001b[32m  13273\u001b[39m         self._offset = -\u001b[32m1\u001b[39m \u001b[38;5;28;01mif\u001b[39;00m offset \u001b[38;5;28;01mis\u001b[39;00m \u001b[38;5;28;01mNone\u001b[39;00m \u001b[38;5;28;01melse\u001b[39;00m offset\n\u001b[32m  13274\u001b[39m         self._size = -\u001b[32m1\u001b[39m \u001b[38;5;28;01mif\u001b[39;00m size \u001b[38;5;28;01mis\u001b[39;00m \u001b[38;5;28;01mNone\u001b[39;00m \u001b[38;5;28;01melse\u001b[39;00m size\n\u001b[32m  13275\u001b[39m         self._close = \u001b[38;5;28;01mTrue\u001b[39;00m\n\u001b[32m  13276\u001b[39m         self._lock = NullContext()\n\u001b[32m> \u001b[39m\u001b[32m13277\u001b[39m         self.open()\n\u001b[32m  13278\u001b[39m         \u001b[38;5;28;01massert\u001b[39;00m self._fh \u001b[38;5;28;01mis\u001b[39;00m \u001b[38;5;28;01mnot\u001b[39;00m \u001b[38;5;28;01mNone\u001b[39;00m\n",
      "\u001b[32m~/anaconda3/envs/gbi-python-env/lib/python3.13/site-packages/tifffile/tifffile.py\u001b[39m in \u001b[36m?\u001b[39m\u001b[34m(self)\u001b[39m\n\u001b[32m  13292\u001b[39m             \u001b[38;5;28;01mif\u001b[39;00m self._mode \u001b[38;5;28;01mnot\u001b[39;00m \u001b[38;5;28;01min\u001b[39;00m {\u001b[33m'rb'\u001b[39m, \u001b[33m'r+b'\u001b[39m, \u001b[33m'wb'\u001b[39m, \u001b[33m'xb'\u001b[39m}:\n\u001b[32m  13293\u001b[39m                 \u001b[38;5;28;01mraise\u001b[39;00m ValueError(f'invalid mode {self._mode}')\n\u001b[32m  13294\u001b[39m             self._file = os.path.realpath(self._file)\n\u001b[32m  13295\u001b[39m             self._dir, self._name = os.path.split(self._file)\n\u001b[32m> \u001b[39m\u001b[32m13296\u001b[39m             self._fh = open(self._file, self._mode, encoding=\u001b[38;5;28;01mNone\u001b[39;00m)\n\u001b[32m  13297\u001b[39m             self._close = \u001b[38;5;28;01mTrue\u001b[39;00m\n\u001b[32m  13298\u001b[39m             self._offset = max(\u001b[32m0\u001b[39m, self._offset)\n\u001b[32m  13299\u001b[39m         \u001b[38;5;28;01melif\u001b[39;00m isinstance(self._file, FileHandle):\n",
      "\u001b[31mFileNotFoundError\u001b[39m: [Errno 2] No such file or directory: '/Users/ranit/Research/github/Global-BioImaging-Image-Data-2025-Course---India/course_material/06182025_day3/nuclei_raw.tif'"
     ]
    }
   ],
   "source": [
    "image = io.imread('nuclei_raw.tif')\n",
    "mask = io.imread('nuclei_mask.tif')  # binary mask from segmentation\n",
    "\n",
    "plt.figure(figsize=(10, 5))\n",
    "plt.subplot(1, 2, 1)\n",
    "plt.imshow(image, cmap='gray')\n",
    "plt.title(\"Raw Image\")\n",
    "\n",
    "plt.subplot(1, 2, 2)\n",
    "plt.imshow(mask, cmap='gray')\n",
    "plt.title(\"Segmentation Mask\")\n",
    "plt.show()"
   ]
  },
  {
   "cell_type": "markdown",
   "metadata": {},
   "source": [
    "### Feature Extraction with `regionprops_table`\n",
    "Explanation:\n",
    "- `area`: number of pixels inside the object\n",
    "- `perimeter`: length of the object boundary\n",
    "- `eccentricity`: how elongated an object is\n",
    "- `solidity`: compactness of the object\n",
    "- `centroid`: (x, y) center\n",
    "- `mean_intensity`: average brightness inside the object"
   ]
  },
  {
   "cell_type": "code",
   "execution_count": null,
   "metadata": {
    "vscode": {
     "languageId": "plaintext"
    }
   },
   "outputs": [],
   "source": [
    "props = measure.regionprops_table(\n",
    "    mask,\n",
    "    intensity_image=image,\n",
    "    properties=[\n",
    "        'label',\n",
    "        'area',\n",
    "        'perimeter',\n",
    "        'eccentricity',\n",
    "        'solidity',\n",
    "        'centroid',\n",
    "        'mean_intensity',\n",
    "        'max_intensity',\n",
    "        'min_intensity'\n",
    "    ]\n",
    ")\n",
    "\n",
    "df = pd.DataFrame(props)\n",
    "df.head()"
   ]
  },
  {
   "cell_type": "markdown",
   "metadata": {},
   "source": [
    "### Visualizing Features"
   ]
  },
  {
   "cell_type": "code",
   "execution_count": null,
   "metadata": {
    "vscode": {
     "languageId": "plaintext"
    }
   },
   "outputs": [],
   "source": [
    "df['area'].plot(kind='hist', bins=20, title='Cell Size Distribution')\n",
    "plt.xlabel(\"Area (pixels)\")\n",
    "plt.show()\n",
    "\n",
    "plt.scatter(df['eccentricity'], df['mean_intensity'], c='purple')\n",
    "plt.xlabel(\"Eccentricity\")\n",
    "plt.ylabel(\"Mean Intensity\")\n",
    "plt.title(\"Shape vs Intensity\")\n",
    "plt.show()\n"
   ]
  },
  {
   "cell_type": "markdown",
   "metadata": {},
   "source": [
    "---\n",
    "## Mini Project: Feature Table & Filtering\n",
    "Goal: Identify the top 10 largest and brightest nuclei in an image.\n",
    "- Sort by area and mean intensity.\n",
    "- Filter out objects smaller than 100 pixels.\n",
    "- Export results to CSV."
   ]
  },
  {
   "cell_type": "markdown",
   "metadata": {},
   "source": []
  }
 ],
 "metadata": {
  "language_info": {
   "codemirror_mode": {
    "name": "ipython",
    "version": 3
   },
   "file_extension": ".py",
   "mimetype": "text/x-python",
   "name": "python",
   "nbconvert_exporter": "python",
   "pygments_lexer": "ipython3",
   "version": "3.13.0"
  }
 },
 "nbformat": 4,
 "nbformat_minor": 2
}