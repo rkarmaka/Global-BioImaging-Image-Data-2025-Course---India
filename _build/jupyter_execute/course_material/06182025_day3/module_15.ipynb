{
 "cells": [
  {
   "cell_type": "markdown",
   "metadata": {},
   "source": [
    "# Evaluation of Segmentation"
   ]
  },
  {
   "cell_type": "markdown",
   "metadata": {},
   "source": [
    "---\n",
    "## Learning Objectives\n",
    "By the end of this module, learners will be able to:\n",
    "- Understand the importance of evaluating segmentation results.\n",
    "- Visually compare predicted masks with ground truth.\n",
    "- Understand basic segmentation evaluation metrics: Dice Score and IoU (Intersection over Union).\n",
    "- Implement simple visual and quantitative evaluations in Python.\n",
    "- Practice evaluation on real bioimages and interpret results."
   ]
  },
  {
   "cell_type": "markdown",
   "metadata": {},
   "source": [
    "---\n",
    "## Visual Inspection of Segmentation\n",
    "Segmentation models often make small errors in detecting cell boundaries or regions. Before using these masks for scientific conclusions, we must inspect the quality. A visual overlay of the predicted mask with the ground truth (manually labeled image) can quickly highlight errors such as:\n",
    "- Missed objects\n",
    "- Extra (false positive) detections\n",
    "- Boundary misalignment\n",
    "\n",
    "This is a first, essential sanity check before using more complex metrics."
   ]
  },
  {
   "cell_type": "markdown",
   "metadata": {},
   "source": [
    "### Hands-on Coding\n",
    "We will overlay prediction and ground truth masks in different colors."
   ]
  },
  {
   "cell_type": "code",
   "execution_count": 1,
   "metadata": {
    "vscode": {
     "languageId": "plaintext"
    }
   },
   "outputs": [
    {
     "ename": "FileNotFoundError",
     "evalue": "[Errno 2] No such file or directory: '/Users/ranit/Research/github/Global-BioImaging-Image-Data-2025-Course---India/course_material/06182025_day3/cell_image.tif'",
     "output_type": "error",
     "traceback": [
      "\u001b[31m---------------------------------------------------------------------------\u001b[39m",
      "\u001b[31mFileNotFoundError\u001b[39m                         Traceback (most recent call last)",
      "\u001b[32m/var/folders/5t/3zkcp0dd27s3txcmjn8jl96m0000gq/T/ipykernel_23018/2088862724.py\u001b[39m in \u001b[36m?\u001b[39m\u001b[34m()\u001b[39m\n\u001b[32m      2\u001b[39m \u001b[38;5;28;01mimport\u001b[39;00m matplotlib.pyplot \u001b[38;5;28;01mas\u001b[39;00m plt\n\u001b[32m      3\u001b[39m \u001b[38;5;28;01mfrom\u001b[39;00m skimage.io \u001b[38;5;28;01mimport\u001b[39;00m imread\n\u001b[32m      4\u001b[39m \n\u001b[32m      5\u001b[39m \u001b[38;5;66;03m# Load grayscale image and masks\u001b[39;00m\n\u001b[32m----> \u001b[39m\u001b[32m6\u001b[39m image = imread(\u001b[33m\"cell_image.tif\"\u001b[39m)\n\u001b[32m      7\u001b[39m gt_mask = imread(\u001b[33m\"ground_truth_mask.tif\"\u001b[39m) > \u001b[32m0\u001b[39m\n\u001b[32m      8\u001b[39m pred_mask = imread(\u001b[33m\"predicted_mask.tif\"\u001b[39m) > \u001b[32m0\u001b[39m\n\u001b[32m      9\u001b[39m \n",
      "\u001b[32m~/anaconda3/envs/gbi-python-env/lib/python3.13/site-packages/skimage/_shared/utils.py\u001b[39m in \u001b[36m?\u001b[39m\u001b[34m(*args, **kwargs)\u001b[39m\n\u001b[32m    324\u001b[39m                 \u001b[38;5;28;01melif\u001b[39;00m self.new_name \u001b[38;5;28;01mis\u001b[39;00m \u001b[38;5;28;01mnot\u001b[39;00m \u001b[38;5;28;01mNone\u001b[39;00m:\n\u001b[32m    325\u001b[39m                     \u001b[38;5;66;03m# Assign old value to new one\u001b[39;00m\n\u001b[32m    326\u001b[39m                     kwargs[self.new_name] = deprecated_value\n\u001b[32m    327\u001b[39m \n\u001b[32m--> \u001b[39m\u001b[32m328\u001b[39m             \u001b[38;5;28;01mreturn\u001b[39;00m func(*args, **kwargs)\n",
      "\u001b[32m~/anaconda3/envs/gbi-python-env/lib/python3.13/site-packages/skimage/io/_io.py\u001b[39m in \u001b[36m?\u001b[39m\u001b[34m(fname, as_gray, plugin, **plugin_args)\u001b[39m\n\u001b[32m     78\u001b[39m         \u001b[38;5;28;01mif\u001b[39;00m fname.lower().endswith((\u001b[33m'.tiff'\u001b[39m, \u001b[33m'.tif'\u001b[39m)):\n\u001b[32m     79\u001b[39m             plugin = \u001b[33m'tifffile'\u001b[39m\n\u001b[32m     80\u001b[39m \n\u001b[32m     81\u001b[39m     \u001b[38;5;28;01mwith\u001b[39;00m file_or_url_context(fname) \u001b[38;5;28;01mas\u001b[39;00m fname, _hide_plugin_deprecation_warnings():\n\u001b[32m---> \u001b[39m\u001b[32m82\u001b[39m         img = call_plugin(\u001b[33m'imread'\u001b[39m, fname, plugin=plugin, **plugin_args)\n\u001b[32m     83\u001b[39m \n\u001b[32m     84\u001b[39m     \u001b[38;5;28;01mif\u001b[39;00m \u001b[38;5;28;01mnot\u001b[39;00m hasattr(img, \u001b[33m'ndim'\u001b[39m):\n\u001b[32m     85\u001b[39m         \u001b[38;5;28;01mreturn\u001b[39;00m img\n",
      "\u001b[32m~/anaconda3/envs/gbi-python-env/lib/python3.13/site-packages/skimage/_shared/utils.py\u001b[39m in \u001b[36m?\u001b[39m\u001b[34m(*args, **kwargs)\u001b[39m\n\u001b[32m    534\u001b[39m         @functools.wraps(func)\n\u001b[32m    535\u001b[39m         \u001b[38;5;28;01mdef\u001b[39;00m wrapped(*args, **kwargs):\n\u001b[32m    536\u001b[39m             stacklevel = \u001b[32m1\u001b[39m + self.get_stack_length(func) - stack_rank\n\u001b[32m    537\u001b[39m             warnings.warn(message, category=FutureWarning, stacklevel=stacklevel)\n\u001b[32m--> \u001b[39m\u001b[32m538\u001b[39m             \u001b[38;5;28;01mreturn\u001b[39;00m func(*args, **kwargs)\n",
      "\u001b[32m~/anaconda3/envs/gbi-python-env/lib/python3.13/site-packages/skimage/io/manage_plugins.py\u001b[39m in \u001b[36m?\u001b[39m\u001b[34m(kind, *args, **kwargs)\u001b[39m\n\u001b[32m    250\u001b[39m             func = [f \u001b[38;5;28;01mfor\u001b[39;00m (p, f) \u001b[38;5;28;01min\u001b[39;00m plugin_funcs \u001b[38;5;28;01mif\u001b[39;00m p == plugin][\u001b[32m0\u001b[39m]\n\u001b[32m    251\u001b[39m         \u001b[38;5;28;01mexcept\u001b[39;00m IndexError:\n\u001b[32m    252\u001b[39m             \u001b[38;5;28;01mraise\u001b[39;00m RuntimeError(f'Could not find the plugin \"{plugin}\" for {kind}.')\n\u001b[32m    253\u001b[39m \n\u001b[32m--> \u001b[39m\u001b[32m254\u001b[39m     \u001b[38;5;28;01mreturn\u001b[39;00m func(*args, **kwargs)\n",
      "\u001b[32m~/anaconda3/envs/gbi-python-env/lib/python3.13/site-packages/skimage/io/_plugins/tifffile_plugin.py\u001b[39m in \u001b[36m?\u001b[39m\u001b[34m(fname, **kwargs)\u001b[39m\n\u001b[32m     70\u001b[39m     \"\"\"\n\u001b[32m     71\u001b[39m     \u001b[38;5;28;01mif\u001b[39;00m \u001b[33m'img_num'\u001b[39m \u001b[38;5;28;01min\u001b[39;00m kwargs:\n\u001b[32m     72\u001b[39m         kwargs[\u001b[33m'key'\u001b[39m] = kwargs.pop(\u001b[33m'img_num'\u001b[39m)\n\u001b[32m     73\u001b[39m \n\u001b[32m---> \u001b[39m\u001b[32m74\u001b[39m     \u001b[38;5;28;01mreturn\u001b[39;00m tifffile_imread(fname, **kwargs)\n",
      "\u001b[32m~/anaconda3/envs/gbi-python-env/lib/python3.13/site-packages/tifffile/tifffile.py\u001b[39m in \u001b[36m?\u001b[39m\u001b[34m(files, selection, aszarr, key, series, level, squeeze, maxworkers, buffersize, mode, name, offset, size, pattern, axesorder, categories, imread, imreadargs, sort, container, chunkshape, chunkdtype, axestiled, ioworkers, chunkmode, fillvalue, zattrs, multiscales, omexml, out, out_inplace, _multifile, _useframes, **kwargs)\u001b[39m\n\u001b[32m   1195\u001b[39m         ):\n\u001b[32m   1196\u001b[39m             files = files[\u001b[32m0\u001b[39m]\n\u001b[32m   1197\u001b[39m \n\u001b[32m   1198\u001b[39m         \u001b[38;5;28;01mif\u001b[39;00m isinstance(files, str) \u001b[38;5;28;01mor\u001b[39;00m \u001b[38;5;28;01mnot\u001b[39;00m isinstance(files, Sequence):\n\u001b[32m-> \u001b[39m\u001b[32m1199\u001b[39m             with TiffFile(\n\u001b[32m   1200\u001b[39m                 files,\n\u001b[32m   1201\u001b[39m                 mode=mode,\n\u001b[32m   1202\u001b[39m                 name=name,\n",
      "\u001b[32m~/anaconda3/envs/gbi-python-env/lib/python3.13/site-packages/tifffile/tifffile.py\u001b[39m in \u001b[36m?\u001b[39m\u001b[34m(self, file, mode, name, offset, size, omexml, _multifile, _useframes, _parent, **is_flags)\u001b[39m\n\u001b[32m   4230\u001b[39m                 \u001b[38;5;28;01mraise\u001b[39;00m ValueError(\u001b[33m'invalid OME-XML'\u001b[39m)\n\u001b[32m   4231\u001b[39m             self._omexml = omexml\n\u001b[32m   4232\u001b[39m             self.is_ome = \u001b[38;5;28;01mTrue\u001b[39;00m\n\u001b[32m   4233\u001b[39m \n\u001b[32m-> \u001b[39m\u001b[32m4234\u001b[39m         fh = FileHandle(file, mode=mode, name=name, offset=offset, size=size)\n\u001b[32m   4235\u001b[39m         self._fh = fh\n\u001b[32m   4236\u001b[39m         self._multifile = \u001b[38;5;28;01mTrue\u001b[39;00m \u001b[38;5;28;01mif\u001b[39;00m _multifile \u001b[38;5;28;01mis\u001b[39;00m \u001b[38;5;28;01mNone\u001b[39;00m \u001b[38;5;28;01melse\u001b[39;00m bool(_multifile)\n\u001b[32m   4237\u001b[39m         self._files = {fh.name: self}\n",
      "\u001b[32m~/anaconda3/envs/gbi-python-env/lib/python3.13/site-packages/tifffile/tifffile.py\u001b[39m in \u001b[36m?\u001b[39m\u001b[34m(self, file, mode, name, offset, size)\u001b[39m\n\u001b[32m  13273\u001b[39m         self._offset = -\u001b[32m1\u001b[39m \u001b[38;5;28;01mif\u001b[39;00m offset \u001b[38;5;28;01mis\u001b[39;00m \u001b[38;5;28;01mNone\u001b[39;00m \u001b[38;5;28;01melse\u001b[39;00m offset\n\u001b[32m  13274\u001b[39m         self._size = -\u001b[32m1\u001b[39m \u001b[38;5;28;01mif\u001b[39;00m size \u001b[38;5;28;01mis\u001b[39;00m \u001b[38;5;28;01mNone\u001b[39;00m \u001b[38;5;28;01melse\u001b[39;00m size\n\u001b[32m  13275\u001b[39m         self._close = \u001b[38;5;28;01mTrue\u001b[39;00m\n\u001b[32m  13276\u001b[39m         self._lock = NullContext()\n\u001b[32m> \u001b[39m\u001b[32m13277\u001b[39m         self.open()\n\u001b[32m  13278\u001b[39m         \u001b[38;5;28;01massert\u001b[39;00m self._fh \u001b[38;5;28;01mis\u001b[39;00m \u001b[38;5;28;01mnot\u001b[39;00m \u001b[38;5;28;01mNone\u001b[39;00m\n",
      "\u001b[32m~/anaconda3/envs/gbi-python-env/lib/python3.13/site-packages/tifffile/tifffile.py\u001b[39m in \u001b[36m?\u001b[39m\u001b[34m(self)\u001b[39m\n\u001b[32m  13292\u001b[39m             \u001b[38;5;28;01mif\u001b[39;00m self._mode \u001b[38;5;28;01mnot\u001b[39;00m \u001b[38;5;28;01min\u001b[39;00m {\u001b[33m'rb'\u001b[39m, \u001b[33m'r+b'\u001b[39m, \u001b[33m'wb'\u001b[39m, \u001b[33m'xb'\u001b[39m}:\n\u001b[32m  13293\u001b[39m                 \u001b[38;5;28;01mraise\u001b[39;00m ValueError(f'invalid mode {self._mode}')\n\u001b[32m  13294\u001b[39m             self._file = os.path.realpath(self._file)\n\u001b[32m  13295\u001b[39m             self._dir, self._name = os.path.split(self._file)\n\u001b[32m> \u001b[39m\u001b[32m13296\u001b[39m             self._fh = open(self._file, self._mode, encoding=\u001b[38;5;28;01mNone\u001b[39;00m)\n\u001b[32m  13297\u001b[39m             self._close = \u001b[38;5;28;01mTrue\u001b[39;00m\n\u001b[32m  13298\u001b[39m             self._offset = max(\u001b[32m0\u001b[39m, self._offset)\n\u001b[32m  13299\u001b[39m         \u001b[38;5;28;01melif\u001b[39;00m isinstance(self._file, FileHandle):\n",
      "\u001b[31mFileNotFoundError\u001b[39m: [Errno 2] No such file or directory: '/Users/ranit/Research/github/Global-BioImaging-Image-Data-2025-Course---India/course_material/06182025_day3/cell_image.tif'"
     ]
    }
   ],
   "source": [
    "import numpy as np\n",
    "import matplotlib.pyplot as plt\n",
    "from skimage.io import imread\n",
    "\n",
    "# Load grayscale image and masks\n",
    "image = imread(\"cell_image.tif\")\n",
    "gt_mask = imread(\"ground_truth_mask.tif\") > 0\n",
    "pred_mask = imread(\"predicted_mask.tif\") > 0\n",
    "\n",
    "# Overlay visualization\n",
    "def show_overlay(image, gt, pred):\n",
    "    overlay = np.zeros((*image.shape, 3))\n",
    "    overlay[..., 0] = np.where(pred, 1.0, 0.0)   # Red: prediction\n",
    "    overlay[..., 1] = np.where(gt, 1.0, 0.0)     # Green: ground truth\n",
    "    overlay[..., 2] = image / image.max()        # Blue: background image\n",
    "\n",
    "    plt.figure(figsize=(6, 6))\n",
    "    plt.imshow(overlay)\n",
    "    plt.title(\"Overlay: Green=GT, Red=Prediction, Yellow=Overlap\")\n",
    "    plt.axis('off')\n",
    "    plt.show()\n",
    "\n",
    "show_overlay(image, gt_mask, pred_mask)"
   ]
  },
  {
   "cell_type": "markdown",
   "metadata": {},
   "source": [
    "### Exercise\n",
    "Use a sample image and:\n",
    "- Overlay your segmentation result.\n",
    "- Identify 3 major areas of mismatch (e.g., false positives or false negatives).\n",
    "- Take a screenshot and write down your observations."
   ]
  },
  {
   "cell_type": "markdown",
   "metadata": {},
   "source": [
    "---\n",
    "## Quantitative Metrics – Dice Score and IoU\n",
    "### Dice Coefficient (Dice Score)\n",
    "\n",
    "The Dice coefficient is a measure of overlap between two binary masks:\n",
    "\n",
    "$$\n",
    "\\text{Dice}(A, B) = \\frac{2 \\times |A \\cap B|}{|A| + |B|}\n",
    "$$\n",
    "\n",
    "Where:\n",
    "- $( A )$: Ground truth mask (binary)\n",
    "- $( B )$: Predicted mask (binary)\n",
    "- $( |A \\cap B| )$: Number of overlapping pixels between A and B (true positives)\n",
    "- $( |A| )$: Number of pixels in ground truth\n",
    "- $( |B| )$: Number of pixels in prediction\n",
    "\n",
    "---\n",
    "\n",
    "### Intersection over Union (IoU or Jaccard Index)\n",
    "\n",
    "IoU measures the proportion of the intersection area over the union area:\n",
    "\n",
    "$$\n",
    "\\text{IoU}(A, B) = \\frac{|A \\cap B|}{|A \\cup B|}\n",
    "$$\n",
    "\n",
    "Where:\n",
    "- $( |A \\cup B| = |A| + |B| - |A \\cap B| )$\n",
    "\n",
    "---\n",
    "\n",
    "### Relationship Between Dice and IoU\n",
    "\n",
    "$$\n",
    "\\text{Dice} = \\frac{2 \\cdot \\text{IoU}}{1 + \\text{IoU}}\n",
    "$$\n",
    "\n",
    "This shows that Dice and IoU are mathematically related and often behave similarly in practice.\n",
    "\n",
    "High values (close to 1) mean better segmentation.\n",
    "\n",
    "Dice is more sensitive to overlap, while IoU is stricter."
   ]
  },
  {
   "cell_type": "markdown",
   "metadata": {},
   "source": [
    "### Hands-on Coding"
   ]
  },
  {
   "cell_type": "code",
   "execution_count": null,
   "metadata": {
    "vscode": {
     "languageId": "plaintext"
    }
   },
   "outputs": [],
   "source": [
    "def dice_score(gt, pred):\n",
    "    intersection = np.logical_and(gt, pred).sum()\n",
    "    return 2 * intersection / (gt.sum() + pred.sum())\n",
    "\n",
    "def iou_score(gt, pred):\n",
    "    intersection = np.logical_and(gt, pred).sum()\n",
    "    union = np.logical_or(gt, pred).sum()\n",
    "    return intersection / union\n",
    "\n",
    "# Compute scores\n",
    "dice = dice_score(gt_mask, pred_mask)\n",
    "iou = iou_score(gt_mask, pred_mask)\n",
    "\n",
    "print(f\"Dice Score: {dice:.3f}\")\n",
    "print(f\"IoU Score: {iou:.3f}\")"
   ]
  },
  {
   "cell_type": "markdown",
   "metadata": {},
   "source": [
    "### Exercise\n",
    "- Load any two masks (ground truth and prediction).\n",
    "- Compute Dice and IoU scores.\n",
    "- Compare how much they differ.\n",
    "- Change one object in the predicted mask and observe how the scores change."
   ]
  },
  {
   "cell_type": "markdown",
   "metadata": {},
   "source": [
    "---\n",
    "## Mini Project: Evaluate Segmentation on a Dataset\n",
    "**Goal:**\n",
    "Given a folder with:\n",
    "- Original images\n",
    "- Ground truth masks\n",
    "- Predicted masks\n",
    "\n",
    "**Tasks:**\n",
    "- Visual inspection for 3 samples (with overlays)\n",
    "- Compute Dice and IoU scores for all samples\n",
    "- Save results to a CSV file\n",
    "\n",
    "**Summarize:** Which images had the worst performance and why?"
   ]
  },
  {
   "cell_type": "code",
   "execution_count": null,
   "metadata": {
    "tags": [
     "hide-cell"
    ],
    "vscode": {
     "languageId": "plaintext"
    }
   },
   "outputs": [],
   "source": [
    "import os\n",
    "import pandas as pd\n",
    "\n",
    "image_dir = \"dataset/images/\"\n",
    "gt_dir = \"dataset/ground_truth/\"\n",
    "pred_dir = \"dataset/predictions/\"\n",
    "\n",
    "results = []\n",
    "\n",
    "for fname in os.listdir(gt_dir):\n",
    "    gt = imread(os.path.join(gt_dir, fname)) > 0\n",
    "    pred = imread(os.path.join(pred_dir, fname)) > 0\n",
    "    \n",
    "    dice = dice_score(gt, pred)\n",
    "    iou = iou_score(gt, pred)\n",
    "    \n",
    "    results.append({\"filename\": fname, \"dice\": dice, \"iou\": iou})\n",
    "\n",
    "df = pd.DataFrame(results)\n",
    "df.to_csv(\"segmentation_evaluation.csv\", index=False)\n",
    "print(df.sort_values(by=\"dice\"))"
   ]
  },
  {
   "cell_type": "markdown",
   "metadata": {},
   "source": [
    "---\n",
    "## Module Summary\n",
    "| Concept             | What You Learned                                                           |\n",
    "| ------------------- | -------------------------------------------------------------------------- |\n",
    "| Visual Inspection   | Overlay GT and predicted masks to identify mismatches visually             |\n",
    "| Dice Score          | Measures similarity (focus on overlap); good for imbalanced objects        |\n",
    "| IoU (Jaccard)       | Measures strict overlap; lower tolerance to false positives                |\n",
    "| Hands-on Evaluation | Use Python to load masks, compute scores, and generate overlays            |\n",
    "| Mini Project        | Combine visual + quantitative evaluations to identify segmentation quality |\n"
   ]
  },
  {
   "cell_type": "markdown",
   "metadata": {},
   "source": []
  }
 ],
 "metadata": {
  "language_info": {
   "codemirror_mode": {
    "name": "ipython",
    "version": 3
   },
   "file_extension": ".py",
   "mimetype": "text/x-python",
   "name": "python",
   "nbconvert_exporter": "python",
   "pygments_lexer": "ipython3",
   "version": "3.13.0"
  }
 },
 "nbformat": 4,
 "nbformat_minor": 2
}