{
 "cells": [
  {
   "cell_type": "markdown",
   "metadata": {},
   "source": [
    "# Evaluation of Segmentation"
   ]
  },
  {
   "cell_type": "markdown",
   "metadata": {},
   "source": [
    "---\n",
    "## Learning Objectives\n",
    "By the end of this module, learners will be able to:\n",
    "- Understand the importance of evaluating segmentation results.\n",
    "- Visually compare predicted masks with ground truth.\n",
    "- Understand basic segmentation evaluation metrics: Dice Score and IoU (Intersection over Union).\n",
    "- Implement simple visual and quantitative evaluations in Python.\n",
    "- Practice evaluation on real bioimages and interpret results."
   ]
  },
  {
   "cell_type": "markdown",
   "metadata": {},
   "source": [
    "---\n",
    "## Visual Inspection of Segmentation\n",
    "Segmentation models often make small errors in detecting cell boundaries or regions. Before using these masks for scientific conclusions, we must inspect the quality. A visual overlay of the predicted mask with the ground truth (manually labeled image) can quickly highlight errors such as:\n",
    "- Missed objects\n",
    "- Extra (false positive) detections\n",
    "- Boundary misalignment\n",
    "\n",
    "This is a first, essential sanity check before using more complex metrics."
   ]
  },
  {
   "cell_type": "markdown",
   "metadata": {},
   "source": [
    "### Hands-on Coding\n",
    "We will overlay prediction and ground truth masks in different colors."
   ]
  },
  {
   "cell_type": "code",
   "execution_count": 1,
   "metadata": {
    "vscode": {
     "languageId": "plaintext"
    }
   },
   "outputs": [
    {
     "ename": "FileNotFoundError",
     "evalue": "[Errno 2] No such file or directory: '/Users/ranit/Research/github/GBI-Python-2025/course_material/06182025_day3/cell_image.tif'",
     "output_type": "error",
     "traceback": [
      "\u001b[0;31m---------------------------------------------------------------------------\u001b[0m",
      "\u001b[0;31mFileNotFoundError\u001b[0m                         Traceback (most recent call last)",
      "Cell \u001b[0;32mIn[1], line 6\u001b[0m\n\u001b[1;32m      3\u001b[0m \u001b[38;5;28;01mfrom\u001b[39;00m\u001b[38;5;250m \u001b[39m\u001b[38;5;21;01mskimage\u001b[39;00m\u001b[38;5;21;01m.\u001b[39;00m\u001b[38;5;21;01mio\u001b[39;00m\u001b[38;5;250m \u001b[39m\u001b[38;5;28;01mimport\u001b[39;00m imread\n\u001b[1;32m      5\u001b[0m \u001b[38;5;66;03m# Load grayscale image and masks\u001b[39;00m\n\u001b[0;32m----> 6\u001b[0m image \u001b[38;5;241m=\u001b[39m imread(\u001b[38;5;124m\"\u001b[39m\u001b[38;5;124mcell_image.tif\u001b[39m\u001b[38;5;124m\"\u001b[39m)\n\u001b[1;32m      7\u001b[0m gt_mask \u001b[38;5;241m=\u001b[39m imread(\u001b[38;5;124m\"\u001b[39m\u001b[38;5;124mground_truth_mask.tif\u001b[39m\u001b[38;5;124m\"\u001b[39m) \u001b[38;5;241m>\u001b[39m \u001b[38;5;241m0\u001b[39m\n\u001b[1;32m      8\u001b[0m pred_mask \u001b[38;5;241m=\u001b[39m imread(\u001b[38;5;124m\"\u001b[39m\u001b[38;5;124mpredicted_mask.tif\u001b[39m\u001b[38;5;124m\"\u001b[39m) \u001b[38;5;241m>\u001b[39m \u001b[38;5;241m0\u001b[39m\n",
      "File \u001b[0;32m~/anaconda3/lib/python3.11/site-packages/skimage/io/_io.py:53\u001b[0m, in \u001b[0;36mimread\u001b[0;34m(fname, as_gray, plugin, **plugin_args)\u001b[0m\n\u001b[1;32m     50\u001b[0m         plugin \u001b[38;5;241m=\u001b[39m \u001b[38;5;124m'\u001b[39m\u001b[38;5;124mtifffile\u001b[39m\u001b[38;5;124m'\u001b[39m\n\u001b[1;32m     52\u001b[0m \u001b[38;5;28;01mwith\u001b[39;00m file_or_url_context(fname) \u001b[38;5;28;01mas\u001b[39;00m fname:\n\u001b[0;32m---> 53\u001b[0m     img \u001b[38;5;241m=\u001b[39m call_plugin(\u001b[38;5;124m'\u001b[39m\u001b[38;5;124mimread\u001b[39m\u001b[38;5;124m'\u001b[39m, fname, plugin\u001b[38;5;241m=\u001b[39mplugin, \u001b[38;5;241m*\u001b[39m\u001b[38;5;241m*\u001b[39mplugin_args)\n\u001b[1;32m     55\u001b[0m \u001b[38;5;28;01mif\u001b[39;00m \u001b[38;5;129;01mnot\u001b[39;00m \u001b[38;5;28mhasattr\u001b[39m(img, \u001b[38;5;124m'\u001b[39m\u001b[38;5;124mndim\u001b[39m\u001b[38;5;124m'\u001b[39m):\n\u001b[1;32m     56\u001b[0m     \u001b[38;5;28;01mreturn\u001b[39;00m img\n",
      "File \u001b[0;32m~/anaconda3/lib/python3.11/site-packages/skimage/io/manage_plugins.py:205\u001b[0m, in \u001b[0;36mcall_plugin\u001b[0;34m(kind, *args, **kwargs)\u001b[0m\n\u001b[1;32m    202\u001b[0m     \u001b[38;5;28;01mexcept\u001b[39;00m \u001b[38;5;167;01mIndexError\u001b[39;00m:\n\u001b[1;32m    203\u001b[0m         \u001b[38;5;28;01mraise\u001b[39;00m \u001b[38;5;167;01mRuntimeError\u001b[39;00m(\u001b[38;5;124mf\u001b[39m\u001b[38;5;124m'\u001b[39m\u001b[38;5;124mCould not find the plugin \u001b[39m\u001b[38;5;124m\"\u001b[39m\u001b[38;5;132;01m{\u001b[39;00mplugin\u001b[38;5;132;01m}\u001b[39;00m\u001b[38;5;124m\"\u001b[39m\u001b[38;5;124m for \u001b[39m\u001b[38;5;132;01m{\u001b[39;00mkind\u001b[38;5;132;01m}\u001b[39;00m\u001b[38;5;124m.\u001b[39m\u001b[38;5;124m'\u001b[39m)\n\u001b[0;32m--> 205\u001b[0m \u001b[38;5;28;01mreturn\u001b[39;00m func(\u001b[38;5;241m*\u001b[39margs, \u001b[38;5;241m*\u001b[39m\u001b[38;5;241m*\u001b[39mkwargs)\n",
      "File \u001b[0;32m~/anaconda3/lib/python3.11/site-packages/skimage/io/_plugins/tifffile_plugin.py:74\u001b[0m, in \u001b[0;36mimread\u001b[0;34m(fname, **kwargs)\u001b[0m\n\u001b[1;32m     71\u001b[0m \u001b[38;5;28;01mif\u001b[39;00m \u001b[38;5;124m'\u001b[39m\u001b[38;5;124mimg_num\u001b[39m\u001b[38;5;124m'\u001b[39m \u001b[38;5;129;01min\u001b[39;00m kwargs:\n\u001b[1;32m     72\u001b[0m     kwargs[\u001b[38;5;124m'\u001b[39m\u001b[38;5;124mkey\u001b[39m\u001b[38;5;124m'\u001b[39m] \u001b[38;5;241m=\u001b[39m kwargs\u001b[38;5;241m.\u001b[39mpop(\u001b[38;5;124m'\u001b[39m\u001b[38;5;124mimg_num\u001b[39m\u001b[38;5;124m'\u001b[39m)\n\u001b[0;32m---> 74\u001b[0m \u001b[38;5;28;01mreturn\u001b[39;00m tifffile_imread(fname, \u001b[38;5;241m*\u001b[39m\u001b[38;5;241m*\u001b[39mkwargs)\n",
      "File \u001b[0;32m~/anaconda3/lib/python3.11/site-packages/tifffile/tifffile.py:816\u001b[0m, in \u001b[0;36mimread\u001b[0;34m(files, aszarr, **kwargs)\u001b[0m\n\u001b[1;32m    813\u001b[0m     files \u001b[38;5;241m=\u001b[39m files[\u001b[38;5;241m0\u001b[39m]\n\u001b[1;32m    815\u001b[0m \u001b[38;5;28;01mif\u001b[39;00m \u001b[38;5;28misinstance\u001b[39m(files, (\u001b[38;5;28mstr\u001b[39m, os\u001b[38;5;241m.\u001b[39mPathLike)) \u001b[38;5;129;01mor\u001b[39;00m \u001b[38;5;28mhasattr\u001b[39m(files, \u001b[38;5;124m'\u001b[39m\u001b[38;5;124mseek\u001b[39m\u001b[38;5;124m'\u001b[39m):\n\u001b[0;32m--> 816\u001b[0m     \u001b[38;5;28;01mwith\u001b[39;00m TiffFile(files, \u001b[38;5;241m*\u001b[39m\u001b[38;5;241m*\u001b[39mkwargs_file) \u001b[38;5;28;01mas\u001b[39;00m tif:\n\u001b[1;32m    817\u001b[0m         \u001b[38;5;28;01mif\u001b[39;00m aszarr:\n\u001b[1;32m    818\u001b[0m             \u001b[38;5;28;01mreturn\u001b[39;00m tif\u001b[38;5;241m.\u001b[39maszarr(\u001b[38;5;241m*\u001b[39m\u001b[38;5;241m*\u001b[39mkwargs)\n",
      "File \u001b[0;32m~/anaconda3/lib/python3.11/site-packages/tifffile/tifffile.py:3000\u001b[0m, in \u001b[0;36mTiffFile.__init__\u001b[0;34m(self, arg, mode, name, offset, size, _multifile, _useframes, _master, **kwargs)\u001b[0m\n\u001b[1;32m   2997\u001b[0m \u001b[38;5;28;01mif\u001b[39;00m mode \u001b[38;5;129;01mnot\u001b[39;00m \u001b[38;5;129;01min\u001b[39;00m (\u001b[38;5;28;01mNone\u001b[39;00m, \u001b[38;5;124m'\u001b[39m\u001b[38;5;124mrb\u001b[39m\u001b[38;5;124m'\u001b[39m, \u001b[38;5;124m'\u001b[39m\u001b[38;5;124mr+b\u001b[39m\u001b[38;5;124m'\u001b[39m):\n\u001b[1;32m   2998\u001b[0m     \u001b[38;5;28;01mraise\u001b[39;00m \u001b[38;5;167;01mValueError\u001b[39;00m(\u001b[38;5;124mf\u001b[39m\u001b[38;5;124m'\u001b[39m\u001b[38;5;124minvalid mode \u001b[39m\u001b[38;5;132;01m{\u001b[39;00mmode\u001b[38;5;132;01m!r}\u001b[39;00m\u001b[38;5;124m'\u001b[39m)\n\u001b[0;32m-> 3000\u001b[0m fh \u001b[38;5;241m=\u001b[39m FileHandle(arg, mode\u001b[38;5;241m=\u001b[39mmode, name\u001b[38;5;241m=\u001b[39mname, offset\u001b[38;5;241m=\u001b[39moffset, size\u001b[38;5;241m=\u001b[39msize)\n\u001b[1;32m   3001\u001b[0m \u001b[38;5;28mself\u001b[39m\u001b[38;5;241m.\u001b[39m_fh \u001b[38;5;241m=\u001b[39m fh\n\u001b[1;32m   3002\u001b[0m \u001b[38;5;28mself\u001b[39m\u001b[38;5;241m.\u001b[39m_multifile \u001b[38;5;241m=\u001b[39m \u001b[38;5;28mbool\u001b[39m(_multifile)\n",
      "File \u001b[0;32m~/anaconda3/lib/python3.11/site-packages/tifffile/tifffile.py:9537\u001b[0m, in \u001b[0;36mFileHandle.__init__\u001b[0;34m(self, file, mode, name, offset, size)\u001b[0m\n\u001b[1;32m   9535\u001b[0m \u001b[38;5;28mself\u001b[39m\u001b[38;5;241m.\u001b[39mis_file \u001b[38;5;241m=\u001b[39m \u001b[38;5;28;01mNone\u001b[39;00m\n\u001b[1;32m   9536\u001b[0m \u001b[38;5;28mself\u001b[39m\u001b[38;5;241m.\u001b[39m_lock \u001b[38;5;241m=\u001b[39m NullContext()\n\u001b[0;32m-> 9537\u001b[0m \u001b[38;5;28mself\u001b[39m\u001b[38;5;241m.\u001b[39mopen()\n",
      "File \u001b[0;32m~/anaconda3/lib/python3.11/site-packages/tifffile/tifffile.py:9550\u001b[0m, in \u001b[0;36mFileHandle.open\u001b[0;34m(self)\u001b[0m\n\u001b[1;32m   9548\u001b[0m \u001b[38;5;28mself\u001b[39m\u001b[38;5;241m.\u001b[39m_file \u001b[38;5;241m=\u001b[39m os\u001b[38;5;241m.\u001b[39mpath\u001b[38;5;241m.\u001b[39mrealpath(\u001b[38;5;28mself\u001b[39m\u001b[38;5;241m.\u001b[39m_file)\n\u001b[1;32m   9549\u001b[0m \u001b[38;5;28mself\u001b[39m\u001b[38;5;241m.\u001b[39m_dir, \u001b[38;5;28mself\u001b[39m\u001b[38;5;241m.\u001b[39m_name \u001b[38;5;241m=\u001b[39m os\u001b[38;5;241m.\u001b[39mpath\u001b[38;5;241m.\u001b[39msplit(\u001b[38;5;28mself\u001b[39m\u001b[38;5;241m.\u001b[39m_file)\n\u001b[0;32m-> 9550\u001b[0m \u001b[38;5;28mself\u001b[39m\u001b[38;5;241m.\u001b[39m_fh \u001b[38;5;241m=\u001b[39m \u001b[38;5;28mopen\u001b[39m(\u001b[38;5;28mself\u001b[39m\u001b[38;5;241m.\u001b[39m_file, \u001b[38;5;28mself\u001b[39m\u001b[38;5;241m.\u001b[39m_mode)\n\u001b[1;32m   9551\u001b[0m \u001b[38;5;28mself\u001b[39m\u001b[38;5;241m.\u001b[39m_close \u001b[38;5;241m=\u001b[39m \u001b[38;5;28;01mTrue\u001b[39;00m\n\u001b[1;32m   9552\u001b[0m \u001b[38;5;28;01mif\u001b[39;00m \u001b[38;5;28mself\u001b[39m\u001b[38;5;241m.\u001b[39m_offset \u001b[38;5;129;01mis\u001b[39;00m \u001b[38;5;28;01mNone\u001b[39;00m:\n",
      "\u001b[0;31mFileNotFoundError\u001b[0m: [Errno 2] No such file or directory: '/Users/ranit/Research/github/GBI-Python-2025/course_material/06182025_day3/cell_image.tif'"
     ]
    }
   ],
   "source": [
    "import numpy as np\n",
    "import matplotlib.pyplot as plt\n",
    "from skimage.io import imread\n",
    "\n",
    "# Load grayscale image and masks\n",
    "image = imread(\"cell_image.tif\")\n",
    "gt_mask = imread(\"ground_truth_mask.tif\") > 0\n",
    "pred_mask = imread(\"predicted_mask.tif\") > 0\n",
    "\n",
    "# Overlay visualization\n",
    "def show_overlay(image, gt, pred):\n",
    "    overlay = np.zeros((*image.shape, 3))\n",
    "    overlay[..., 0] = np.where(pred, 1.0, 0.0)   # Red: prediction\n",
    "    overlay[..., 1] = np.where(gt, 1.0, 0.0)     # Green: ground truth\n",
    "    overlay[..., 2] = image / image.max()        # Blue: background image\n",
    "\n",
    "    plt.figure(figsize=(6, 6))\n",
    "    plt.imshow(overlay)\n",
    "    plt.title(\"Overlay: Green=GT, Red=Prediction, Yellow=Overlap\")\n",
    "    plt.axis('off')\n",
    "    plt.show()\n",
    "\n",
    "show_overlay(image, gt_mask, pred_mask)"
   ]
  },
  {
   "cell_type": "markdown",
   "metadata": {},
   "source": [
    "### Exercise\n",
    "Use a sample image and:\n",
    "- Overlay your segmentation result.\n",
    "- Identify 3 major areas of mismatch (e.g., false positives or false negatives).\n",
    "- Take a screenshot and write down your observations."
   ]
  },
  {
   "cell_type": "markdown",
   "metadata": {},
   "source": [
    "---\n",
    "## Quantitative Metrics – Dice Score and IoU\n",
    "### Dice Coefficient (Dice Score)\n",
    "\n",
    "The Dice coefficient is a measure of overlap between two binary masks:\n",
    "\n",
    "$$\n",
    "\\text{Dice}(A, B) = \\frac{2 \\times |A \\cap B|}{|A| + |B|}\n",
    "$$\n",
    "\n",
    "Where:\n",
    "- $( A )$: Ground truth mask (binary)\n",
    "- $( B )$: Predicted mask (binary)\n",
    "- $( |A \\cap B| )$: Number of overlapping pixels between A and B (true positives)\n",
    "- $( |A| )$: Number of pixels in ground truth\n",
    "- $( |B| )$: Number of pixels in prediction\n",
    "\n",
    "---\n",
    "\n",
    "### Intersection over Union (IoU or Jaccard Index)\n",
    "\n",
    "IoU measures the proportion of the intersection area over the union area:\n",
    "\n",
    "$$\n",
    "\\text{IoU}(A, B) = \\frac{|A \\cap B|}{|A \\cup B|}\n",
    "$$\n",
    "\n",
    "Where:\n",
    "- $( |A \\cup B| = |A| + |B| - |A \\cap B| )$\n",
    "\n",
    "---\n",
    "\n",
    "### Relationship Between Dice and IoU\n",
    "\n",
    "$$\n",
    "\\text{Dice} = \\frac{2 \\cdot \\text{IoU}}{1 + \\text{IoU}}\n",
    "$$\n",
    "\n",
    "This shows that Dice and IoU are mathematically related and often behave similarly in practice.\n",
    "\n",
    "High values (close to 1) mean better segmentation.\n",
    "\n",
    "Dice is more sensitive to overlap, while IoU is stricter."
   ]
  },
  {
   "cell_type": "markdown",
   "metadata": {},
   "source": [
    "### Hands-on Coding"
   ]
  },
  {
   "cell_type": "code",
   "execution_count": null,
   "metadata": {
    "vscode": {
     "languageId": "plaintext"
    }
   },
   "outputs": [],
   "source": [
    "def dice_score(gt, pred):\n",
    "    intersection = np.logical_and(gt, pred).sum()\n",
    "    return 2 * intersection / (gt.sum() + pred.sum())\n",
    "\n",
    "def iou_score(gt, pred):\n",
    "    intersection = np.logical_and(gt, pred).sum()\n",
    "    union = np.logical_or(gt, pred).sum()\n",
    "    return intersection / union\n",
    "\n",
    "# Compute scores\n",
    "dice = dice_score(gt_mask, pred_mask)\n",
    "iou = iou_score(gt_mask, pred_mask)\n",
    "\n",
    "print(f\"Dice Score: {dice:.3f}\")\n",
    "print(f\"IoU Score: {iou:.3f}\")"
   ]
  },
  {
   "cell_type": "markdown",
   "metadata": {},
   "source": [
    "### Exercise\n",
    "- Load any two masks (ground truth and prediction).\n",
    "- Compute Dice and IoU scores.\n",
    "- Compare how much they differ.\n",
    "- Change one object in the predicted mask and observe how the scores change."
   ]
  },
  {
   "cell_type": "markdown",
   "metadata": {},
   "source": [
    "---\n",
    "## Mini Project: Evaluate Segmentation on a Dataset\n",
    "**Goal:**\n",
    "Given a folder with:\n",
    "- Original images\n",
    "- Ground truth masks\n",
    "- Predicted masks\n",
    "\n",
    "**Tasks:**\n",
    "- Visual inspection for 3 samples (with overlays)\n",
    "- Compute Dice and IoU scores for all samples\n",
    "- Save results to a CSV file\n",
    "\n",
    "**Summarize:** Which images had the worst performance and why?"
   ]
  },
  {
   "cell_type": "code",
   "execution_count": null,
   "metadata": {
    "tags": [
     "hide-cell"
    ],
    "vscode": {
     "languageId": "plaintext"
    }
   },
   "outputs": [],
   "source": [
    "import os\n",
    "import pandas as pd\n",
    "\n",
    "image_dir = \"dataset/images/\"\n",
    "gt_dir = \"dataset/ground_truth/\"\n",
    "pred_dir = \"dataset/predictions/\"\n",
    "\n",
    "results = []\n",
    "\n",
    "for fname in os.listdir(gt_dir):\n",
    "    gt = imread(os.path.join(gt_dir, fname)) > 0\n",
    "    pred = imread(os.path.join(pred_dir, fname)) > 0\n",
    "    \n",
    "    dice = dice_score(gt, pred)\n",
    "    iou = iou_score(gt, pred)\n",
    "    \n",
    "    results.append({\"filename\": fname, \"dice\": dice, \"iou\": iou})\n",
    "\n",
    "df = pd.DataFrame(results)\n",
    "df.to_csv(\"segmentation_evaluation.csv\", index=False)\n",
    "print(df.sort_values(by=\"dice\"))"
   ]
  },
  {
   "cell_type": "markdown",
   "metadata": {},
   "source": [
    "---\n",
    "## Module Summary\n",
    "| Concept             | What You Learned                                                           |\n",
    "| ------------------- | -------------------------------------------------------------------------- |\n",
    "| Visual Inspection   | Overlay GT and predicted masks to identify mismatches visually             |\n",
    "| Dice Score          | Measures similarity (focus on overlap); good for imbalanced objects        |\n",
    "| IoU (Jaccard)       | Measures strict overlap; lower tolerance to false positives                |\n",
    "| Hands-on Evaluation | Use Python to load masks, compute scores, and generate overlays            |\n",
    "| Mini Project        | Combine visual + quantitative evaluations to identify segmentation quality |\n"
   ]
  },
  {
   "cell_type": "markdown",
   "metadata": {},
   "source": []
  }
 ],
 "metadata": {
  "language_info": {
   "codemirror_mode": {
    "name": "ipython",
    "version": 3
   },
   "file_extension": ".py",
   "mimetype": "text/x-python",
   "name": "python",
   "nbconvert_exporter": "python",
   "pygments_lexer": "ipython3",
   "version": "3.11.4"
  }
 },
 "nbformat": 4,
 "nbformat_minor": 2
}