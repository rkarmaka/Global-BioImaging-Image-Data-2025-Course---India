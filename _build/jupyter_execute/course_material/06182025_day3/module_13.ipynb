{
 "cells": [
  {
   "cell_type": "markdown",
   "metadata": {},
   "source": [
    "# Cellpose for Segmentation"
   ]
  },
  {
   "cell_type": "markdown",
   "metadata": {},
   "source": [
    "---\n",
    "## Learning Objectives\n",
    "By the end of this module, learners will be able to:\n",
    "- Understand what Cellpose is and why it’s useful in bioimage analysis.\n",
    "- Load images and select the correct Cellpose model and parameters.\n",
    "- Run segmentation using Cellpose and visualize the results.\n",
    "- Avoid common pitfalls when using Cellpose.\n",
    "- Apply their knowledge in a small project to segment real-world biological images."
   ]
  },
  {
   "cell_type": "markdown",
   "metadata": {},
   "source": [
    "---\n",
    "## Cellpose\n",
    "**What is Cellpose?**\n",
    "**Cellpose** is a generalist, deep learning-based segmentation algorithm trained on various types of microscopy images. It works out of the box for many biological datasets without retraining. It supports:\n",
    "- 2D and 3D segmentation\n",
    "- Pretrained models for nuclei, cells (cytoplasm), bacteria, and more\n",
    "- Both GUI and Python API usage\n",
    "\n",
    "**Why it matters?**\n",
    "- Traditional segmentation (e.g., thresholding or watershed) often fails on complex or noisy images.\n",
    "- Cellpose leverages deep learning to segment cells even in challenging conditions, making it ideal for non-programmers and programmers alike.\n",
    "\n",
    "### Hands-On Coding"
   ]
  },
  {
   "cell_type": "code",
   "execution_count": 1,
   "metadata": {
    "vscode": {
     "languageId": "plaintext"
    }
   },
   "outputs": [
    {
     "name": "stdout",
     "output_type": "stream",
     "text": [
      "zsh:1: no matches found: cellpose[all]\r\n"
     ]
    }
   ],
   "source": [
    "# Install Cellpose if not already done\n",
    "!pip install cellpose[all]\n"
   ]
  },
  {
   "cell_type": "code",
   "execution_count": 2,
   "metadata": {
    "vscode": {
     "languageId": "plaintext"
    }
   },
   "outputs": [
    {
     "ename": "ModuleNotFoundError",
     "evalue": "No module named 'cellpose'",
     "output_type": "error",
     "traceback": [
      "\u001b[31m---------------------------------------------------------------------------\u001b[39m",
      "\u001b[31mModuleNotFoundError\u001b[39m                       Traceback (most recent call last)",
      "\u001b[36mCell\u001b[39m\u001b[36m \u001b[39m\u001b[32mIn[2]\u001b[39m\u001b[32m, line 2\u001b[39m\n\u001b[32m      1\u001b[39m \u001b[38;5;66;03m# Import dependencies\u001b[39;00m\n\u001b[32m----> \u001b[39m\u001b[32m2\u001b[39m \u001b[38;5;28;01mfrom\u001b[39;00m\u001b[38;5;250m \u001b[39m\u001b[34;01mcellpose\u001b[39;00m\u001b[38;5;250m \u001b[39m\u001b[38;5;28;01mimport\u001b[39;00m models, io\n\u001b[32m      3\u001b[39m \u001b[38;5;28;01mimport\u001b[39;00m\u001b[38;5;250m \u001b[39m\u001b[34;01mmatplotlib\u001b[39;00m\u001b[34;01m.\u001b[39;00m\u001b[34;01mpyplot\u001b[39;00m\u001b[38;5;250m \u001b[39m\u001b[38;5;28;01mas\u001b[39;00m\u001b[38;5;250m \u001b[39m\u001b[34;01mplt\u001b[39;00m\n\u001b[32m      4\u001b[39m \u001b[38;5;28;01mimport\u001b[39;00m\u001b[38;5;250m \u001b[39m\u001b[34;01mnumpy\u001b[39;00m\u001b[38;5;250m \u001b[39m\u001b[38;5;28;01mas\u001b[39;00m\u001b[38;5;250m \u001b[39m\u001b[34;01mnp\u001b[39;00m\n",
      "\u001b[31mModuleNotFoundError\u001b[39m: No module named 'cellpose'"
     ]
    }
   ],
   "source": [
    "# Import dependencies\n",
    "from cellpose import models, io\n",
    "import matplotlib.pyplot as plt\n",
    "import numpy as np\n",
    "from skimage.io import imread"
   ]
  },
  {
   "cell_type": "markdown",
   "metadata": {},
   "source": [
    "### Exercise\n",
    "- What kind of images might benefit from Cellpose segmentation?\n",
    "- Compare a threshold-based method to Cellpose (briefly, using napari if desired)."
   ]
  },
  {
   "cell_type": "markdown",
   "metadata": {},
   "source": [
    "---\n",
    "## How to Use Cellpose – Inputs, Model Types, Parameters\n",
    "**Inputs:** Single images or folders of .tif, .png, or .jpg images\n",
    "\n",
    "**Models:**\n",
    "- `cyto`: Cytoplasm\n",
    "- `nuclei`: Nuclei\n",
    "- `bact`: Bacteria (newer versions)\n",
    "\n",
    "**Key Parameters:**\n",
    "- `diameter`: Approximate object size (set to 0 for automatic estimation)\n",
    "- `channels`: [cytoplasm_channel, nucleus_channel]\n",
    "- `flow_threshold` and `cellprob_threshold`: Influence mask quality and confidence\n",
    "\n",
    "### Hands-On Coding"
   ]
  },
  {
   "cell_type": "markdown",
   "metadata": {},
   "source": []
  },
  {
   "cell_type": "code",
   "execution_count": null,
   "metadata": {
    "vscode": {
     "languageId": "plaintext"
    }
   },
   "outputs": [],
   "source": [
    "# Load image\n",
    "image = imread('cell_image.tif')\n",
    "\n",
    "# Create model\n",
    "model = models.Cellpose(gpu=False, model_type='cyto')\n",
    "\n",
    "# Run segmentation\n",
    "masks, flows, styles, diams = model.eval(image, diameter=0, channels=[0, 0])\n",
    "\n",
    "# Visualize\n",
    "io.masks_flows_to_seg(image, masks, flows, diams)"
   ]
  },
  {
   "cell_type": "markdown",
   "metadata": {},
   "source": [
    "### Exercise\n",
    "- Try segmenting a nucleus image with `model_type='nuclei'`.\n",
    "- Try changing diameter and see the effects."
   ]
  },
  {
   "cell_type": "markdown",
   "metadata": {},
   "source": [
    "---\n",
    "## Run Segmentation & Visualize Results\n",
    "\n",
    "**The output of Cellpose includes:**\n",
    "- `masks`: Segmented objects\n",
    "- `flows`: Internal representation of object movement during mask generation\n",
    "- `diams`: Estimated object sizes\n",
    "\n",
    "**Visualization tools:**\n",
    "- Napari (interactive)\n",
    "- matplotlib (static plots)\n",
    "- Cellpose GUI\n",
    "\n",
    "### Hands-On Coding"
   ]
  },
  {
   "cell_type": "code",
   "execution_count": null,
   "metadata": {
    "vscode": {
     "languageId": "plaintext"
    }
   },
   "outputs": [],
   "source": [
    "import matplotlib.pyplot as plt\n",
    "\n",
    "plt.figure(figsize=(10, 5))\n",
    "plt.subplot(1, 2, 1)\n",
    "plt.imshow(image, cmap='gray')\n",
    "plt.title(\"Original Image\")\n",
    "\n",
    "plt.subplot(1, 2, 2)\n",
    "plt.imshow(masks, cmap='jet')\n",
    "plt.title(\"Cellpose Segmentation\")\n",
    "plt.show()"
   ]
  },
  {
   "cell_type": "markdown",
   "metadata": {},
   "source": [
    "### Exercise\n",
    "- Try visualizing masks overlaid on the original image.\n",
    "- Color-code different cells."
   ]
  },
  {
   "cell_type": "markdown",
   "metadata": {},
   "source": [
    "---\n",
    "## Tips and Common Pitfalls\n",
    "**Tips:**\n",
    "- Use automatic diameter estimation unless you know the object size.\n",
    "- Try different model types if default fails.\n",
    "- Crop the image to test faster.\n",
    "\n",
    "**Common Pitfalls:**\n",
    "- Wrong channel settings (e.g., using RGB images without setting channels right)\n",
    "- Very large images can crash; downsample if needed\n",
    "- Don’t over-trust results – visually inspect masks\n",
    "\n",
    "### Hands-On Coding"
   ]
  },
  {
   "cell_type": "code",
   "execution_count": null,
   "metadata": {
    "vscode": {
     "languageId": "plaintext"
    }
   },
   "outputs": [],
   "source": [
    "# Example: downsampling image\n",
    "from skimage.transform import rescale\n",
    "\n",
    "small_image = rescale(image, 0.5, anti_aliasing=True)\n",
    "masks_small, *_ = model.eval(small_image, diameter=0, channels=[0, 0])"
   ]
  },
  {
   "cell_type": "markdown",
   "metadata": {},
   "source": [
    "### Exercise\n",
    "- Try segmenting with incorrect channels and observe the result.\n",
    "- Run Cellpose on a small crop and compare with full image segmentation."
   ]
  },
  {
   "cell_type": "markdown",
   "metadata": {},
   "source": [
    "---\n",
    "## Mini Project: Segment Your Own Microscopy Image\n",
    "**Goal:** Apply Cellpose to segment nuclei or cells in a microscopy image of your choice and evaluate the output quality.\n",
    "\n",
    "**Instructions:**\n",
    "- Choose a .tif or .png image from your dataset.\n",
    "- Decide on the model type (cyto or nuclei).\n",
    "- Run segmentation using appropriate parameters.\n",
    "- Visualize the original + mask.\n",
    "\n",
    "**Reflect on:**\n",
    "1. Was the segmentation accurate?\n",
    "2. Which parameter changes improved results?\n",
    "3. Would you trust these results for quantification?"
   ]
  },
  {
   "cell_type": "markdown",
   "metadata": {},
   "source": [
    "---\n",
    "## Module Summary\n",
    "| Topic                     | Key Takeaways                                                     |\n",
    "| ------------------------- | ----------------------------------------------------------------- |\n",
    "| What is Cellpose?         | A generalist deep learning model for cell/nucleus segmentation    |\n",
    "| Input, Models, Parameters | Choose correct model, tune `diameter` and `channels`              |\n",
    "| Running & Visualizing     | Use Python or GUI, visualize with `matplotlib` or Napari          |\n",
    "| Tips & Pitfalls           | Check channels, start with small crops, validate visually         |\n",
    "| Mini Project              | Apply on real image, tune parameters, assess segmentation quality |\n"
   ]
  },
  {
   "cell_type": "markdown",
   "metadata": {},
   "source": []
  }
 ],
 "metadata": {
  "language_info": {
   "codemirror_mode": {
    "name": "ipython",
    "version": 3
   },
   "file_extension": ".py",
   "mimetype": "text/x-python",
   "name": "python",
   "nbconvert_exporter": "python",
   "pygments_lexer": "ipython3",
   "version": "3.13.0"
  }
 },
 "nbformat": 4,
 "nbformat_minor": 2
}