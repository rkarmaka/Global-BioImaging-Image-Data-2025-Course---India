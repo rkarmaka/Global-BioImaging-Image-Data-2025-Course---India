{
 "cells": [
  {
   "cell_type": "markdown",
   "metadata": {},
   "source": [
    "# Cellpose for Segmentation"
   ]
  },
  {
   "cell_type": "markdown",
   "metadata": {},
   "source": [
    "---\n",
    "## Learning Objectives\n",
    "By the end of this module, learners will be able to:\n",
    "- Understand what Cellpose is and why it’s useful in bioimage analysis.\n",
    "- Load images and select the correct Cellpose model and parameters.\n",
    "- Run segmentation using Cellpose and visualize the results.\n",
    "- Avoid common pitfalls when using Cellpose.\n",
    "- Apply their knowledge in a small project to segment real-world biological images."
   ]
  },
  {
   "cell_type": "markdown",
   "metadata": {},
   "source": [
    "---\n",
    "## Cellpose\n",
    "**What is Cellpose?**\n",
    "**Cellpose** is a generalist, deep learning-based segmentation algorithm trained on various types of microscopy images. It works out of the box for many biological datasets without retraining. It supports:\n",
    "- 2D and 3D segmentation\n",
    "- Pretrained models for nuclei, cells (cytoplasm), bacteria, and more\n",
    "- Both GUI and Python API usage\n",
    "\n",
    "**Why it matters?**\n",
    "- Traditional segmentation (e.g., thresholding or watershed) often fails on complex or noisy images.\n",
    "- Cellpose leverages deep learning to segment cells even in challenging conditions, making it ideal for non-programmers and programmers alike.\n",
    "\n",
    "### Hands-On Coding"
   ]
  },
  {
   "cell_type": "code",
   "execution_count": 1,
   "metadata": {
    "vscode": {
     "languageId": "plaintext"
    }
   },
   "outputs": [
    {
     "name": "stdout",
     "output_type": "stream",
     "text": [
      "zsh:1: no matches found: cellpose[all]\r\n"
     ]
    }
   ],
   "source": [
    "# Install Cellpose if not already done\n",
    "!pip install cellpose[all]\n"
   ]
  },
  {
   "cell_type": "code",
   "execution_count": 2,
   "metadata": {
    "vscode": {
     "languageId": "plaintext"
    }
   },
   "outputs": [
    {
     "name": "stdout",
     "output_type": "stream",
     "text": [
      "\n",
      "\n",
      "Welcome to CellposeSAM, cellpose v\n",
      "cellpose version: \t4.0.5.dev23+g15eb3c6 \n",
      "platform:       \tdarwin \n",
      "python version: \t3.11.4 \n",
      "torch version:  \t2.7.1! The neural network component of\n",
      "CPSAM is much larger than in previous versions and CPU excution is slow. \n",
      "We encourage users to use GPU/MPS if available. \n",
      "\n",
      "\n"
     ]
    }
   ],
   "source": [
    "# Import dependencies\n",
    "from cellpose import models, io\n",
    "import matplotlib.pyplot as plt\n",
    "import numpy as np\n",
    "from skimage.io import imread"
   ]
  },
  {
   "cell_type": "markdown",
   "metadata": {},
   "source": [
    "### Exercise\n",
    "- What kind of images might benefit from Cellpose segmentation?\n",
    "- Compare a threshold-based method to Cellpose (briefly, using napari if desired)."
   ]
  },
  {
   "cell_type": "markdown",
   "metadata": {},
   "source": [
    "---\n",
    "## How to Use Cellpose – Inputs, Model Types, Parameters\n",
    "**Inputs:** Single images or folders of .tif, .png, or .jpg images\n",
    "\n",
    "**Models:**\n",
    "- `cyto`: Cytoplasm\n",
    "- `nuclei`: Nuclei\n",
    "- `bact`: Bacteria (newer versions)\n",
    "\n",
    "**Key Parameters:**\n",
    "- `diameter`: Approximate object size (set to 0 for automatic estimation)\n",
    "- `channels`: [cytoplasm_channel, nucleus_channel]\n",
    "- `flow_threshold` and `cellprob_threshold`: Influence mask quality and confidence\n",
    "\n",
    "### Hands-On Coding"
   ]
  },
  {
   "cell_type": "markdown",
   "metadata": {},
   "source": []
  },
  {
   "cell_type": "code",
   "execution_count": 3,
   "metadata": {
    "vscode": {
     "languageId": "plaintext"
    }
   },
   "outputs": [
    {
     "ename": "FileNotFoundError",
     "evalue": "[Errno 2] No such file or directory: '/Users/ranit/Research/github/GBI-Python-2025/course_material/06182025_day3/cell_image.tif'",
     "output_type": "error",
     "traceback": [
      "\u001b[0;31m---------------------------------------------------------------------------\u001b[0m",
      "\u001b[0;31mFileNotFoundError\u001b[0m                         Traceback (most recent call last)",
      "Cell \u001b[0;32mIn[3], line 2\u001b[0m\n\u001b[1;32m      1\u001b[0m \u001b[38;5;66;03m# Load image\u001b[39;00m\n\u001b[0;32m----> 2\u001b[0m image \u001b[38;5;241m=\u001b[39m imread(\u001b[38;5;124m'\u001b[39m\u001b[38;5;124mcell_image.tif\u001b[39m\u001b[38;5;124m'\u001b[39m)\n\u001b[1;32m      4\u001b[0m \u001b[38;5;66;03m# Create model\u001b[39;00m\n\u001b[1;32m      5\u001b[0m model \u001b[38;5;241m=\u001b[39m models\u001b[38;5;241m.\u001b[39mCellpose(gpu\u001b[38;5;241m=\u001b[39m\u001b[38;5;28;01mFalse\u001b[39;00m, model_type\u001b[38;5;241m=\u001b[39m\u001b[38;5;124m'\u001b[39m\u001b[38;5;124mcyto\u001b[39m\u001b[38;5;124m'\u001b[39m)\n",
      "File \u001b[0;32m~/anaconda3/lib/python3.11/site-packages/skimage/io/_io.py:53\u001b[0m, in \u001b[0;36mimread\u001b[0;34m(fname, as_gray, plugin, **plugin_args)\u001b[0m\n\u001b[1;32m     50\u001b[0m         plugin \u001b[38;5;241m=\u001b[39m \u001b[38;5;124m'\u001b[39m\u001b[38;5;124mtifffile\u001b[39m\u001b[38;5;124m'\u001b[39m\n\u001b[1;32m     52\u001b[0m \u001b[38;5;28;01mwith\u001b[39;00m file_or_url_context(fname) \u001b[38;5;28;01mas\u001b[39;00m fname:\n\u001b[0;32m---> 53\u001b[0m     img \u001b[38;5;241m=\u001b[39m call_plugin(\u001b[38;5;124m'\u001b[39m\u001b[38;5;124mimread\u001b[39m\u001b[38;5;124m'\u001b[39m, fname, plugin\u001b[38;5;241m=\u001b[39mplugin, \u001b[38;5;241m*\u001b[39m\u001b[38;5;241m*\u001b[39mplugin_args)\n\u001b[1;32m     55\u001b[0m \u001b[38;5;28;01mif\u001b[39;00m \u001b[38;5;129;01mnot\u001b[39;00m \u001b[38;5;28mhasattr\u001b[39m(img, \u001b[38;5;124m'\u001b[39m\u001b[38;5;124mndim\u001b[39m\u001b[38;5;124m'\u001b[39m):\n\u001b[1;32m     56\u001b[0m     \u001b[38;5;28;01mreturn\u001b[39;00m img\n",
      "File \u001b[0;32m~/anaconda3/lib/python3.11/site-packages/skimage/io/manage_plugins.py:205\u001b[0m, in \u001b[0;36mcall_plugin\u001b[0;34m(kind, *args, **kwargs)\u001b[0m\n\u001b[1;32m    202\u001b[0m     \u001b[38;5;28;01mexcept\u001b[39;00m \u001b[38;5;167;01mIndexError\u001b[39;00m:\n\u001b[1;32m    203\u001b[0m         \u001b[38;5;28;01mraise\u001b[39;00m \u001b[38;5;167;01mRuntimeError\u001b[39;00m(\u001b[38;5;124mf\u001b[39m\u001b[38;5;124m'\u001b[39m\u001b[38;5;124mCould not find the plugin \u001b[39m\u001b[38;5;124m\"\u001b[39m\u001b[38;5;132;01m{\u001b[39;00mplugin\u001b[38;5;132;01m}\u001b[39;00m\u001b[38;5;124m\"\u001b[39m\u001b[38;5;124m for \u001b[39m\u001b[38;5;132;01m{\u001b[39;00mkind\u001b[38;5;132;01m}\u001b[39;00m\u001b[38;5;124m.\u001b[39m\u001b[38;5;124m'\u001b[39m)\n\u001b[0;32m--> 205\u001b[0m \u001b[38;5;28;01mreturn\u001b[39;00m func(\u001b[38;5;241m*\u001b[39margs, \u001b[38;5;241m*\u001b[39m\u001b[38;5;241m*\u001b[39mkwargs)\n",
      "File \u001b[0;32m~/anaconda3/lib/python3.11/site-packages/skimage/io/_plugins/tifffile_plugin.py:74\u001b[0m, in \u001b[0;36mimread\u001b[0;34m(fname, **kwargs)\u001b[0m\n\u001b[1;32m     71\u001b[0m \u001b[38;5;28;01mif\u001b[39;00m \u001b[38;5;124m'\u001b[39m\u001b[38;5;124mimg_num\u001b[39m\u001b[38;5;124m'\u001b[39m \u001b[38;5;129;01min\u001b[39;00m kwargs:\n\u001b[1;32m     72\u001b[0m     kwargs[\u001b[38;5;124m'\u001b[39m\u001b[38;5;124mkey\u001b[39m\u001b[38;5;124m'\u001b[39m] \u001b[38;5;241m=\u001b[39m kwargs\u001b[38;5;241m.\u001b[39mpop(\u001b[38;5;124m'\u001b[39m\u001b[38;5;124mimg_num\u001b[39m\u001b[38;5;124m'\u001b[39m)\n\u001b[0;32m---> 74\u001b[0m \u001b[38;5;28;01mreturn\u001b[39;00m tifffile_imread(fname, \u001b[38;5;241m*\u001b[39m\u001b[38;5;241m*\u001b[39mkwargs)\n",
      "File \u001b[0;32m~/anaconda3/lib/python3.11/site-packages/tifffile/tifffile.py:816\u001b[0m, in \u001b[0;36mimread\u001b[0;34m(files, aszarr, **kwargs)\u001b[0m\n\u001b[1;32m    813\u001b[0m     files \u001b[38;5;241m=\u001b[39m files[\u001b[38;5;241m0\u001b[39m]\n\u001b[1;32m    815\u001b[0m \u001b[38;5;28;01mif\u001b[39;00m \u001b[38;5;28misinstance\u001b[39m(files, (\u001b[38;5;28mstr\u001b[39m, os\u001b[38;5;241m.\u001b[39mPathLike)) \u001b[38;5;129;01mor\u001b[39;00m \u001b[38;5;28mhasattr\u001b[39m(files, \u001b[38;5;124m'\u001b[39m\u001b[38;5;124mseek\u001b[39m\u001b[38;5;124m'\u001b[39m):\n\u001b[0;32m--> 816\u001b[0m     \u001b[38;5;28;01mwith\u001b[39;00m TiffFile(files, \u001b[38;5;241m*\u001b[39m\u001b[38;5;241m*\u001b[39mkwargs_file) \u001b[38;5;28;01mas\u001b[39;00m tif:\n\u001b[1;32m    817\u001b[0m         \u001b[38;5;28;01mif\u001b[39;00m aszarr:\n\u001b[1;32m    818\u001b[0m             \u001b[38;5;28;01mreturn\u001b[39;00m tif\u001b[38;5;241m.\u001b[39maszarr(\u001b[38;5;241m*\u001b[39m\u001b[38;5;241m*\u001b[39mkwargs)\n",
      "File \u001b[0;32m~/anaconda3/lib/python3.11/site-packages/tifffile/tifffile.py:3000\u001b[0m, in \u001b[0;36mTiffFile.__init__\u001b[0;34m(self, arg, mode, name, offset, size, _multifile, _useframes, _master, **kwargs)\u001b[0m\n\u001b[1;32m   2997\u001b[0m \u001b[38;5;28;01mif\u001b[39;00m mode \u001b[38;5;129;01mnot\u001b[39;00m \u001b[38;5;129;01min\u001b[39;00m (\u001b[38;5;28;01mNone\u001b[39;00m, \u001b[38;5;124m'\u001b[39m\u001b[38;5;124mrb\u001b[39m\u001b[38;5;124m'\u001b[39m, \u001b[38;5;124m'\u001b[39m\u001b[38;5;124mr+b\u001b[39m\u001b[38;5;124m'\u001b[39m):\n\u001b[1;32m   2998\u001b[0m     \u001b[38;5;28;01mraise\u001b[39;00m \u001b[38;5;167;01mValueError\u001b[39;00m(\u001b[38;5;124mf\u001b[39m\u001b[38;5;124m'\u001b[39m\u001b[38;5;124minvalid mode \u001b[39m\u001b[38;5;132;01m{\u001b[39;00mmode\u001b[38;5;132;01m!r}\u001b[39;00m\u001b[38;5;124m'\u001b[39m)\n\u001b[0;32m-> 3000\u001b[0m fh \u001b[38;5;241m=\u001b[39m FileHandle(arg, mode\u001b[38;5;241m=\u001b[39mmode, name\u001b[38;5;241m=\u001b[39mname, offset\u001b[38;5;241m=\u001b[39moffset, size\u001b[38;5;241m=\u001b[39msize)\n\u001b[1;32m   3001\u001b[0m \u001b[38;5;28mself\u001b[39m\u001b[38;5;241m.\u001b[39m_fh \u001b[38;5;241m=\u001b[39m fh\n\u001b[1;32m   3002\u001b[0m \u001b[38;5;28mself\u001b[39m\u001b[38;5;241m.\u001b[39m_multifile \u001b[38;5;241m=\u001b[39m \u001b[38;5;28mbool\u001b[39m(_multifile)\n",
      "File \u001b[0;32m~/anaconda3/lib/python3.11/site-packages/tifffile/tifffile.py:9537\u001b[0m, in \u001b[0;36mFileHandle.__init__\u001b[0;34m(self, file, mode, name, offset, size)\u001b[0m\n\u001b[1;32m   9535\u001b[0m \u001b[38;5;28mself\u001b[39m\u001b[38;5;241m.\u001b[39mis_file \u001b[38;5;241m=\u001b[39m \u001b[38;5;28;01mNone\u001b[39;00m\n\u001b[1;32m   9536\u001b[0m \u001b[38;5;28mself\u001b[39m\u001b[38;5;241m.\u001b[39m_lock \u001b[38;5;241m=\u001b[39m NullContext()\n\u001b[0;32m-> 9537\u001b[0m \u001b[38;5;28mself\u001b[39m\u001b[38;5;241m.\u001b[39mopen()\n",
      "File \u001b[0;32m~/anaconda3/lib/python3.11/site-packages/tifffile/tifffile.py:9550\u001b[0m, in \u001b[0;36mFileHandle.open\u001b[0;34m(self)\u001b[0m\n\u001b[1;32m   9548\u001b[0m \u001b[38;5;28mself\u001b[39m\u001b[38;5;241m.\u001b[39m_file \u001b[38;5;241m=\u001b[39m os\u001b[38;5;241m.\u001b[39mpath\u001b[38;5;241m.\u001b[39mrealpath(\u001b[38;5;28mself\u001b[39m\u001b[38;5;241m.\u001b[39m_file)\n\u001b[1;32m   9549\u001b[0m \u001b[38;5;28mself\u001b[39m\u001b[38;5;241m.\u001b[39m_dir, \u001b[38;5;28mself\u001b[39m\u001b[38;5;241m.\u001b[39m_name \u001b[38;5;241m=\u001b[39m os\u001b[38;5;241m.\u001b[39mpath\u001b[38;5;241m.\u001b[39msplit(\u001b[38;5;28mself\u001b[39m\u001b[38;5;241m.\u001b[39m_file)\n\u001b[0;32m-> 9550\u001b[0m \u001b[38;5;28mself\u001b[39m\u001b[38;5;241m.\u001b[39m_fh \u001b[38;5;241m=\u001b[39m \u001b[38;5;28mopen\u001b[39m(\u001b[38;5;28mself\u001b[39m\u001b[38;5;241m.\u001b[39m_file, \u001b[38;5;28mself\u001b[39m\u001b[38;5;241m.\u001b[39m_mode)\n\u001b[1;32m   9551\u001b[0m \u001b[38;5;28mself\u001b[39m\u001b[38;5;241m.\u001b[39m_close \u001b[38;5;241m=\u001b[39m \u001b[38;5;28;01mTrue\u001b[39;00m\n\u001b[1;32m   9552\u001b[0m \u001b[38;5;28;01mif\u001b[39;00m \u001b[38;5;28mself\u001b[39m\u001b[38;5;241m.\u001b[39m_offset \u001b[38;5;129;01mis\u001b[39;00m \u001b[38;5;28;01mNone\u001b[39;00m:\n",
      "\u001b[0;31mFileNotFoundError\u001b[0m: [Errno 2] No such file or directory: '/Users/ranit/Research/github/GBI-Python-2025/course_material/06182025_day3/cell_image.tif'"
     ]
    }
   ],
   "source": [
    "# Load image\n",
    "image = imread('cell_image.tif')\n",
    "\n",
    "# Create model\n",
    "model = models.Cellpose(gpu=False, model_type='cyto')\n",
    "\n",
    "# Run segmentation\n",
    "masks, flows, styles, diams = model.eval(image, diameter=0, channels=[0, 0])\n",
    "\n",
    "# Visualize\n",
    "io.masks_flows_to_seg(image, masks, flows, diams)"
   ]
  },
  {
   "cell_type": "markdown",
   "metadata": {},
   "source": [
    "### Exercise\n",
    "- Try segmenting a nucleus image with `model_type='nuclei'`.\n",
    "- Try changing diameter and see the effects."
   ]
  },
  {
   "cell_type": "markdown",
   "metadata": {},
   "source": [
    "---\n",
    "## Run Segmentation & Visualize Results\n",
    "\n",
    "**The output of Cellpose includes:**\n",
    "- `masks`: Segmented objects\n",
    "- `flows`: Internal representation of object movement during mask generation\n",
    "- `diams`: Estimated object sizes\n",
    "\n",
    "**Visualization tools:**\n",
    "- Napari (interactive)\n",
    "- matplotlib (static plots)\n",
    "- Cellpose GUI\n",
    "\n",
    "### Hands-On Coding"
   ]
  },
  {
   "cell_type": "code",
   "execution_count": null,
   "metadata": {
    "vscode": {
     "languageId": "plaintext"
    }
   },
   "outputs": [],
   "source": [
    "import matplotlib.pyplot as plt\n",
    "\n",
    "plt.figure(figsize=(10, 5))\n",
    "plt.subplot(1, 2, 1)\n",
    "plt.imshow(image, cmap='gray')\n",
    "plt.title(\"Original Image\")\n",
    "\n",
    "plt.subplot(1, 2, 2)\n",
    "plt.imshow(masks, cmap='jet')\n",
    "plt.title(\"Cellpose Segmentation\")\n",
    "plt.show()"
   ]
  },
  {
   "cell_type": "markdown",
   "metadata": {},
   "source": [
    "### Exercise\n",
    "- Try visualizing masks overlaid on the original image.\n",
    "- Color-code different cells."
   ]
  },
  {
   "cell_type": "markdown",
   "metadata": {},
   "source": [
    "---\n",
    "## Tips and Common Pitfalls\n",
    "**Tips:**\n",
    "- Use automatic diameter estimation unless you know the object size.\n",
    "- Try different model types if default fails.\n",
    "- Crop the image to test faster.\n",
    "\n",
    "**Common Pitfalls:**\n",
    "- Wrong channel settings (e.g., using RGB images without setting channels right)\n",
    "- Very large images can crash; downsample if needed\n",
    "- Don’t over-trust results – visually inspect masks\n",
    "\n",
    "### Hands-On Coding"
   ]
  },
  {
   "cell_type": "code",
   "execution_count": null,
   "metadata": {
    "vscode": {
     "languageId": "plaintext"
    }
   },
   "outputs": [],
   "source": [
    "# Example: downsampling image\n",
    "from skimage.transform import rescale\n",
    "\n",
    "small_image = rescale(image, 0.5, anti_aliasing=True)\n",
    "masks_small, *_ = model.eval(small_image, diameter=0, channels=[0, 0])"
   ]
  },
  {
   "cell_type": "markdown",
   "metadata": {},
   "source": [
    "### Exercise\n",
    "- Try segmenting with incorrect channels and observe the result.\n",
    "- Run Cellpose on a small crop and compare with full image segmentation."
   ]
  },
  {
   "cell_type": "markdown",
   "metadata": {},
   "source": [
    "---\n",
    "## Mini Project: Segment Your Own Microscopy Image\n",
    "**Goal:** Apply Cellpose to segment nuclei or cells in a microscopy image of your choice and evaluate the output quality.\n",
    "\n",
    "**Instructions:**\n",
    "- Choose a .tif or .png image from your dataset.\n",
    "- Decide on the model type (cyto or nuclei).\n",
    "- Run segmentation using appropriate parameters.\n",
    "- Visualize the original + mask.\n",
    "\n",
    "**Reflect on:**\n",
    "1. Was the segmentation accurate?\n",
    "2. Which parameter changes improved results?\n",
    "3. Would you trust these results for quantification?"
   ]
  },
  {
   "cell_type": "markdown",
   "metadata": {},
   "source": [
    "---\n",
    "## Module Summary\n",
    "| Topic                     | Key Takeaways                                                     |\n",
    "| ------------------------- | ----------------------------------------------------------------- |\n",
    "| What is Cellpose?         | A generalist deep learning model for cell/nucleus segmentation    |\n",
    "| Input, Models, Parameters | Choose correct model, tune `diameter` and `channels`              |\n",
    "| Running & Visualizing     | Use Python or GUI, visualize with `matplotlib` or Napari          |\n",
    "| Tips & Pitfalls           | Check channels, start with small crops, validate visually         |\n",
    "| Mini Project              | Apply on real image, tune parameters, assess segmentation quality |\n"
   ]
  },
  {
   "cell_type": "markdown",
   "metadata": {},
   "source": []
  }
 ],
 "metadata": {
  "language_info": {
   "codemirror_mode": {
    "name": "ipython",
    "version": 3
   },
   "file_extension": ".py",
   "mimetype": "text/x-python",
   "name": "python",
   "nbconvert_exporter": "python",
   "pygments_lexer": "ipython3",
   "version": "3.11.4"
  }
 },
 "nbformat": 4,
 "nbformat_minor": 2
}