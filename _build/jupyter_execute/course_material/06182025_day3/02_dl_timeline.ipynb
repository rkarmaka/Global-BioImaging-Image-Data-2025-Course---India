{
 "cells": [
  {
   "cell_type": "markdown",
   "metadata": {},
   "source": [
    "# A Brief Timeline of Deep Learning"
   ]
  },
  {
   "cell_type": "markdown",
   "metadata": {},
   "source": [
    "This section walks through the evolution of deep learning for image analysis, highlighting how convolutional neural networks (CNNs) became the core of modern segmentation tools. We will cover the key breakthroughs that led to U-Net, and show how specialized tools like StarDist and Cellpose build upon it."
   ]
  },
  {
   "cell_type": "markdown",
   "metadata": {},
   "source": [
    "---\n",
    "\n",
    "## CNN in Practice (2010-)\n",
    "Before CNNs, machine learning in image analysis relied on hand-crafted features. These features were designed manually:\n",
    "\n",
    "- Texture filters\n",
    "- Edge detectors\n",
    "- Shape descriptors\n",
    "\n",
    "This approach had several problems:\n",
    "- Features worked only for certain types of images.\n",
    "- Human intuition was often biased.\n",
    "- Models didn’t generalize well to new data.\n",
    "\n",
    "**Breakthrough:** Let the Model Learn the Features\n",
    "\n",
    "In the early 2010s, researchers realized that instead of designing features by hand, we could train a model to learn features directly from raw image pixels. This is where Convolutional Neural Networks (CNNs) came in."
   ]
  },
  {
   "cell_type": "markdown",
   "metadata": {},
   "source": [
    "---\n",
    "\n",
    "## What is a CNN?\n",
    "A convolutional neural network (CNN) is a type of neural network specially designed for images.\n",
    "\n",
    "Key Ideas in CNNs:\n",
    "- **Convolutional layers:** Filters (or “kernels”) slide over the image and detect local patterns like edges, lines, or textures.\n",
    "- **Pooling layers:** Downsample the image to retain important information while reducing size.\n",
    "- **Stacked layers:** Combine many layers so the network can build up from simple features to complex ones (e.g., from edges to full cell shapes).\n",
    "\n",
    "![cnn figure](data/cnn.jpg)\n",
    "\n",
    "*Source: https://medium.com/@RaghavPrabhu/understanding-of-convolutional-neural-network-cnn-deep-learning-99760835f148*\n",
    "\n",
    "CNNs became popular after the success of AlexNet in 2012, which won the ImageNet competition by a large margin. This moment marked the beginning of the modern deep learning era.\n",
    "\n"
   ]
  },
  {
   "cell_type": "markdown",
   "metadata": {},
   "source": [
    "---\n",
    "\n",
    "## Segmentation as a Pixel Classifier\n",
    "\n",
    "While CNNs were first used for image classification (e.g., “Does this image contain a cat?”), biomedical researchers needed more: per-pixel predictions like “Which pixels belong to which cell?”\n",
    "\n",
    "Early solutions tried to adapt classification networks into segmentation tasks by:\n",
    "- Applying CNNs to small image patches\n",
    "- Upsampling coarse predictions\n",
    "\n",
    "But this was inefficient and inaccurate for fine biological structures.\n",
    "\n",
    "\n",
    "![segnet architecture](data/segnet.png)\n",
    "\n",
    "*Source: SegNet: A Deep Convolutional Encoder-Decoder Architecture for Image Segmentation*"
   ]
  },
  {
   "cell_type": "markdown",
   "metadata": {},
   "source": [
    "## Introducing U-Net (2015)\n",
    "\n",
    "The real breakthrough for biomedical image segmentation came with the introduction of U-Net in 2015 by Ronneberger et al., developed specifically for segmenting cells in light microscopy images.\n",
    "\n",
    "### Key Features\n",
    "| Component                      | Function                                                                               |\n",
    "| ------------------------------ | -------------------------------------------------------------------------------------- |\n",
    "| **Encoder (contracting path)** | Learns what features are present. Downsamples the image while extracting key patterns. |\n",
    "| **Decoder (expanding path)**   | Reconstructs the segmentation mask. Upsamples to original image size.                  |\n",
    "| **Skip connections**           | Link encoder and decoder layers to preserve spatial details like edges and boundaries. |\n",
    "\n",
    "\n",
    "![unet architecture](data/unet.png)\n",
    "\n",
    "*Source: U-Net: Convolutional Networks for Biomedical Image Segmentation*\n",
    "\n",
    "\n",
    "### Why U-Net Works So Well for Bioimages:\n",
    "- Works well even with small datasets.\n",
    "- Preserves fine details through skip connections.\n",
    "- Generalizes across different staining protocols and microscopy types.\n",
    "- Can be trained end-to-end from raw images to segmentation masks."
   ]
  },
  {
   "cell_type": "markdown",
   "metadata": {},
   "source": [
    "---\n",
    "\n",
    "## StarDist (2018): Instance Segmentation With Shape Priors\n",
    "\n",
    "StarDist was developed specifically to adress domain specific challenges such as touching nuclei.\n",
    "\n",
    "Instead of labeling every pixel directly, StarDist models each object as a star-convex polygon—a shape where all points on the boundary can be reached from the center by a straight line.\n",
    "\n",
    "### What StarDist Does:\n",
    "- Predicts the center of each object.\n",
    "- Predicts a set of rays (lines) that describe the object’s boundary.\n",
    "- Reconstructs each object from its rays and ensures they don’t overlap.\n",
    "\n",
    "![stardist architecture](data/stardist.png)\n",
    "\n",
    "*Source: https://github.com/stardist/stardist*\n",
    "\n",
    "\n",
    "### Why It Works:\n",
    "- Excellent at separating closely packed nuclei.\n",
    "- Uses U-Net as its backbone, but adds geometric reasoning.\n",
    "- Requires moderate annotation effort—annotating centers and boundaries.\n",
    "\n",
    "\n",
    "*StarDist is ideal for: nuclei segmentation in crowded 2D images where objects are mostly round or convex.*"
   ]
  },
  {
   "cell_type": "markdown",
   "metadata": {},
   "source": [
    "---\n",
    "\n",
    "## Cellpose (2020): A Generalist Model Using Flow Fields\n",
    "\n",
    "What if your images contain not just nuclei, but whole cells? What if those cells are irregular in shape—elongated, branched, or overlapping?\n",
    "\n",
    "**Cellpose** was designed to solve these broader challenges.\n",
    "\n",
    "### What’s New in Cellpose:\n",
    "- Introduces a novel idea: **flow fields**\n",
    "    - For each pixel, the model predicts the direction it should move to reach the object center.\n",
    "    - After computing this flow, pixels are grouped into objects.\n",
    "- Trained on a diverse set of cell and tissue types—generalist approach.\n",
    "- Works out of the box on many image types, without retraining.\n",
    "\n",
    "![cellpose](data/cellpose.webp)\n",
    "\n",
    "*Source: Cellpose: a generalist algorithm for cellular segmentation*\n",
    "\n",
    "\n",
    "\n",
    "\n",
    "### Advantages of Cellpose:\n",
    "- Doesn’t assume round shapes.\n",
    "- Segments cytoplasm, cells, or nuclei—flexible across tasks.\n",
    "- Minimal parameter tuning needed.\n",
    "- Provides segmentation even on images with no close training data."
   ]
  },
  {
   "cell_type": "markdown",
   "metadata": {},
   "source": [
    "## Timeline Summary\n",
    "\n",
    "| Year | Model    | Key Innovation                                 | Use Case                                              |\n",
    "| ---- | -------- | ---------------------------------------------- | ----------------------------------------------------- |\n",
    "| 2012 | AlexNet  | CNNs for image classification                  | General computer vision                               |\n",
    "| 2015 | U-Net    | Encoder-decoder with skip connections          | Biomedical image segmentation                         |\n",
    "| 2018 | StarDist | Star-convex polygons for instance segmentation | Nuclei in dense images                                |\n",
    "| 2020 | Cellpose | Flow field-based generalist model              | Cytoplasm, irregular shapes, multi-class segmentation |\n"
   ]
  },
  {
   "cell_type": "markdown",
   "metadata": {},
   "source": []
  }
 ],
 "metadata": {
  "language_info": {
   "codemirror_mode": {
    "name": "ipython",
    "version": 3
   },
   "file_extension": ".py",
   "mimetype": "text/x-python",
   "name": "python",
   "nbconvert_exporter": "python",
   "pygments_lexer": "ipython3",
   "version": "3.13.0"
  }
 },
 "nbformat": 4,
 "nbformat_minor": 2
}