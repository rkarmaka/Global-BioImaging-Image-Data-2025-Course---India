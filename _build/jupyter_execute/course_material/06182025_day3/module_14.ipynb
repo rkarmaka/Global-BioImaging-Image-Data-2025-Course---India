{
 "cells": [
  {
   "cell_type": "markdown",
   "metadata": {},
   "source": [
    "# StarDist for Segmentation"
   ]
  },
  {
   "cell_type": "markdown",
   "metadata": {},
   "source": [
    "---\n",
    "## Learning Objectives\n",
    "By the end of this module, learners will be able to:\n",
    "- Understand what StarDist is and how it works conceptually.\n",
    "- Choose when to use StarDist vs. Cellpose for segmentation.\n",
    "- Perform segmentation using pre-trained StarDist models in Python.\n",
    "- Visualize and overlay segmentation results on microscopy images.\n",
    "- Identify and resolve common segmentation issues.\n",
    "- Apply StarDist to a real-world dataset in a mini project."
   ]
  },
  {
   "cell_type": "markdown",
   "metadata": {},
   "source": [
    "---\n",
    "## Stardist\n",
    "**StarDist** is a deep learning-based instance segmentation tool specifically designed for objects with star-convex shapes (e.g., nuclei). Instead of using pixel-wise masks, **StarDist** predicts each object as a star-convex polygon, defined by a set of radial distances from the center.\n",
    "\n",
    "**Key ideas:**\n",
    "- Designed for roundish or blob-like objects such as nuclei or cells.\n",
    "- Efficient and good at separating touching cells.\n",
    "- Outputs instance-wise masks, not just binary foreground-background.\n",
    "\n",
    "**Conceptual Illustration:**\n",
    "Each object is represented as a star-shaped polygon radiating out from the center, making it particularly well-suited to objects with roughly circular or elliptical morphology."
   ]
  },
  {
   "cell_type": "markdown",
   "metadata": {},
   "source": [
    "### Hands-on: StarDist Installation and Imports"
   ]
  },
  {
   "cell_type": "code",
   "execution_count": 1,
   "metadata": {
    "vscode": {
     "languageId": "plaintext"
    }
   },
   "outputs": [
    {
     "name": "stdout",
     "output_type": "stream",
     "text": [
      "Collecting stardist\r\n",
      "  Using cached stardist-0.9.1.tar.gz (888 kB)\r\n"
     ]
    },
    {
     "name": "stdout",
     "output_type": "stream",
     "text": [
      "  Installing build dependencies ... \u001b[?25l-"
     ]
    },
    {
     "name": "stdout",
     "output_type": "stream",
     "text": [
      "\b \b\\"
     ]
    },
    {
     "name": "stdout",
     "output_type": "stream",
     "text": [
      "\b \b|"
     ]
    },
    {
     "name": "stdout",
     "output_type": "stream",
     "text": [
      "\b \bdone\r\n"
     ]
    },
    {
     "name": "stdout",
     "output_type": "stream",
     "text": [
      "\u001b[?25h  Getting requirements to build wheel ... \u001b[?25l-\b \bdone\r\n"
     ]
    },
    {
     "name": "stdout",
     "output_type": "stream",
     "text": [
      "\u001b[?25h  Preparing metadata (pyproject.toml) ... \u001b[?25l-"
     ]
    },
    {
     "name": "stdout",
     "output_type": "stream",
     "text": [
      "\b \bdone\r\n",
      "\u001b[?25hCollecting csbdeep\r\n",
      "  Using cached csbdeep-0.8.1-py2.py3-none-any.whl.metadata (2.4 kB)\r\n",
      "Requirement already satisfied: scikit-image in /Users/ranit/anaconda3/envs/gbi-python-env/lib/python3.13/site-packages (from stardist) (0.25.2)\r\n"
     ]
    },
    {
     "name": "stdout",
     "output_type": "stream",
     "text": [
      "Collecting numba (from stardist)\r\n",
      "  Using cached numba-0.61.2-cp313-cp313-macosx_11_0_arm64.whl.metadata (2.7 kB)\r\n",
      "Requirement already satisfied: imageio in /Users/ranit/anaconda3/envs/gbi-python-env/lib/python3.13/site-packages (from stardist) (2.37.0)\r\n",
      "Requirement already satisfied: numpy in /Users/ranit/anaconda3/envs/gbi-python-env/lib/python3.13/site-packages (from csbdeep) (2.2.6)\r\n",
      "Requirement already satisfied: scipy in /Users/ranit/anaconda3/envs/gbi-python-env/lib/python3.13/site-packages (from csbdeep) (1.15.3)\r\n",
      "Requirement already satisfied: matplotlib in /Users/ranit/anaconda3/envs/gbi-python-env/lib/python3.13/site-packages (from csbdeep) (3.10.3)\r\n",
      "Requirement already satisfied: six in /Users/ranit/anaconda3/envs/gbi-python-env/lib/python3.13/site-packages (from csbdeep) (1.17.0)\r\n",
      "Requirement already satisfied: tifffile in /Users/ranit/anaconda3/envs/gbi-python-env/lib/python3.13/site-packages (from csbdeep) (2025.5.26)\r\n",
      "Collecting tqdm (from csbdeep)\r\n",
      "  Using cached tqdm-4.67.1-py3-none-any.whl.metadata (57 kB)\r\n",
      "Requirement already satisfied: packaging in /Users/ranit/anaconda3/envs/gbi-python-env/lib/python3.13/site-packages (from csbdeep) (25.0)\r\n",
      "Requirement already satisfied: pillow>=8.3.2 in /Users/ranit/anaconda3/envs/gbi-python-env/lib/python3.13/site-packages (from imageio->stardist) (11.2.1)\r\n"
     ]
    },
    {
     "name": "stdout",
     "output_type": "stream",
     "text": [
      "Requirement already satisfied: contourpy>=1.0.1 in /Users/ranit/anaconda3/envs/gbi-python-env/lib/python3.13/site-packages (from matplotlib->csbdeep) (1.3.2)\r\n",
      "Requirement already satisfied: cycler>=0.10 in /Users/ranit/anaconda3/envs/gbi-python-env/lib/python3.13/site-packages (from matplotlib->csbdeep) (0.12.1)\r\n",
      "Requirement already satisfied: fonttools>=4.22.0 in /Users/ranit/anaconda3/envs/gbi-python-env/lib/python3.13/site-packages (from matplotlib->csbdeep) (4.58.1)\r\n",
      "Requirement already satisfied: kiwisolver>=1.3.1 in /Users/ranit/anaconda3/envs/gbi-python-env/lib/python3.13/site-packages (from matplotlib->csbdeep) (1.4.8)\r\n",
      "Requirement already satisfied: pyparsing>=2.3.1 in /Users/ranit/anaconda3/envs/gbi-python-env/lib/python3.13/site-packages (from matplotlib->csbdeep) (3.2.3)\r\n",
      "Requirement already satisfied: python-dateutil>=2.7 in /Users/ranit/anaconda3/envs/gbi-python-env/lib/python3.13/site-packages (from matplotlib->csbdeep) (2.9.0.post0)\r\n",
      "Collecting llvmlite<0.45,>=0.44.0dev0 (from numba->stardist)\r\n",
      "  Using cached llvmlite-0.44.0-cp313-cp313-macosx_11_0_arm64.whl.metadata (4.8 kB)\r\n",
      "Requirement already satisfied: networkx>=3.0 in /Users/ranit/anaconda3/envs/gbi-python-env/lib/python3.13/site-packages (from scikit-image->stardist) (3.5)\r\n",
      "Requirement already satisfied: lazy-loader>=0.4 in /Users/ranit/anaconda3/envs/gbi-python-env/lib/python3.13/site-packages (from scikit-image->stardist) (0.4)\r\n"
     ]
    },
    {
     "name": "stdout",
     "output_type": "stream",
     "text": [
      "Using cached csbdeep-0.8.1-py2.py3-none-any.whl (71 kB)\r\n",
      "Using cached numba-0.61.2-cp313-cp313-macosx_11_0_arm64.whl (2.8 MB)\r\n",
      "Using cached llvmlite-0.44.0-cp313-cp313-macosx_11_0_arm64.whl (26.2 MB)\r\n",
      "Using cached tqdm-4.67.1-py3-none-any.whl (78 kB)\r\n",
      "Building wheels for collected packages: stardist\r\n"
     ]
    },
    {
     "name": "stdout",
     "output_type": "stream",
     "text": [
      "  Building wheel for stardist (pyproject.toml) ... \u001b[?25l-"
     ]
    },
    {
     "name": "stdout",
     "output_type": "stream",
     "text": [
      "\b \b\\"
     ]
    },
    {
     "name": "stdout",
     "output_type": "stream",
     "text": [
      "\b \berror\r\n",
      "  \u001b[1;31merror\u001b[0m: \u001b[1msubprocess-exited-with-error\u001b[0m\r\n",
      "  \r\n",
      "  \u001b[31m×\u001b[0m \u001b[32mBuilding wheel for stardist \u001b[0m\u001b[1;32m(\u001b[0m\u001b[32mpyproject.toml\u001b[0m\u001b[1;32m)\u001b[0m did not run successfully.\r\n",
      "  \u001b[31m│\u001b[0m exit code: \u001b[1;36m1\u001b[0m\r\n",
      "  \u001b[31m╰─>\u001b[0m \u001b[31m[77 lines of output]\u001b[0m\r\n",
      "  \u001b[31m   \u001b[0m /private/var/folders/5t/3zkcp0dd27s3txcmjn8jl96m0000gq/T/pip-build-env-mlpdfnrf/overlay/lib/python3.13/site-packages/setuptools/dist.py:759: SetuptoolsDeprecationWarning: License classifiers are deprecated.\r\n",
      "  \u001b[31m   \u001b[0m !!\r\n",
      "  \u001b[31m   \u001b[0m \r\n",
      "  \u001b[31m   \u001b[0m         ********************************************************************************\r\n",
      "  \u001b[31m   \u001b[0m         Please consider removing the following classifiers in favor of a SPDX license expression:\r\n",
      "  \u001b[31m   \u001b[0m \r\n",
      "  \u001b[31m   \u001b[0m         License :: OSI Approved :: BSD License\r\n",
      "  \u001b[31m   \u001b[0m \r\n",
      "  \u001b[31m   \u001b[0m         See https://packaging.python.org/en/latest/guides/writing-pyproject-toml/#license for details.\r\n",
      "  \u001b[31m   \u001b[0m         ********************************************************************************\r\n",
      "  \u001b[31m   \u001b[0m \r\n",
      "  \u001b[31m   \u001b[0m !!\r\n",
      "  \u001b[31m   \u001b[0m   self._finalize_license_expression()\r\n",
      "  \u001b[31m   \u001b[0m running bdist_wheel\r\n",
      "  \u001b[31m   \u001b[0m running build\r\n",
      "  \u001b[31m   \u001b[0m running build_py\r\n",
      "  \u001b[31m   \u001b[0m creating build/lib.macosx-11.1-arm64-cpython-313/stardist\r\n",
      "  \u001b[31m   \u001b[0m copying stardist/version.py -> build/lib.macosx-11.1-arm64-cpython-313/stardist\r\n",
      "  \u001b[31m   \u001b[0m copying stardist/rays3d.py -> build/lib.macosx-11.1-arm64-cpython-313/stardist\r\n",
      "  \u001b[31m   \u001b[0m copying stardist/sample_patches.py -> build/lib.macosx-11.1-arm64-cpython-313/stardist\r\n",
      "  \u001b[31m   \u001b[0m copying stardist/nms.py -> build/lib.macosx-11.1-arm64-cpython-313/stardist\r\n",
      "  \u001b[31m   \u001b[0m copying stardist/__init__.py -> build/lib.macosx-11.1-arm64-cpython-313/stardist\r\n",
      "  \u001b[31m   \u001b[0m copying stardist/matching.py -> build/lib.macosx-11.1-arm64-cpython-313/stardist\r\n",
      "  \u001b[31m   \u001b[0m copying stardist/bioimageio_utils.py -> build/lib.macosx-11.1-arm64-cpython-313/stardist\r\n",
      "  \u001b[31m   \u001b[0m copying stardist/utils.py -> build/lib.macosx-11.1-arm64-cpython-313/stardist\r\n",
      "  \u001b[31m   \u001b[0m copying stardist/big.py -> build/lib.macosx-11.1-arm64-cpython-313/stardist\r\n",
      "  \u001b[31m   \u001b[0m creating build/lib.macosx-11.1-arm64-cpython-313/stardist/plot\r\n",
      "  \u001b[31m   \u001b[0m copying stardist/plot/plot.py -> build/lib.macosx-11.1-arm64-cpython-313/stardist/plot\r\n",
      "  \u001b[31m   \u001b[0m copying stardist/plot/render.py -> build/lib.macosx-11.1-arm64-cpython-313/stardist/plot\r\n",
      "  \u001b[31m   \u001b[0m copying stardist/plot/__init__.py -> build/lib.macosx-11.1-arm64-cpython-313/stardist/plot\r\n",
      "  \u001b[31m   \u001b[0m creating build/lib.macosx-11.1-arm64-cpython-313/stardist/models\r\n",
      "  \u001b[31m   \u001b[0m copying stardist/models/model3d.py -> build/lib.macosx-11.1-arm64-cpython-313/stardist/models\r\n",
      "  \u001b[31m   \u001b[0m copying stardist/models/model2d.py -> build/lib.macosx-11.1-arm64-cpython-313/stardist/models\r\n",
      "  \u001b[31m   \u001b[0m copying stardist/models/__init__.py -> build/lib.macosx-11.1-arm64-cpython-313/stardist/models\r\n",
      "  \u001b[31m   \u001b[0m copying stardist/models/base.py -> build/lib.macosx-11.1-arm64-cpython-313/stardist/models\r\n",
      "  \u001b[31m   \u001b[0m creating build/lib.macosx-11.1-arm64-cpython-313/stardist/scripts\r\n",
      "  \u001b[31m   \u001b[0m copying stardist/scripts/__init__.py -> build/lib.macosx-11.1-arm64-cpython-313/stardist/scripts\r\n",
      "  \u001b[31m   \u001b[0m copying stardist/scripts/predict2d.py -> build/lib.macosx-11.1-arm64-cpython-313/stardist/scripts\r\n",
      "  \u001b[31m   \u001b[0m copying stardist/scripts/predict3d.py -> build/lib.macosx-11.1-arm64-cpython-313/stardist/scripts\r\n",
      "  \u001b[31m   \u001b[0m creating build/lib.macosx-11.1-arm64-cpython-313/stardist/geometry\r\n",
      "  \u001b[31m   \u001b[0m copying stardist/geometry/__init__.py -> build/lib.macosx-11.1-arm64-cpython-313/stardist/geometry\r\n",
      "  \u001b[31m   \u001b[0m copying stardist/geometry/geom3d.py -> build/lib.macosx-11.1-arm64-cpython-313/stardist/geometry\r\n",
      "  \u001b[31m   \u001b[0m copying stardist/geometry/geom2d.py -> build/lib.macosx-11.1-arm64-cpython-313/stardist/geometry\r\n",
      "  \u001b[31m   \u001b[0m creating build/lib.macosx-11.1-arm64-cpython-313/stardist/data\r\n",
      "  \u001b[31m   \u001b[0m copying stardist/data/__init__.py -> build/lib.macosx-11.1-arm64-cpython-313/stardist/data\r\n",
      "  \u001b[31m   \u001b[0m creating build/lib.macosx-11.1-arm64-cpython-313/stardist/kernels\r\n",
      "  \u001b[31m   \u001b[0m copying stardist/kernels/stardist2d.cl -> build/lib.macosx-11.1-arm64-cpython-313/stardist/kernels\r\n",
      "  \u001b[31m   \u001b[0m copying stardist/kernels/stardist3d.cl -> build/lib.macosx-11.1-arm64-cpython-313/stardist/kernels\r\n",
      "  \u001b[31m   \u001b[0m creating build/lib.macosx-11.1-arm64-cpython-313/stardist/data/images\r\n",
      "  \u001b[31m   \u001b[0m copying stardist/data/images/mask2d.tif -> build/lib.macosx-11.1-arm64-cpython-313/stardist/data/images\r\n",
      "  \u001b[31m   \u001b[0m copying stardist/data/images/mask3d.tif -> build/lib.macosx-11.1-arm64-cpython-313/stardist/data/images\r\n",
      "  \u001b[31m   \u001b[0m copying stardist/data/images/img3d.tif -> build/lib.macosx-11.1-arm64-cpython-313/stardist/data/images\r\n",
      "  \u001b[31m   \u001b[0m copying stardist/data/images/img2d.tif -> build/lib.macosx-11.1-arm64-cpython-313/stardist/data/images\r\n",
      "  \u001b[31m   \u001b[0m copying stardist/data/images/histo.jpg -> build/lib.macosx-11.1-arm64-cpython-313/stardist/data/images\r\n",
      "  \u001b[31m   \u001b[0m running build_ext\r\n",
      "  \u001b[31m   \u001b[0m building 'stardist.lib.stardist2d' extension\r\n",
      "  \u001b[31m   \u001b[0m creating build/temp.macosx-11.1-arm64-cpython-313/stardist/lib/external/clipper\r\n",
      "  \u001b[31m   \u001b[0m clang++ -fno-strict-overflow -Wsign-compare -Wunreachable-code -DNDEBUG -O2 -Wall -fPIC -O2 -isystem /Users/ranit/anaconda3/envs/gbi-python-env/include -arch arm64 -fPIC -O2 -isystem /Users/ranit/anaconda3/envs/gbi-python-env/include -arch arm64 -I/private/var/folders/5t/3zkcp0dd27s3txcmjn8jl96m0000gq/T/pip-build-env-mlpdfnrf/overlay/lib/python3.13/site-packages/numpy/_core/include -Istardist/lib/external/clipper -Istardist/lib/external/nanoflann -I/Users/ranit/anaconda3/envs/gbi-python-env/include/python3.13 -c stardist/lib/external/clipper/clipper.cpp -o build/temp.macosx-11.1-arm64-cpython-313/stardist/lib/external/clipper/clipper.o -std=c++11 -fopenmp\r\n",
      "  \u001b[31m   \u001b[0m clang++: error: unsupported option '-fopenmp'\r\n",
      "  \u001b[31m   \u001b[0m >>> compiling with '-fopenmp' failed\r\n",
      "  \u001b[31m   \u001b[0m building 'stardist.lib.stardist2d' extension\r\n",
      "  \u001b[31m   \u001b[0m clang++ -fno-strict-overflow -Wsign-compare -Wunreachable-code -DNDEBUG -O2 -Wall -fPIC -O2 -isystem /Users/ranit/anaconda3/envs/gbi-python-env/include -arch arm64 -fPIC -O2 -isystem /Users/ranit/anaconda3/envs/gbi-python-env/include -arch arm64 -I/private/var/folders/5t/3zkcp0dd27s3txcmjn8jl96m0000gq/T/pip-build-env-mlpdfnrf/overlay/lib/python3.13/site-packages/numpy/_core/include -Istardist/lib/external/clipper -Istardist/lib/external/nanoflann -I/Users/ranit/anaconda3/envs/gbi-python-env/include/python3.13 -c stardist/lib/external/clipper/clipper.cpp -o build/temp.macosx-11.1-arm64-cpython-313/stardist/lib/external/clipper/clipper.o -std=c++11 -Xpreprocessor -fopenmp\r\n",
      "  \u001b[31m   \u001b[0m In file included from stardist/lib/external/clipper/clipper.cpp:41:\r\n",
      "  \u001b[31m   \u001b[0m stardist/lib/external/clipper/clipper.hpp:52:10: fatal error: 'vector' file not found\r\n",
      "  \u001b[31m   \u001b[0m    52 | #include <vector>\r\n",
      "  \u001b[31m   \u001b[0m       |          ^~~~~~~~\r\n",
      "  \u001b[31m   \u001b[0m 1 error generated.\r\n",
      "  \u001b[31m   \u001b[0m >>> compiling with '-Xpreprocessor -fopenmp' failed\r\n",
      "  \u001b[31m   \u001b[0m >>> compiling with OpenMP support failed, re-trying without\r\n",
      "  \u001b[31m   \u001b[0m building 'stardist.lib.stardist2d' extension\r\n",
      "  \u001b[31m   \u001b[0m clang++ -fno-strict-overflow -Wsign-compare -Wunreachable-code -DNDEBUG -O2 -Wall -fPIC -O2 -isystem /Users/ranit/anaconda3/envs/gbi-python-env/include -arch arm64 -fPIC -O2 -isystem /Users/ranit/anaconda3/envs/gbi-python-env/include -arch arm64 -I/private/var/folders/5t/3zkcp0dd27s3txcmjn8jl96m0000gq/T/pip-build-env-mlpdfnrf/overlay/lib/python3.13/site-packages/numpy/_core/include -Istardist/lib/external/clipper -Istardist/lib/external/nanoflann -I/Users/ranit/anaconda3/envs/gbi-python-env/include/python3.13 -c stardist/lib/external/clipper/clipper.cpp -o build/temp.macosx-11.1-arm64-cpython-313/stardist/lib/external/clipper/clipper.o -std=c++11\r\n",
      "  \u001b[31m   \u001b[0m In file included from stardist/lib/external/clipper/clipper.cpp:41:\r\n",
      "  \u001b[31m   \u001b[0m stardist/lib/external/clipper/clipper.hpp:52:10: fatal error: 'vector' file not found\r\n",
      "  \u001b[31m   \u001b[0m    52 | #include <vector>\r\n",
      "  \u001b[31m   \u001b[0m       |          ^~~~~~~~\r\n",
      "  \u001b[31m   \u001b[0m 1 error generated.\r\n",
      "  \u001b[31m   \u001b[0m error: command '/usr/bin/clang++' failed with exit code 1\r\n",
      "  \u001b[31m   \u001b[0m \u001b[31m[end of output]\u001b[0m\r\n",
      "  \r\n",
      "  \u001b[1;35mnote\u001b[0m: This error originates from a subprocess, and is likely not a problem with pip.\r\n",
      "\u001b[31m  ERROR: Failed building wheel for stardist\u001b[0m\u001b[31m\r\n",
      "\u001b[0m\u001b[?25hFailed to build stardist\r\n",
      "\u001b[31mERROR: Failed to build installable wheels for some pyproject.toml based projects (stardist)\u001b[0m\u001b[31m\r\n",
      "\u001b[0m"
     ]
    },
    {
     "ename": "ModuleNotFoundError",
     "evalue": "No module named 'stardist'",
     "output_type": "error",
     "traceback": [
      "\u001b[31m---------------------------------------------------------------------------\u001b[39m",
      "\u001b[31mModuleNotFoundError\u001b[39m                       Traceback (most recent call last)",
      "\u001b[36mCell\u001b[39m\u001b[36m \u001b[39m\u001b[32mIn[1]\u001b[39m\u001b[32m, line 5\u001b[39m\n\u001b[32m      2\u001b[39m get_ipython().system(\u001b[33m'\u001b[39m\u001b[33mpip install stardist csbdeep\u001b[39m\u001b[33m'\u001b[39m)\n\u001b[32m      4\u001b[39m \u001b[38;5;66;03m# Imports\u001b[39;00m\n\u001b[32m----> \u001b[39m\u001b[32m5\u001b[39m \u001b[38;5;28;01mfrom\u001b[39;00m\u001b[38;5;250m \u001b[39m\u001b[34;01mstardist\u001b[39;00m\u001b[34;01m.\u001b[39;00m\u001b[34;01mmodels\u001b[39;00m\u001b[38;5;250m \u001b[39m\u001b[38;5;28;01mimport\u001b[39;00m StarDist2D\n\u001b[32m      6\u001b[39m \u001b[38;5;28;01mfrom\u001b[39;00m\u001b[38;5;250m \u001b[39m\u001b[34;01mcsbdeep\u001b[39;00m\u001b[34;01m.\u001b[39;00m\u001b[34;01mutils\u001b[39;00m\u001b[38;5;250m \u001b[39m\u001b[38;5;28;01mimport\u001b[39;00m normalize\n\u001b[32m      7\u001b[39m \u001b[38;5;28;01mfrom\u001b[39;00m\u001b[38;5;250m \u001b[39m\u001b[34;01mskimage\u001b[39;00m\u001b[34;01m.\u001b[39;00m\u001b[34;01mio\u001b[39;00m\u001b[38;5;250m \u001b[39m\u001b[38;5;28;01mimport\u001b[39;00m imread, imshow\n",
      "\u001b[31mModuleNotFoundError\u001b[39m: No module named 'stardist'"
     ]
    }
   ],
   "source": [
    "# Install StarDist and dependencies (run once)\n",
    "!pip install stardist csbdeep\n",
    "\n",
    "# Imports\n",
    "from stardist.models import StarDist2D\n",
    "from csbdeep.utils import normalize\n",
    "from skimage.io import imread, imshow\n",
    "import matplotlib.pyplot as plt"
   ]
  },
  {
   "cell_type": "markdown",
   "metadata": {},
   "source": [
    "### When and Why to Use StarDist (vs. Cellpose)\n",
    "| Feature             | StarDist                           | Cellpose                             |\n",
    "| ------------------- | ---------------------------------- | ------------------------------------ |\n",
    "| Best for            | Star-shaped objects (e.g., nuclei) | Irregular shapes (e.g., whole cells) |\n",
    "| Output type         | Star-convex polygons               | Vector flow + mask                   |\n",
    "| Model tuning needed | Less for nucleus images            | Often more adaptable via scale       |\n",
    "| Example datasets    | Fluorescent nucleus images         | Cytoplasm, brightfield, mixed cells  |\n",
    "\n",
    "\n",
    "\n",
    "**Use StarDist if:**\n",
    "- You are segmenting nuclei or small, blob-like organelles.\n",
    "- You need high-quality instance segmentation.\n",
    "= Your objects are mostly round or elliptical."
   ]
  },
  {
   "cell_type": "markdown",
   "metadata": {},
   "source": [
    "### Hands-on: Load and Compare Sample Images"
   ]
  },
  {
   "cell_type": "code",
   "execution_count": null,
   "metadata": {
    "vscode": {
     "languageId": "plaintext"
    }
   },
   "outputs": [],
   "source": [
    "image = imread('https://raw.githubusercontent.com/stardist/stardist/master/examples/images/DSB2018/train/images/0002.tif')\n",
    "plt.figure(figsize=(6,6))\n",
    "plt.imshow(image, cmap='gray')\n",
    "plt.title(\"Sample Nucleus Image\")\n",
    "plt.axis('off')\n",
    "plt.show()"
   ]
  },
  {
   "cell_type": "markdown",
   "metadata": {},
   "source": [
    "## Run Segmentation and Overlay Predictions\n",
    "StarDist uses a pre-trained model (e.g., “2D_versatile_fluo”) to:\n",
    "- Normalize input\n",
    "- Predict polygons\n",
    "- Return label masks\n",
    "- The predicted instance masks can be overlaid on the original image for easy visual inspection.\n",
    "\n",
    "### Hands-on: Apply StarDist Segmentation"
   ]
  },
  {
   "cell_type": "code",
   "execution_count": null,
   "metadata": {
    "vscode": {
     "languageId": "plaintext"
    }
   },
   "outputs": [],
   "source": [
    "# Load pre-trained model\n",
    "model = StarDist2D.from_pretrained('2D_versatile_fluo')\n",
    "\n",
    "# Normalize image\n",
    "img_norm = normalize(image, 1, 99.8, axis=(0,1))\n",
    "\n",
    "# Run prediction\n",
    "labels, _ = model.predict_instances(img_norm)\n",
    "\n",
    "# Show result\n",
    "plt.figure(figsize=(12,6))\n",
    "plt.subplot(1,2,1)\n",
    "plt.imshow(image, cmap='gray')\n",
    "plt.title(\"Original\")\n",
    "plt.axis('off')\n",
    "\n",
    "plt.subplot(1,2,2)\n",
    "plt.imshow(image, cmap='gray')\n",
    "plt.imshow(labels, cmap='jet', alpha=0.5)\n",
    "plt.title(\"StarDist Segmentation Overlay\")\n",
    "plt.axis('off')\n",
    "plt.show()"
   ]
  },
  {
   "cell_type": "markdown",
   "metadata": {},
   "source": [
    "---\n",
    "## Troubleshooting Segmentations\n",
    "\n",
    "Common issues and fixes:\n",
    "- **Too many/few segments:** Try normalizing the input or applying Gaussian blur.\n",
    "- **Merging of touching cells:** StarDist usually handles this well; check normalization.\n",
    "- **Broken segment shapes:** May be due to background noise or unnormalized input.\n",
    "- **Model mismatch:** Try other pre-trained models or retrain if needed.\n",
    "\n",
    "### Hands-on: Troubleshooting Example"
   ]
  },
  {
   "cell_type": "code",
   "execution_count": null,
   "metadata": {
    "vscode": {
     "languageId": "plaintext"
    }
   },
   "outputs": [],
   "source": [
    "# Try with a poorly normalized version\n",
    "img_bad = image / 255.0  # Improper normalization\n",
    "labels_bad, _ = model.predict_instances(img_bad)\n",
    "\n",
    "# Compare with good normalization\n",
    "plt.figure(figsize=(12,6))\n",
    "plt.subplot(1,2,1)\n",
    "plt.imshow(labels_bad, cmap='jet')\n",
    "plt.title(\"Improper Normalization\")\n",
    "\n",
    "plt.subplot(1,2,2)\n",
    "plt.imshow(labels, cmap='jet')\n",
    "plt.title(\"Proper Normalization\")\n",
    "plt.show()"
   ]
  },
  {
   "cell_type": "markdown",
   "metadata": {},
   "source": [
    "### Exercise\n",
    "Segment this image and compare it with StarDist and Cellpose.\n",
    "\n",
    "**URL:** https://github.com/stardist/stardist/raw/master/examples/images/DSB2018/train/images/0006.tif\n",
    "\n",
    "**Tasks:**\n",
    "- Load the image.\n",
    "- Run StarDist segmentation.\n",
    "- Overlay predictions.\n",
    "- Note any challenges or artifacts."
   ]
  },
  {
   "cell_type": "markdown",
   "metadata": {},
   "source": [
    "---\n",
    "## Mini Project\n",
    "**Goal:** Segment nuclei in a real fluorescence microscopy image and export results.\n",
    "\n",
    "**Steps:**\n",
    "- Download a microscopy image from your own lab or from DSB 2018 dataset.\n",
    "- Apply proper normalization.\n",
    "- Use StarDist to generate instance masks.\n",
    "- Overlay masks on the original image.\n",
    "- Save the result as an image.\n",
    "- Export label data to a NumPy array or .tiff file for downstream analysis."
   ]
  },
  {
   "cell_type": "markdown",
   "metadata": {},
   "source": [
    "---\n",
    "## Module Summary\n",
    "\n",
    "| Topic                     | Key Concepts                                   | Skills Gained                                           |\n",
    "| ------------------------- | ---------------------------------------------- | ------------------------------------------------------- |\n",
    "| What is StarDist?         | Star-convex shapes, polygon-based segmentation | Understanding deep learning-based instance segmentation |\n",
    "| StarDist vs. Cellpose     | When to use which, pros/cons                   | Selecting appropriate tools for biological images       |\n",
    "| Run and visualize results | Model loading, normalization, overlays         | Applying StarDist to real images                        |\n",
    "| Troubleshooting           | Normalization, overlapping, background noise   | Diagnosing and correcting segmentation problems         |\n",
    "| Mini Project              | Full pipeline from image to labels             | Practical experience in bioimage analysis workflows     |\n"
   ]
  },
  {
   "cell_type": "markdown",
   "metadata": {},
   "source": []
  }
 ],
 "metadata": {
  "language_info": {
   "codemirror_mode": {
    "name": "ipython",
    "version": 3
   },
   "file_extension": ".py",
   "mimetype": "text/x-python",
   "name": "python",
   "nbconvert_exporter": "python",
   "pygments_lexer": "ipython3",
   "version": "3.13.0"
  }
 },
 "nbformat": 4,
 "nbformat_minor": 2
}