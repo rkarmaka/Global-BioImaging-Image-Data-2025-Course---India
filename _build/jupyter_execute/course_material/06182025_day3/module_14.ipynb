{
 "cells": [
  {
   "cell_type": "markdown",
   "metadata": {},
   "source": [
    "# StarDist for Segmentation"
   ]
  },
  {
   "cell_type": "markdown",
   "metadata": {},
   "source": [
    "---\n",
    "## Learning Objectives\n",
    "By the end of this module, learners will be able to:\n",
    "- Understand what StarDist is and how it works conceptually.\n",
    "- Choose when to use StarDist vs. Cellpose for segmentation.\n",
    "- Perform segmentation using pre-trained StarDist models in Python.\n",
    "- Visualize and overlay segmentation results on microscopy images.\n",
    "- Identify and resolve common segmentation issues.\n",
    "- Apply StarDist to a real-world dataset in a mini project."
   ]
  },
  {
   "cell_type": "markdown",
   "metadata": {},
   "source": [
    "---\n",
    "## Stardist\n",
    "**StarDist** is a deep learning-based instance segmentation tool specifically designed for objects with star-convex shapes (e.g., nuclei). Instead of using pixel-wise masks, **StarDist** predicts each object as a star-convex polygon, defined by a set of radial distances from the center.\n",
    "\n",
    "**Key ideas:**\n",
    "- Designed for roundish or blob-like objects such as nuclei or cells.\n",
    "- Efficient and good at separating touching cells.\n",
    "- Outputs instance-wise masks, not just binary foreground-background.\n",
    "\n",
    "**Conceptual Illustration:**\n",
    "Each object is represented as a star-shaped polygon radiating out from the center, making it particularly well-suited to objects with roughly circular or elliptical morphology."
   ]
  },
  {
   "cell_type": "markdown",
   "metadata": {},
   "source": [
    "### Hands-on: StarDist Installation and Imports"
   ]
  },
  {
   "cell_type": "code",
   "execution_count": 1,
   "metadata": {
    "vscode": {
     "languageId": "plaintext"
    }
   },
   "outputs": [
    {
     "name": "stdout",
     "output_type": "stream",
     "text": [
      "Requirement already satisfied: stardist in /Users/ranit/anaconda3/lib/python3.11/site-packages (0.9.1)\r\n",
      "Requirement already satisfied: csbdeep in /Users/ranit/anaconda3/lib/python3.11/site-packages (0.8.1)\r\n",
      "Requirement already satisfied: scikit-image in /Users/ranit/anaconda3/lib/python3.11/site-packages (from stardist) (0.20.0)\r\n",
      "Requirement already satisfied: numba in /Users/ranit/anaconda3/lib/python3.11/site-packages (from stardist) (0.57.0)\r\n",
      "Requirement already satisfied: imageio in /Users/ranit/anaconda3/lib/python3.11/site-packages (from stardist) (2.31.1)\r\n",
      "Requirement already satisfied: numpy in /Users/ranit/anaconda3/lib/python3.11/site-packages (from csbdeep) (1.24.3)\r\n",
      "Requirement already satisfied: scipy in /Users/ranit/anaconda3/lib/python3.11/site-packages (from csbdeep) (1.10.1)\r\n",
      "Requirement already satisfied: matplotlib in /Users/ranit/anaconda3/lib/python3.11/site-packages (from csbdeep) (3.7.1)\r\n",
      "Requirement already satisfied: six in /Users/ranit/anaconda3/lib/python3.11/site-packages (from csbdeep) (1.16.0)\r\n",
      "Requirement already satisfied: tifffile in /Users/ranit/anaconda3/lib/python3.11/site-packages (from csbdeep) (2021.7.2)\r\n",
      "Requirement already satisfied: tqdm in /Users/ranit/anaconda3/lib/python3.11/site-packages (from csbdeep) (4.65.0)\r\n",
      "Requirement already satisfied: packaging in /Users/ranit/anaconda3/lib/python3.11/site-packages (from csbdeep) (23.0)\r\n"
     ]
    },
    {
     "name": "stdout",
     "output_type": "stream",
     "text": [
      "Requirement already satisfied: pillow>=8.3.2 in /Users/ranit/anaconda3/lib/python3.11/site-packages (from imageio->stardist) (9.4.0)\r\n",
      "Requirement already satisfied: contourpy>=1.0.1 in /Users/ranit/anaconda3/lib/python3.11/site-packages (from matplotlib->csbdeep) (1.0.5)\r\n",
      "Requirement already satisfied: cycler>=0.10 in /Users/ranit/anaconda3/lib/python3.11/site-packages (from matplotlib->csbdeep) (0.11.0)\r\n",
      "Requirement already satisfied: fonttools>=4.22.0 in /Users/ranit/anaconda3/lib/python3.11/site-packages (from matplotlib->csbdeep) (4.25.0)\r\n",
      "Requirement already satisfied: kiwisolver>=1.0.1 in /Users/ranit/anaconda3/lib/python3.11/site-packages (from matplotlib->csbdeep) (1.4.4)\r\n",
      "Requirement already satisfied: pyparsing>=2.3.1 in /Users/ranit/anaconda3/lib/python3.11/site-packages (from matplotlib->csbdeep) (3.0.9)\r\n",
      "Requirement already satisfied: python-dateutil>=2.7 in /Users/ranit/anaconda3/lib/python3.11/site-packages (from matplotlib->csbdeep) (2.8.2)\r\n",
      "Requirement already satisfied: llvmlite<0.41,>=0.40.0dev0 in /Users/ranit/anaconda3/lib/python3.11/site-packages (from numba->stardist) (0.40.0)\r\n",
      "Requirement already satisfied: networkx>=2.8 in /Users/ranit/anaconda3/lib/python3.11/site-packages (from scikit-image->stardist) (3.1)\r\n",
      "Requirement already satisfied: PyWavelets>=1.1.1 in /Users/ranit/anaconda3/lib/python3.11/site-packages (from scikit-image->stardist) (1.4.1)\r\n",
      "Requirement already satisfied: lazy_loader>=0.1 in /Users/ranit/anaconda3/lib/python3.11/site-packages (from scikit-image->stardist) (0.2)\r\n"
     ]
    },
    {
     "ename": "RuntimeError",
     "evalue": "Please install TensorFlow: https://www.tensorflow.org/install/",
     "output_type": "error",
     "traceback": [
      "\u001b[0;31m---------------------------------------------------------------------------\u001b[0m",
      "\u001b[0;31mModuleNotFoundError\u001b[0m                       Traceback (most recent call last)",
      "File \u001b[0;32m~/anaconda3/lib/python3.11/site-packages/csbdeep/models/__init__.py:5\u001b[0m\n\u001b[1;32m      4\u001b[0m \u001b[38;5;28;01mtry\u001b[39;00m:\n\u001b[0;32m----> 5\u001b[0m     \u001b[38;5;28;01mimport\u001b[39;00m\u001b[38;5;250m \u001b[39m\u001b[38;5;21;01mtensorflow\u001b[39;00m\n\u001b[1;32m      6\u001b[0m     \u001b[38;5;28;01mdel\u001b[39;00m tensorflow\n",
      "\u001b[0;31mModuleNotFoundError\u001b[0m: No module named 'tensorflow'",
      "\nThe above exception was the direct cause of the following exception:\n",
      "\u001b[0;31mRuntimeError\u001b[0m                              Traceback (most recent call last)",
      "Cell \u001b[0;32mIn[1], line 5\u001b[0m\n\u001b[1;32m      2\u001b[0m get_ipython()\u001b[38;5;241m.\u001b[39msystem(\u001b[38;5;124m'\u001b[39m\u001b[38;5;124mpip install stardist csbdeep\u001b[39m\u001b[38;5;124m'\u001b[39m)\n\u001b[1;32m      4\u001b[0m \u001b[38;5;66;03m# Imports\u001b[39;00m\n\u001b[0;32m----> 5\u001b[0m \u001b[38;5;28;01mfrom\u001b[39;00m\u001b[38;5;250m \u001b[39m\u001b[38;5;21;01mstardist\u001b[39;00m\u001b[38;5;21;01m.\u001b[39;00m\u001b[38;5;21;01mmodels\u001b[39;00m\u001b[38;5;250m \u001b[39m\u001b[38;5;28;01mimport\u001b[39;00m StarDist2D\n\u001b[1;32m      6\u001b[0m \u001b[38;5;28;01mfrom\u001b[39;00m\u001b[38;5;250m \u001b[39m\u001b[38;5;21;01mcsbdeep\u001b[39;00m\u001b[38;5;21;01m.\u001b[39;00m\u001b[38;5;21;01mutils\u001b[39;00m\u001b[38;5;250m \u001b[39m\u001b[38;5;28;01mimport\u001b[39;00m normalize\n\u001b[1;32m      7\u001b[0m \u001b[38;5;28;01mfrom\u001b[39;00m\u001b[38;5;250m \u001b[39m\u001b[38;5;21;01mskimage\u001b[39;00m\u001b[38;5;21;01m.\u001b[39;00m\u001b[38;5;21;01mio\u001b[39;00m\u001b[38;5;250m \u001b[39m\u001b[38;5;28;01mimport\u001b[39;00m imread, imshow\n",
      "File \u001b[0;32m~/anaconda3/lib/python3.11/site-packages/stardist/models/__init__.py:3\u001b[0m\n\u001b[1;32m      1\u001b[0m \u001b[38;5;28;01mfrom\u001b[39;00m\u001b[38;5;250m \u001b[39m\u001b[38;5;21;01m__future__\u001b[39;00m\u001b[38;5;250m \u001b[39m\u001b[38;5;28;01mimport\u001b[39;00m absolute_import, print_function\n\u001b[0;32m----> 3\u001b[0m \u001b[38;5;28;01mfrom\u001b[39;00m\u001b[38;5;250m \u001b[39m\u001b[38;5;21;01m.\u001b[39;00m\u001b[38;5;21;01mmodel2d\u001b[39;00m\u001b[38;5;250m \u001b[39m\u001b[38;5;28;01mimport\u001b[39;00m Config2D, StarDist2D, StarDistData2D\n\u001b[1;32m      4\u001b[0m \u001b[38;5;28;01mfrom\u001b[39;00m\u001b[38;5;250m \u001b[39m\u001b[38;5;21;01m.\u001b[39;00m\u001b[38;5;21;01mmodel3d\u001b[39;00m\u001b[38;5;250m \u001b[39m\u001b[38;5;28;01mimport\u001b[39;00m Config3D, StarDist3D, StarDistData3D\n\u001b[1;32m      6\u001b[0m \u001b[38;5;28;01mfrom\u001b[39;00m\u001b[38;5;250m \u001b[39m\u001b[38;5;21;01mcsbdeep\u001b[39;00m\u001b[38;5;21;01m.\u001b[39;00m\u001b[38;5;21;01mutils\u001b[39;00m\u001b[38;5;250m \u001b[39m\u001b[38;5;28;01mimport\u001b[39;00m backend_channels_last\n",
      "File \u001b[0;32m~/anaconda3/lib/python3.11/site-packages/stardist/models/model2d.py:8\u001b[0m\n\u001b[1;32m      5\u001b[0m \u001b[38;5;28;01mimport\u001b[39;00m\u001b[38;5;250m \u001b[39m\u001b[38;5;21;01mmath\u001b[39;00m\n\u001b[1;32m      6\u001b[0m \u001b[38;5;28;01mfrom\u001b[39;00m\u001b[38;5;250m \u001b[39m\u001b[38;5;21;01mtqdm\u001b[39;00m\u001b[38;5;250m \u001b[39m\u001b[38;5;28;01mimport\u001b[39;00m tqdm\n\u001b[0;32m----> 8\u001b[0m \u001b[38;5;28;01mfrom\u001b[39;00m\u001b[38;5;250m \u001b[39m\u001b[38;5;21;01mcsbdeep\u001b[39;00m\u001b[38;5;21;01m.\u001b[39;00m\u001b[38;5;21;01mmodels\u001b[39;00m\u001b[38;5;250m \u001b[39m\u001b[38;5;28;01mimport\u001b[39;00m BaseConfig\n\u001b[1;32m      9\u001b[0m \u001b[38;5;28;01mfrom\u001b[39;00m\u001b[38;5;250m \u001b[39m\u001b[38;5;21;01mcsbdeep\u001b[39;00m\u001b[38;5;21;01m.\u001b[39;00m\u001b[38;5;21;01minternals\u001b[39;00m\u001b[38;5;21;01m.\u001b[39;00m\u001b[38;5;21;01mblocks\u001b[39;00m\u001b[38;5;250m \u001b[39m\u001b[38;5;28;01mimport\u001b[39;00m unet_block\n\u001b[1;32m     10\u001b[0m \u001b[38;5;28;01mfrom\u001b[39;00m\u001b[38;5;250m \u001b[39m\u001b[38;5;21;01mcsbdeep\u001b[39;00m\u001b[38;5;21;01m.\u001b[39;00m\u001b[38;5;21;01mutils\u001b[39;00m\u001b[38;5;250m \u001b[39m\u001b[38;5;28;01mimport\u001b[39;00m _raise, backend_channels_last, axes_check_and_normalize, axes_dict\n",
      "File \u001b[0;32m~/anaconda3/lib/python3.11/site-packages/csbdeep/models/__init__.py:9\u001b[0m\n\u001b[1;32m      7\u001b[0m \u001b[38;5;28;01mexcept\u001b[39;00m \u001b[38;5;167;01mModuleNotFoundError\u001b[39;00m \u001b[38;5;28;01mas\u001b[39;00m e:\n\u001b[1;32m      8\u001b[0m     \u001b[38;5;28;01mfrom\u001b[39;00m\u001b[38;5;250m \u001b[39m\u001b[38;5;21;01msix\u001b[39;00m\u001b[38;5;250m \u001b[39m\u001b[38;5;28;01mimport\u001b[39;00m raise_from\n\u001b[0;32m----> 9\u001b[0m     raise_from(\u001b[38;5;167;01mRuntimeError\u001b[39;00m(\u001b[38;5;124m'\u001b[39m\u001b[38;5;124mPlease install TensorFlow: https://www.tensorflow.org/install/\u001b[39m\u001b[38;5;124m'\u001b[39m), e)\n\u001b[1;32m     12\u001b[0m \u001b[38;5;28;01mimport\u001b[39;00m\u001b[38;5;250m \u001b[39m\u001b[38;5;21;01mtensorflow\u001b[39;00m\u001b[38;5;241m,\u001b[39m\u001b[38;5;250m \u001b[39m\u001b[38;5;21;01msys\u001b[39;00m\n\u001b[1;32m     13\u001b[0m \u001b[38;5;28;01mfrom\u001b[39;00m\u001b[38;5;250m \u001b[39m\u001b[38;5;21;01m.\u001b[39;00m\u001b[38;5;21;01m.\u001b[39;00m\u001b[38;5;21;01mutils\u001b[39;00m\u001b[38;5;21;01m.\u001b[39;00m\u001b[38;5;21;01mtf\u001b[39;00m\u001b[38;5;250m \u001b[39m\u001b[38;5;28;01mimport\u001b[39;00m keras_import, IS_TF_1, BACKEND \u001b[38;5;28;01mas\u001b[39;00m K\n",
      "File \u001b[0;32m<string>:3\u001b[0m, in \u001b[0;36mraise_from\u001b[0;34m(value, from_value)\u001b[0m\n",
      "\u001b[0;31mRuntimeError\u001b[0m: Please install TensorFlow: https://www.tensorflow.org/install/"
     ]
    }
   ],
   "source": [
    "# Install StarDist and dependencies (run once)\n",
    "!pip install stardist csbdeep\n",
    "\n",
    "# Imports\n",
    "from stardist.models import StarDist2D\n",
    "from csbdeep.utils import normalize\n",
    "from skimage.io import imread, imshow\n",
    "import matplotlib.pyplot as plt"
   ]
  },
  {
   "cell_type": "markdown",
   "metadata": {},
   "source": [
    "### When and Why to Use StarDist (vs. Cellpose)\n",
    "| Feature             | StarDist                           | Cellpose                             |\n",
    "| ------------------- | ---------------------------------- | ------------------------------------ |\n",
    "| Best for            | Star-shaped objects (e.g., nuclei) | Irregular shapes (e.g., whole cells) |\n",
    "| Output type         | Star-convex polygons               | Vector flow + mask                   |\n",
    "| Model tuning needed | Less for nucleus images            | Often more adaptable via scale       |\n",
    "| Example datasets    | Fluorescent nucleus images         | Cytoplasm, brightfield, mixed cells  |\n",
    "\n",
    "\n",
    "\n",
    "**Use StarDist if:**\n",
    "- You are segmenting nuclei or small, blob-like organelles.\n",
    "- You need high-quality instance segmentation.\n",
    "= Your objects are mostly round or elliptical."
   ]
  },
  {
   "cell_type": "markdown",
   "metadata": {},
   "source": [
    "### Hands-on: Load and Compare Sample Images"
   ]
  },
  {
   "cell_type": "code",
   "execution_count": null,
   "metadata": {
    "vscode": {
     "languageId": "plaintext"
    }
   },
   "outputs": [],
   "source": [
    "image = imread('https://raw.githubusercontent.com/stardist/stardist/master/examples/images/DSB2018/train/images/0002.tif')\n",
    "plt.figure(figsize=(6,6))\n",
    "plt.imshow(image, cmap='gray')\n",
    "plt.title(\"Sample Nucleus Image\")\n",
    "plt.axis('off')\n",
    "plt.show()"
   ]
  },
  {
   "cell_type": "markdown",
   "metadata": {},
   "source": [
    "## Run Segmentation and Overlay Predictions\n",
    "StarDist uses a pre-trained model (e.g., “2D_versatile_fluo”) to:\n",
    "- Normalize input\n",
    "- Predict polygons\n",
    "- Return label masks\n",
    "- The predicted instance masks can be overlaid on the original image for easy visual inspection.\n",
    "\n",
    "### Hands-on: Apply StarDist Segmentation"
   ]
  },
  {
   "cell_type": "code",
   "execution_count": null,
   "metadata": {
    "vscode": {
     "languageId": "plaintext"
    }
   },
   "outputs": [],
   "source": [
    "# Load pre-trained model\n",
    "model = StarDist2D.from_pretrained('2D_versatile_fluo')\n",
    "\n",
    "# Normalize image\n",
    "img_norm = normalize(image, 1, 99.8, axis=(0,1))\n",
    "\n",
    "# Run prediction\n",
    "labels, _ = model.predict_instances(img_norm)\n",
    "\n",
    "# Show result\n",
    "plt.figure(figsize=(12,6))\n",
    "plt.subplot(1,2,1)\n",
    "plt.imshow(image, cmap='gray')\n",
    "plt.title(\"Original\")\n",
    "plt.axis('off')\n",
    "\n",
    "plt.subplot(1,2,2)\n",
    "plt.imshow(image, cmap='gray')\n",
    "plt.imshow(labels, cmap='jet', alpha=0.5)\n",
    "plt.title(\"StarDist Segmentation Overlay\")\n",
    "plt.axis('off')\n",
    "plt.show()"
   ]
  },
  {
   "cell_type": "markdown",
   "metadata": {},
   "source": [
    "---\n",
    "## Troubleshooting Segmentations\n",
    "\n",
    "Common issues and fixes:\n",
    "- **Too many/few segments:** Try normalizing the input or applying Gaussian blur.\n",
    "- **Merging of touching cells:** StarDist usually handles this well; check normalization.\n",
    "- **Broken segment shapes:** May be due to background noise or unnormalized input.\n",
    "- **Model mismatch:** Try other pre-trained models or retrain if needed.\n",
    "\n",
    "### Hands-on: Troubleshooting Example"
   ]
  },
  {
   "cell_type": "code",
   "execution_count": null,
   "metadata": {
    "vscode": {
     "languageId": "plaintext"
    }
   },
   "outputs": [],
   "source": [
    "# Try with a poorly normalized version\n",
    "img_bad = image / 255.0  # Improper normalization\n",
    "labels_bad, _ = model.predict_instances(img_bad)\n",
    "\n",
    "# Compare with good normalization\n",
    "plt.figure(figsize=(12,6))\n",
    "plt.subplot(1,2,1)\n",
    "plt.imshow(labels_bad, cmap='jet')\n",
    "plt.title(\"Improper Normalization\")\n",
    "\n",
    "plt.subplot(1,2,2)\n",
    "plt.imshow(labels, cmap='jet')\n",
    "plt.title(\"Proper Normalization\")\n",
    "plt.show()"
   ]
  },
  {
   "cell_type": "markdown",
   "metadata": {},
   "source": [
    "### Exercise\n",
    "Segment this image and compare it with StarDist and Cellpose.\n",
    "\n",
    "**URL:** https://github.com/stardist/stardist/raw/master/examples/images/DSB2018/train/images/0006.tif\n",
    "\n",
    "**Tasks:**\n",
    "- Load the image.\n",
    "- Run StarDist segmentation.\n",
    "- Overlay predictions.\n",
    "- Note any challenges or artifacts."
   ]
  },
  {
   "cell_type": "markdown",
   "metadata": {},
   "source": [
    "---\n",
    "## Mini Project\n",
    "**Goal:** Segment nuclei in a real fluorescence microscopy image and export results.\n",
    "\n",
    "**Steps:**\n",
    "- Download a microscopy image from your own lab or from DSB 2018 dataset.\n",
    "- Apply proper normalization.\n",
    "- Use StarDist to generate instance masks.\n",
    "- Overlay masks on the original image.\n",
    "- Save the result as an image.\n",
    "- Export label data to a NumPy array or .tiff file for downstream analysis."
   ]
  },
  {
   "cell_type": "markdown",
   "metadata": {},
   "source": [
    "---\n",
    "## Module Summary\n",
    "\n",
    "| Topic                     | Key Concepts                                   | Skills Gained                                           |\n",
    "| ------------------------- | ---------------------------------------------- | ------------------------------------------------------- |\n",
    "| What is StarDist?         | Star-convex shapes, polygon-based segmentation | Understanding deep learning-based instance segmentation |\n",
    "| StarDist vs. Cellpose     | When to use which, pros/cons                   | Selecting appropriate tools for biological images       |\n",
    "| Run and visualize results | Model loading, normalization, overlays         | Applying StarDist to real images                        |\n",
    "| Troubleshooting           | Normalization, overlapping, background noise   | Diagnosing and correcting segmentation problems         |\n",
    "| Mini Project              | Full pipeline from image to labels             | Practical experience in bioimage analysis workflows     |\n"
   ]
  },
  {
   "cell_type": "markdown",
   "metadata": {},
   "source": []
  }
 ],
 "metadata": {
  "language_info": {
   "codemirror_mode": {
    "name": "ipython",
    "version": 3
   },
   "file_extension": ".py",
   "mimetype": "text/x-python",
   "name": "python",
   "nbconvert_exporter": "python",
   "pygments_lexer": "ipython3",
   "version": "3.11.4"
  }
 },
 "nbformat": 4,
 "nbformat_minor": 2
}