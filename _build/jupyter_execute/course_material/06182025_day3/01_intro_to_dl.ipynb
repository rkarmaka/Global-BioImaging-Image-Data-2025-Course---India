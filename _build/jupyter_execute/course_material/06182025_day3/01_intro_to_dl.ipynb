{
 "cells": [
  {
   "cell_type": "markdown",
   "metadata": {},
   "source": [
    "# A Gentle Introduction to Deep Learning for Microscopy"
   ]
  },
  {
   "cell_type": "markdown",
   "metadata": {},
   "source": [
    "---\n",
    "\n",
    "## Introduction\n",
    "\n",
    "Welcome everyone. Today, we’re going to begin our journey into the world of deep learning—specifically, how it's transforming the way we analyze microscopy images. You don’t need any background in programming or machine learning. My goal is to equip you with just enough intuition and shared vocabulary so that when we move on to using tools like Cellpose and StarDist, you’ll understand not only how they work but why they were developed in the first place.\n"
   ]
  },
  {
   "cell_type": "markdown",
   "metadata": {},
   "source": [
    "---\n",
    "\n",
    "## What is Deep Learning?\n",
    "\n",
    "This section introduces the basic ideas behind deep learning in an intuitive, non-technical way. It aims to explain what neural networks are, how they “learn,” and why these methods are so powerful for tasks like segmentation in biological images."
   ]
  },
  {
   "cell_type": "markdown",
   "metadata": {},
   "source": [
    "### What is a Neural Network?\n",
    "\n",
    "A neural network is a mathematical model inspired by how the brain works. It is made up of layers of units called neurons, which are connected to each other and pass information forward.\n",
    "\n",
    "Each neuron performs a very simple task:\n",
    "1. It takes in numbers as input.\n",
    "2. It combines them in a weighted way (like multiplying by importance).\n",
    "3. It passes the result through a simple function.\n",
    "4. It sends this value to the next layer of neurons.\n",
    "\n",
    "If you stack many such layers on top of each other, you get a deep neural network—hence the term deep learning.\n",
    "\n",
    "\n",
    "![ann image](data/ann.png)\n",
    "\n",
    "*Source: https://towardsdatascience.com/the-concept-of-artificial-neurons-perceptrons-in-neural-networks-fab22249cbfc/*"
   ]
  },
  {
   "cell_type": "markdown",
   "metadata": {},
   "source": [
    "### How Does a Neural Network Learn?\n",
    "Neural networks learn by example, not by rules.\n",
    "\n",
    "Here’s how it works:\n",
    "\n",
    "1. You give the model an image (e.g., of a cell) and the correct answer (a labeled segmentation mask).\n",
    "2. The model makes a guess (its prediction).\n",
    "3. It compares its guess to the correct answer using a loss function (a measure of error).\n",
    "4. It updates its internal settings (weights) to do better next time.\n",
    "\n",
    "This process is called training, and it's repeated over thousands of examples until the network gets good at making predictions."
   ]
  },
  {
   "cell_type": "markdown",
   "metadata": {},
   "source": [
    "### What Makes Deep Learning Different?\n",
    "Traditional algorithms follow explicit instructions that we write. For example:\n",
    "\n",
    "- “If a pixel is brighter than 100, mark it as foreground.”\n",
    "- “Apply a Gaussian blur, then find the edges.”\n",
    "\n",
    "Deep learning, in contrast, learns its own instructions. It creates internal representations of features in the image and decides for itself how to best solve the task. This is powerful because:\n",
    "\n",
    "- It can handle noise and variability.\n",
    "- It finds patterns we might miss.\n",
    "- It doesn’t need us to handcraft every rule.\n",
    "\n",
    "**Key idea:** *We don’t program deep learning models—we train them.*"
   ]
  },
  {
   "cell_type": "markdown",
   "metadata": {},
   "source": [
    "### Why Deep Learning in Microscopy?\n",
    "\n",
    "Traditionally, image segmentation in biology—identifying and outlining cells or nuclei—has been done manually or with classic image processing tools like thresholding, watershed, or morphology filters. These work… sometimes. But as you know, microscopy images vary a lot depending on sample prep, staining, and acquisition.\n",
    "\n",
    "When cells are overlapping, touching, blurry, or oddly shaped, traditional methods often fail. Even manual segmentation can be inconsistent across annotators.\n",
    "\n",
    "Deep learning offers a solution. It can learn from examples what a “cell” looks like—across many shapes, sizes, and imaging modalities. Once trained, these models can generalize and apply that learned knowledge to new, unseen images. That means more consistent results, faster analysis, and better scalability.\n",
    "\n",
    "| Microscopy Challenge                      | How Deep Learning Helps                           |\n",
    "| ----------------------------------------- | ------------------------------------------------- |\n",
    "| Cells are irregular in shape and size     | Learns to recognize diverse morphologies          |\n",
    "| Staining intensity varies                 | Learns robustness to signal variation             |\n",
    "| Images are noisy or low contrast          | Learns to filter out noise and focus on structure |\n",
    "| Objects are touching or overlapping       | Learns object-level context, not just edges       |\n",
    "| Multiple modalities and channels          | Can integrate and process multi-channel data      |\n",
    "| You want consistent, reproducible results | Always gives the same output for the same input   |\n"
   ]
  },
  {
   "cell_type": "markdown",
   "metadata": {},
   "source": [
    "### Key Concepts\n",
    "Let’s define a few foundational terms you’ll hear often in deep learning:\n",
    "\n",
    "| Term              | Description                                                 |\n",
    "| ----------------- | ----------------------------------------------------------- |\n",
    "| **Training**      | Feeding a model many examples so it learns from data        |\n",
    "| **Model**         | A trained neural network that makes predictions             |\n",
    "| **Prediction**    | What the model outputs for a new image                      |\n",
    "| **Loss Function** | A measure of how wrong the model’s prediction is            |\n",
    "| **Segmentation**  | Assigning a label (e.g., “nucleus”) to each pixel           |\n",
    "| **Mask**          | A binary or multi-label image marking the structure         |\n",
    "| **Ground Truth**  | The correct, human-annotated segmentation used for training |\n"
   ]
  }
 ],
 "metadata": {
  "language_info": {
   "codemirror_mode": {
    "name": "ipython",
    "version": 3
   },
   "file_extension": ".py",
   "mimetype": "text/x-python",
   "name": "python",
   "nbconvert_exporter": "python",
   "pygments_lexer": "ipython3",
   "version": "3.11.4"
  }
 },
 "nbformat": 4,
 "nbformat_minor": 2
}