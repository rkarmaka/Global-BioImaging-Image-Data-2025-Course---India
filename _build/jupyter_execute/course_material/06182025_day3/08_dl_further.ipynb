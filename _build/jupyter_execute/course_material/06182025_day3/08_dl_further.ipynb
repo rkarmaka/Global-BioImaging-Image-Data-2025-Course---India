{
 "cells": [
  {
   "cell_type": "markdown",
   "metadata": {},
   "source": [
    "# Building bioimage analysis workflows (ZeroCostDL, Bioimage Zoo)"
   ]
  },
  {
   "cell_type": "markdown",
   "metadata": {},
   "source": [
    "---\n",
    "## What is BioImage.io?\n",
    "\n",
    "### The Vision\n",
    "BioImage.io is an open platform to share, search, and reuse deep learning models designed specifically for bioimage analysis.\n",
    "\n",
    "It’s a response to the growing need for:\n",
    "- Standardization in model metadata and formats\n",
    "- FAIRness: Making models Findable, Accessible, Interoperable, and Reusable\n",
    "- Community contribution and tool interoperability\n",
    "\n",
    "### Key Features\n",
    "- Model Zoo: A collection of ready-to-use DL models (e.g., U-Net, Stardist, CARE, Cellpose)\n",
    "- Rich metadata: Every model includes structured information like input type, output format, training data description, etc.\n",
    "- Interoperability: Models can be used in multiple software environments like:\n",
    "    - Fiji\n",
    "    - QuPath\n",
    "    - Napari\n",
    "    - deepImageJ\n",
    "    - Ilastik\n",
    "\n",
    "### Real-World Analogy\n",
    "Think of it as the “Hugging Face for bioimage models”—a central hub where you can not only find models, but also test them, understand them, and integrate them into your image analysis workflow."
   ]
  },
  {
   "cell_type": "markdown",
   "metadata": {},
   "source": [
    "### Activity\n",
    "Explore the Zoo and find different models. Discuss findings on the different dataset one has.\n",
    "\n",
    "[🚀 Explore the Zoo](https://bioimage.io/#/)"
   ]
  },
  {
   "cell_type": "markdown",
   "metadata": {},
   "source": [
    "---\n",
    "\n",
    "## What is ZeroCostDL4Mic?\n",
    "### The Problem\n",
    "Deep learning promises great results for bioimage analysis—but most wet lab biologists or even image analysts face hurdles:\n",
    "- “I don’t know how to code”\n",
    "- “I can’t install or manage complex packages”\n",
    "- “I don’t have a GPU”\n",
    "- “I don’t understand how to train a model”\n",
    "\n",
    "### The Solution: ZeroCostDL4Mic\n",
    "ZeroCostDL4Mic (ZCDL4Mic) is an open-source collection of Jupyter Notebooks running on Google Colab, designed to:\n",
    "- Democratize DL for microscopy users\n",
    "- Provide step-by-step, plug-and-play notebooks that handle:\n",
    "- Data preparation\n",
    "- Model training (with pretrained weights)\n",
    "- Inference and export\n",
    "\n",
    "### What You Can Do With It:\n",
    "- Train and apply models like:\n",
    "    - U-Net (segmentation)\n",
    "    - CARE (denoising)\n",
    "    - Stardist (instance segmentation)\n",
    "    - Noise2Void (unsupervised denoising)\n",
    "    - Cellpose (generalist segmentation)\n",
    "- Use built-in transfer learning\n",
    "- Save/export models for use in tools like Fiji or for sharing via BioImage.io\n",
    "\n",
    "### Why Google Colab?\n",
    "- Free cloud GPU\n",
    "- No installation required\n",
    "- Only need a Google account\n",
    "\n",
    "### Ecosystem Fit\n",
    "Train with ZeroCostDL4Mic, export to BioImage.io, reuse in Fiji or other tools. These platforms are part of a growing ecosystem for reproducible and accessible DL in microscopy."
   ]
  },
  {
   "cell_type": "markdown",
   "metadata": {},
   "source": [
    "### Activity\n",
    "Explore all the models it has and open one of the Colab Notebooks. Read through the instructions and explore how it works.\n",
    "\n",
    "[🚀 Explore the Models](https://github.com/HenriquesLab/ZeroCostDL4Mic)\n",
    "\n",
    "*Bonus: If you have a dataset handy, try any of the notebooks on your dataset.*"
   ]
  }
 ],
 "metadata": {
  "language_info": {
   "codemirror_mode": {
    "name": "ipython",
    "version": 3
   },
   "file_extension": ".py",
   "mimetype": "text/x-python",
   "name": "python",
   "nbconvert_exporter": "python",
   "pygments_lexer": "ipython3",
   "version": "3.11.4"
  }
 },
 "nbformat": 4,
 "nbformat_minor": 2
}